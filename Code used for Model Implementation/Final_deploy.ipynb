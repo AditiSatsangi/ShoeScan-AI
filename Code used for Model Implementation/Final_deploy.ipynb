{
  "cells": [
    {
      "cell_type": "code",
      "execution_count": null,
      "metadata": {
        "colab": {
          "base_uri": "https://localhost:8080/"
        },
        "id": "l332ofNPWVEN",
        "outputId": "9215b9f6-50f3-4bec-a972-2f16f4be8550"
      },
      "outputs": [
        {
          "output_type": "stream",
          "name": "stdout",
          "text": [
            "Mounted at /content/drive\n"
          ]
        }
      ],
      "source": [
        "from google.colab import drive\n",
        "drive.mount('/content/drive')"
      ]
    },
    {
      "cell_type": "markdown",
      "metadata": {
        "id": "A5_0sEWYyr8a"
      },
      "source": [
        "# Data Collection"
      ]
    },
    {
      "cell_type": "code",
      "execution_count": null,
      "metadata": {
        "colab": {
          "base_uri": "https://localhost:8080/"
        },
        "id": "11SNoe9YaoRf",
        "outputId": "70fb111a-6cdd-4a16-888d-920587d7f475"
      },
      "outputs": [
        {
          "name": "stdout",
          "output_type": "stream",
          "text": [
            "File extracted successfully!\\\n"
          ]
        }
      ],
      "source": [
        "import zipfile\n",
        "\n",
        "# Specify the path to the zip file\n",
        "zip_file_path = '/content/drive/MyDrive/Data_defect.zip' #/kaggle/input/data-shoes/Split_Data-20250130T053624Z-001'\n",
        "\n",
        "extract_dir = '/content/'\n",
        "with zipfile.ZipFile(zip_file_path, 'r') as zip_ref:\n",
        "    zip_ref.extractall(extract_dir)\n",
        "\n",
        "print(\"File extracted successfully!\\\\\")"
      ]
    },
    {
      "cell_type": "code",
      "source": [
        "import zipfile\n",
        "\n",
        "# Specify the path to the zip file\n",
        "zip_file_path = '/content/drive/MyDrive/New_shoe/Data-defect.zip' #/kaggle/input/data-shoes/Split_Data-20250130T053624Z-001'\n",
        "\n",
        "extract_dir = '/content/drive/MyDrive/New_shoe/Data-defect'\n",
        "with zipfile.ZipFile(zip_file_path, 'r') as zip_ref:\n",
        "    zip_ref.extractall(extract_dir)\n",
        "\n",
        "print(\"File extracted successfully!\\\\\")"
      ],
      "metadata": {
        "colab": {
          "base_uri": "https://localhost:8080/"
        },
        "id": "2T8GAgdkiOJr",
        "outputId": "b7684ec9-cece-48d7-a897-0f114e0883e0"
      },
      "execution_count": null,
      "outputs": [
        {
          "output_type": "stream",
          "name": "stdout",
          "text": [
            "File extracted successfully!\\\n"
          ]
        }
      ]
    },
    {
      "cell_type": "code",
      "execution_count": null,
      "metadata": {
        "id": "OY2zUrLtl97A",
        "outputId": "ad993804-5c5d-45e0-f169-f6f522ae30a8"
      },
      "outputs": [
        {
          "name": "stdout",
          "output_type": "stream",
          "text": [
            "/kaggle/input/data-shoes/Split_Data-20250130T053624Z-001 is a directory, not a zip file.\n"
          ]
        }
      ],
      "source": [
        "zip_file_path = '/kaggle/input/data-shoes/Split_Data-20250130T053624Z-001'\n",
        "if os.path.isfile(zip_file_path):\n",
        "    with zipfile.ZipFile(zip_file_path, 'r') as zip_ref:\n",
        "        zip_ref.extractall(extract_dir)\n",
        "else:\n",
        "    print(f\"{zip_file_path} is a directory, not a zip file.\")\n"
      ]
    },
    {
      "cell_type": "code",
      "execution_count": null,
      "metadata": {
        "id": "Re3n5uWll97B",
        "outputId": "1b0e1876-fd86-4b26-e429-0b36c6fb95a2"
      },
      "outputs": [
        {
          "name": "stdout",
          "output_type": "stream",
          "text": [
            "['data-kaggle.yaml', 'Split_Data-20250130T053624Z-001']\n"
          ]
        }
      ],
      "source": [
        "import os\n",
        "\n",
        "# Check the contents of the directory\n",
        "zip_dir = '/kaggle/input/data-shoes/'\n",
        "print(os.listdir(zip_dir))\n"
      ]
    },
    {
      "cell_type": "code",
      "execution_count": null,
      "metadata": {
        "colab": {
          "base_uri": "https://localhost:8080/"
        },
        "id": "Xu6EpUpQyz7_",
        "outputId": "2806c652-b925-46f4-84e2-c1c6c94e3f1a"
      },
      "outputs": [
        {
          "output_type": "stream",
          "name": "stdout",
          "text": [
            "File extracted successfully!\\\n"
          ]
        }
      ],
      "source": [
        "import zipfile\n",
        "\n",
        "# Specify the path to the zip file\n",
        "zip_file_path = '/content/Dataset.zip'\n",
        "\n",
        "extract_dir = '/content/'\n",
        "with zipfile.ZipFile(zip_file_path, 'r') as zip_ref:\n",
        "    zip_ref.extractall(extract_dir)\n",
        "\n",
        "print(\"File extracted successfully!\\\\\")"
      ]
    },
    {
      "cell_type": "code",
      "execution_count": null,
      "metadata": {
        "id": "uAlkPew4cZJ_"
      },
      "outputs": [],
      "source": [
        "import os\n",
        "import numpy as np\n",
        "from tensorflow.keras.preprocessing.image import ImageDataGenerator\n",
        "from tensorflow.keras.applications import MobileNetV2\n",
        "from tensorflow.keras.models import Model\n",
        "from tensorflow.keras.layers import Dense, GlobalAveragePooling2D, Dropout\n",
        "from tensorflow.keras.optimizers import Adam\n",
        "from sklearn.model_selection import train_test_split\n",
        "import tensorflow as tf"
      ]
    },
    {
      "cell_type": "code",
      "source": [],
      "metadata": {
        "id": "T6scjWFvI3f1"
      },
      "execution_count": null,
      "outputs": []
    },
    {
      "cell_type": "markdown",
      "metadata": {
        "id": "4LIeFAsuvw8D"
      },
      "source": [
        "# Data Pre-Processing"
      ]
    },
    {
      "cell_type": "code",
      "execution_count": null,
      "metadata": {
        "id": "zR7pmJTW5KtA"
      },
      "outputs": [],
      "source": [
        "original_images_path= dataset_dir"
      ]
    },
    {
      "cell_type": "code",
      "execution_count": null,
      "metadata": {
        "id": "u3V7zo3HGW4E"
      },
      "outputs": [],
      "source": [
        "import cv2"
      ]
    },
    {
      "cell_type": "code",
      "execution_count": null,
      "metadata": {
        "id": "g2HWUEk8JO0p"
      },
      "outputs": [],
      "source": [
        "categories = ['Normal', 'Defect']  # List of categories"
      ]
    },
    {
      "cell_type": "code",
      "execution_count": null,
      "metadata": {
        "id": "jw1ll98HCSeU"
      },
      "outputs": [],
      "source": [
        "# Path to save the enhanced images\n",
        "enhanced_images_path = '/content/drive/MyDrive/Data_Shoes/Yolo_data/Enhanced'\n",
        "\n",
        "# Create the directory if it doesn't exist\n",
        "if not os.path.exists(enhanced_images_path):\n",
        "    os.makedirs(enhanced_images_path)"
      ]
    },
    {
      "cell_type": "markdown",
      "metadata": {
        "id": "uNE338BsvIJc"
      },
      "source": [
        "## Image Augmentation"
      ]
    },
    {
      "cell_type": "code",
      "execution_count": null,
      "metadata": {
        "collapsed": true,
        "id": "Sbu20gWcM51u"
      },
      "outputs": [],
      "source": [
        "!pip install albumentations"
      ]
    },
    {
      "cell_type": "code",
      "execution_count": null,
      "metadata": {
        "id": "rYerJ16-OD21"
      },
      "outputs": [],
      "source": [
        "import os\n",
        "import cv2\n",
        "import albumentations as A\n",
        "\n",
        "# Paths\n",
        "input_images_path = \"/content/drive/MyDrive/Data_Shoes/Yolo_data/Data/images (1)\"\n",
        "input_labels_path = \"/content/drive/MyDrive/Data_Shoes/Yolo_data/Data/labels (1)\"\n",
        "output_images_path = \"/content/drive/MyDrive/Data_Shoes/Yolo_data/Augmented/images\"\n",
        "output_labels_path = \"/content/drive/MyDrive/Data_Shoes/Yolo_data/Augmented/labels\"\n",
        "\n",
        "# Create output directories if they don't exist\n",
        "os.makedirs(output_images_path, exist_ok=True)\n",
        "os.makedirs(output_labels_path, exist_ok=True)\n",
        "\n",
        "# Augmentation pipeline\n",
        "transform = A.Compose(\n",
        "    [\n",
        "        A.HorizontalFlip(p=0.5),\n",
        "        A.VerticalFlip(p=0.3),\n",
        "        A.Rotate(limit=15, p=0.4),\n",
        "        A.RandomBrightnessContrast(p=0.4),\n",
        "    ],\n",
        "    bbox_params=A.BboxParams(format=\"yolo\", label_fields=[\"class_labels\"]),\n",
        ")\n",
        "\n",
        "# Target number of images for each category\n",
        "target_images_per_category = {\n",
        "    0: 800,  # Normal\n",
        "    1:800,  # Defect\n",
        "}\n",
        "\n",
        "# Categories dictionary\n",
        "categories = {0: \"Normal\", 1: \"Defect\"}\n",
        "\n",
        "# List all image files in the images folder\n",
        "image_files = [f for f in os.listdir(input_images_path) if f.endswith(\".jpg\")]\n",
        "\n",
        "# Function to get the category of an image from its label file\n",
        "def get_category_from_label(label_path):\n",
        "    with open(label_path, \"r\") as f:\n",
        "        lines = f.readlines()\n",
        "        if not lines:  # Check if the label file is empty\n",
        "            return 0  # Assume 'Normal' category if no labels are present\n",
        "        class_id = int(lines[0].split()[0])  # First entry corresponds to the class\n",
        "        return class_id if class_id in categories else 0  # Default to 'Normal' if invalid class_id\n",
        "\n",
        "# Organize images by category\n",
        "images_by_category = {0: [], 1: []}\n",
        "for img_file in image_files:\n",
        "    img_path = os.path.join(input_images_path, img_file)\n",
        "    label_path = os.path.join(input_labels_path, img_file.replace(\".jpg\", \".txt\"))\n",
        "\n",
        "    # Get the category for the image\n",
        "    if os.path.exists(label_path):\n",
        "        category = get_category_from_label(label_path)\n",
        "    else:\n",
        "        category = 0\n",
        "\n",
        "    # Add the image to the appropriate category list\n",
        "    images_by_category[category].append(img_file)\n",
        "\n",
        "# Process each category and augment images to meet the target\n",
        "for category, image_list in images_by_category.items():\n",
        "    category_name = categories[category]\n",
        "    current_image_count = len(image_list)\n",
        "    target_count = target_images_per_category[category]\n",
        "    augmentations_needed = target_count - current_image_count\n",
        "\n",
        "    print(f\"Processing category: {category_name} | Current: {current_image_count}, Target: {target_count}, Needed: {augmentations_needed}\")\n",
        "\n",
        "    if augmentations_needed > 0:\n",
        "        for img_file in image_list:\n",
        "            img_path = os.path.join(input_images_path, img_file)\n",
        "            image = cv2.imread(img_path)\n",
        "\n",
        "            label_path = os.path.join(input_labels_path, img_file.replace(\".jpg\", \".txt\"))\n",
        "            bboxes = []\n",
        "            class_labels = []\n",
        "\n",
        "            # Read bounding boxes if label file exists and is not empty\n",
        "            if os.path.exists(label_path):\n",
        "                with open(label_path, \"r\") as f:\n",
        "                    for line in f.readlines():\n",
        "                        parts = line.strip().split()\n",
        "                        class_id = int(parts[0])\n",
        "                        x_center, y_center, width, height = map(float, parts[1:])\n",
        "                        bboxes.append([x_center, y_center, width, height])\n",
        "                        class_labels.append(class_id)\n",
        "\n",
        "            # Generate the required number of augmentations\n",
        "            for i in range(augmentations_needed):\n",
        "                augmented = transform(image=image, bboxes=bboxes, class_labels=class_labels)\n",
        "                augmented_image = augmented[\"image\"]\n",
        "                augmented_bboxes = augmented[\"bboxes\"]\n",
        "\n",
        "                # Save augmented image\n",
        "                aug_img_name = f\"aug_{category}_{i}_{img_file}\"\n",
        "                cv2.imwrite(os.path.join(output_images_path, aug_img_name), augmented_image)\n",
        "\n",
        "                # Save augmented labels (only if there are bounding boxes)\n",
        "                if augmented_bboxes:\n",
        "                    aug_label_name = f\"aug_{category}_{i}_{img_file.replace('.jpg', '.txt')}\"\n",
        "                    with open(os.path.join(output_labels_path, aug_label_name), \"w\") as f:\n",
        "                        for bbox, class_id in zip(augmented_bboxes, class_labels):\n",
        "                            f.write(f\"{class_id} {bbox[0]} {bbox[1]} {bbox[2]} {bbox[3]}\\n\")\n",
        "\n",
        "                augmentations_needed -= 1\n",
        "                if augmentations_needed == 0:\n",
        "                    break\n",
        "    else:\n",
        "        print(f\"Category '{category_name}' already meets or exceeds the target count. No augmentation needed.\")\n",
        "\n",
        "print(\"Augmentation completed!\")"
      ]
    },
    {
      "cell_type": "code",
      "execution_count": null,
      "metadata": {
        "id": "yCWCY6iBSFog"
      },
      "outputs": [],
      "source": [
        "import os\n",
        "import shutil\n",
        "\n",
        "# Paths\n",
        "original_images_path = \"/content/drive/MyDrive/Data_Shoes/Yolo_data/Data/images\"\n",
        "original_labels_path = \"/content/drive/MyDrive/Data_Shoes/Yolo_data/Data/labels\"\n",
        "augmented_images_path = \"/content/drive/MyDrive/Data_Shoes/Yolo_data/Augmented/images\"\n",
        "augmented_labels_path = \"/content/drive/MyDrive/Data_Shoes/Yolo_data/Augmented/labels\"\n",
        "combined_images_path = \"/content/drive/MyDrive/Data_Shoes/Yolo_data/Combined/images\"\n",
        "combined_labels_path = \"/content/drive/MyDrive/Data_Shoes/Yolo_data/Combined/labels\"\n",
        "\n",
        "# Create combined output directories if they don't exist\n",
        "os.makedirs(combined_images_path, exist_ok=True)\n",
        "os.makedirs(combined_labels_path, exist_ok=True)\n",
        "\n",
        "# Function to copy files from one directory to another\n",
        "def copy_files(src_dir, dest_dir):\n",
        "    for file_name in os.listdir(src_dir):\n",
        "        src_file = os.path.join(src_dir, file_name)\n",
        "        dest_file = os.path.join(dest_dir, file_name)\n",
        "\n",
        "        if os.path.isfile(src_file):\n",
        "            shutil.copy(src_file, dest_file)\n",
        "\n",
        "# Combine original and augmented images\n",
        "print(\"Combining original and augmented images...\")\n",
        "copy_files(original_images_path, combined_images_path)\n",
        "copy_files(augmented_images_path, combined_images_path)\n",
        "\n",
        "# Combine original and augmented labels\n",
        "print(\"Combining original and augmented labels...\")\n",
        "copy_files(original_labels_path, combined_labels_path)\n",
        "copy_files(augmented_labels_path, combined_labels_path)\n",
        "\n",
        "print(\"Combining completed!\")"
      ]
    },
    {
      "cell_type": "code",
      "execution_count": null,
      "metadata": {
        "id": "9V6j0-umSt5V"
      },
      "outputs": [],
      "source": [
        "# Function to count the number of files in a directory\n",
        "def count_files(directory, extension):\n",
        "    return len([f for f in os.listdir(directory) if f.endswith(extension)])\n",
        "\n",
        "# Count images and labels in the combined folders\n",
        "image_count = count_files(combined_images_path, \".jpg\")  # Assuming image files are .jpg\n",
        "label_count = count_files(combined_labels_path, \".txt\")  # Assuming label files are .txt\n",
        "\n",
        "print(f\"Number of images in combined folder: {image_count}\")\n",
        "print(f\"Number of labels in combined folder: {label_count}\")"
      ]
    },
    {
      "cell_type": "code",
      "execution_count": null,
      "metadata": {
        "collapsed": true,
        "id": "giEp5eMEq7js"
      },
      "outputs": [],
      "source": [
        "import os\n",
        "\n",
        "# Define image and label folders\n",
        "image_folder = \"/content/drive/MyDrive/Data_Shoes/Yolo_data/Combined/images\"\n",
        "label_folder = \"/content/drive/MyDrive/Data_Shoes/Yolo_data/Combined/labels\"\n",
        "\n",
        "# Get the list of image and label files\n",
        "images = os.listdir(image_folder)\n",
        "labels = os.listdir(label_folder)\n",
        "\n",
        "# Extract image base names (without extensions) for comparison\n",
        "image_names = [os.path.splitext(image)[0] for image in images]\n",
        "label_names = [os.path.splitext(label)[0] for label in labels]\n",
        "\n",
        "# Find images without labels\n",
        "missing_labels = [image for image in image_names if image not in label_names]\n",
        "\n",
        "# For each image without a label, create a corresponding label file\n",
        "for image in missing_labels:\n",
        "    label_file = image + '.txt'  # The label file will have the same base name as the image\n",
        "    label_path = os.path.join(label_folder, label_file)\n",
        "\n",
        "    # Create a label file indicating \"No Defect\" or leave it blank\n",
        "    with open(label_path, 'w') as file:\n",
        "        file.write(\"Normal\")  # You can leave it blank if needed, or add specific information\n",
        "    print(f\"Created label for {image}: Normal\")\n",
        "\n",
        "print(f\"Number of missing labels created: {len(missing_labels)}\")\n"
      ]
    },
    {
      "cell_type": "markdown",
      "metadata": {
        "id": "251eZ-oxvBCV"
      },
      "source": [
        "## Combined Data"
      ]
    },
    {
      "cell_type": "code",
      "execution_count": null,
      "metadata": {
        "id": "enTRGwrnsfHO"
      },
      "outputs": [],
      "source": [
        "import os\n",
        "\n",
        "# Define image and label folders\n",
        "image_folder = \"/content/drive/MyDrive/Data_Shoes/Yolo_data/Combined/images\"\n",
        "label_folder = \"/content/drive/MyDrive/Data_Shoes/Yolo_data/Combined/labels\"\n",
        "\n",
        "# Get the list of image and label files\n",
        "images = os.listdir(image_folder)\n",
        "labels = os.listdir(label_folder)\n",
        "\n",
        "# Extract image base names (without extensions) for comparison\n",
        "image_names = [os.path.splitext(image)[0] for image in images]\n",
        "label_names = [os.path.splitext(label)[0] for label in labels]\n",
        "\n",
        "# Find extra labels (labels that don't correspond to any image)\n",
        "extra_labels = [label for label in label_names if label not in image_names]\n",
        "\n",
        "# If there is an extra label, remove it\n",
        "for extra_label in extra_labels:\n",
        "    label_path = os.path.join(label_folder, extra_label + '.txt')\n",
        "    if os.path.exists(label_path):\n",
        "        os.remove(label_path)\n",
        "        print(f\"Removed extra label: {extra_label}.txt\")\n",
        "\n",
        "print(f\"Number of extra labels removed: {len(extra_labels)}\")\n"
      ]
    },
    {
      "cell_type": "code",
      "execution_count": null,
      "metadata": {
        "id": "9k_IHwNBrbCX"
      },
      "outputs": [],
      "source": [
        "# Count images and labels in the combined folders\n",
        "image_count = count_files(combined_images_path, \".jpg\")  # Assuming image files are .jpg\n",
        "label_count = count_files(combined_labels_path, \".txt\")  # Assuming label files are .txt\n",
        "\n",
        "print(f\"Number of images in combined folder: {image_count}\")\n",
        "print(f\"Number of labels in combined folder: {label_count}\")"
      ]
    },
    {
      "cell_type": "markdown",
      "metadata": {
        "id": "VZmyFSJju6hr"
      },
      "source": [
        "## Image Enhancement"
      ]
    },
    {
      "cell_type": "code",
      "execution_count": null,
      "metadata": {
        "id": "7Bxc1pv4TrmU"
      },
      "outputs": [],
      "source": [
        "import cv2\n",
        "# Function to adjust contrast and brightness of the image\n",
        "def adjust_contrast(image, alpha= 3,beta=  0.2):\n",
        "    \"\"\"\n",
        "    Increase contrast by adjusting alpha (contrast) and beta (brightness).\n",
        "    :param alpha: Contrast factor (greater than 1 to increase contrast).\n",
        "    :param beta: Brightness factor (can be adjusted for better lighting).\n",
        "    :return: Image with adjusted contrast.\n",
        "    \"\"\"\n",
        "    return cv2.convertScaleAbs(image, alpha=alpha, beta=beta)"
      ]
    },
    {
      "cell_type": "code",
      "execution_count": null,
      "metadata": {
        "id": "u0unifQEToBa"
      },
      "outputs": [],
      "source": [
        "# Load the original and enhanced images\n",
        "import matplotlib.pyplot as plt\n",
        "\n",
        "img = cv2.imread('/content/drive/MyDrive/Data_Shoes/Yolo_data/Combined/images/20211110_185302.jpg') # Removed the extra space\n",
        "enhanced_img = adjust_contrast(img, 3, 0.2)\n",
        "# Convert BGR to RGB for correct display in matplotlib\n",
        "img_rgb = cv2.cvtColor(img, cv2.COLOR_BGR2RGB)\n",
        "enhanced_img_rgb = cv2.cvtColor(enhanced_img, cv2.COLOR_BGR2RGB)\n",
        "\n",
        "# Plot both original and enhanced images\n",
        "plt.figure(figsize=(12, 6))\n",
        "\n",
        "# Original image plot\n",
        "plt.subplot(1, 2, 1)\n",
        "plt.imshow(img_rgb)\n",
        "plt.title(\"Original Image\")\n",
        "plt.axis('off')\n",
        "\n",
        "# Enhanced image plot\n",
        "plt.subplot(1, 2, 2)\n",
        "plt.imshow(enhanced_img_rgb)\n",
        "plt.title(\"Enhanced Image\")\n",
        "plt.axis('off')\n",
        "\n",
        "plt.show()"
      ]
    },
    {
      "cell_type": "code",
      "execution_count": null,
      "metadata": {
        "id": "a4EcKKGxUNOu"
      },
      "outputs": [],
      "source": [
        "3# Load the original and enhanced images\n",
        "import matplotlib.pyplot as plt\n",
        "\n",
        "img = cv2.imread('/content/drive/MyDrive/Data_Shoes/Yolo_data/Combined/images/aug_0_125_20211110_185254.jpg') # Removed the extra space\n",
        "enhanced_img = adjust_contrast(img, 3, 0.2)\n",
        "# Convert BGR to RGB for correct display in matplotlib\n",
        "img_rgb = cv2.cvtColor(img, cv2.COLOR_BGR2RGB)\n",
        "enhanced_img_rgb = cv2.cvtColor(enhanced_img, cv2.COLOR_BGR2RGB)\n",
        "\n",
        "# Plot both original and enhanced images\n",
        "plt.figure(figsize=(12, 6))\n",
        "\n",
        "# Original image plot\n",
        "plt.subplot(1, 2, 1)\n",
        "plt.imshow(img_rgb)\n",
        "plt.title(\"Original Image\")\n",
        "plt.axis('off')\n",
        "\n",
        "# Enhanced image plot\n",
        "plt.subplot(1, 2, 2)\n",
        "plt.imshow(enhanced_img_rgb)\n",
        "plt.title(\"Enhanced Image\")\n",
        "plt.axis('off')\n",
        "\n",
        "plt.show()"
      ]
    },
    {
      "cell_type": "code",
      "execution_count": null,
      "metadata": {
        "id": "0mejnOmHUnce"
      },
      "outputs": [],
      "source": [
        "img = cv2.imread('/content/drive/MyDrive/Data_Shoes/Yolo_data/Combined/images/aug_0_143_20211110_185254.jpg') # Removed the extra space\n",
        "enhanced_img = adjust_contrast(img,3 , 0.2)\n",
        "# Convert BGR to RGB for correct display in matplotlib\n",
        "img_rgb = cv2.cvtColor(img, cv2.COLOR_BGR2RGB)\n",
        "enhanced_img_rgb = cv2.cvtColor(enhanced_img, cv2.COLOR_BGR2RGB)\n",
        "\n",
        "# Plot both original and enhanced images\n",
        "plt.figure(figsize=(12, 6))\n",
        "\n",
        "# Original image plot\n",
        "plt.subplot(1, 2, 1)\n",
        "plt.imshow(img_rgb)\n",
        "plt.title(\"Original Image\")\n",
        "plt.axis('off')\n",
        "\n",
        "# Enhanced image plot\n",
        "plt.subplot(1, 2, 2)\n",
        "plt.imshow(enhanced_img_rgb)\n",
        "plt.title(\"Enhanced Image\")\n",
        "plt.axis('off')\n",
        "\n",
        "plt.show()"
      ]
    },
    {
      "cell_type": "code",
      "execution_count": null,
      "metadata": {
        "id": "PhPG7ux4TguM"
      },
      "outputs": [],
      "source": [
        "import cv2\n",
        "import os\n",
        "from shutil import copyfile\n",
        "\n",
        "# Paths for the Combined images and labels folder\n",
        "combined_images_path = '/content/drive/MyDrive/Data_Shoes/Yolo_data/Combined/images'\n",
        "combined_labels_path = '/content/drive/MyDrive/Data_Shoes/Yolo_data/Combined/labels'\n",
        "\n",
        "# Path to save the enhanced images\n",
        "enhanced_images_path = '/content/drive/MyDrive/Data_Shoes/Yolo_data/Enhanced_data/images'\n",
        "enhanced_labels_path = '/content/drive/MyDrive/Data_Shoes/Yolo_data/Enhanced_data/labels'\n",
        "\n",
        "# Create the directory for enhanced images and labels if they don't exist\n",
        "os.makedirs(enhanced_images_path, exist_ok=True)\n",
        "os.makedirs(enhanced_labels_path, exist_ok=True)\n",
        "\n",
        "# Process the images from the Combined folder\n",
        "def enhance_images_from_combined():\n",
        "    image_files = [f for f in os.listdir(combined_images_path) if f.endswith('.jpg')]\n",
        "\n",
        "    for img_file in image_files:\n",
        "        # Image and label paths\n",
        "        img_path = os.path.join(combined_images_path, img_file)\n",
        "        label_path = os.path.join(combined_labels_path, img_file.replace('.jpg', '.txt'))\n",
        "\n",
        "        # Read the image\n",
        "        image = cv2.imread(img_path)\n",
        "\n",
        "        # Adjust contrast and brightness\n",
        "        enhanced_image = adjust_contrast(image)\n",
        "\n",
        "        # Save the enhanced image to the 'Enhanced' folder\n",
        "        enhanced_img_name = f\"enhanced_{img_file}\"\n",
        "        enhanced_image_path = os.path.join(enhanced_images_path, enhanced_img_name)\n",
        "        cv2.imwrite(enhanced_image_path, enhanced_image)\n",
        "\n",
        "        # Copy the label file (since the label remains the same)\n",
        "        if os.path.exists(label_path):\n",
        "            enhanced_label_name = f\"enhanced_{img_file.replace('.jpg', '.txt')}\"\n",
        "            enhanced_label_path = os.path.join(enhanced_labels_path, enhanced_label_name)\n",
        "            copyfile(label_path, enhanced_label_path)\n",
        "\n",
        "# Run the enhancement function\n",
        "enhance_images_from_combined()\n",
        "\n",
        "# Verify the count of enhanced images and labels\n",
        "enhanced_image_count = len([f for f in os.listdir(enhanced_images_path) if f.endswith('.jpg')])\n",
        "enhanced_label_count = len([f for f in os.listdir(enhanced_labels_path) if f.endswith('.txt')])\n",
        "\n",
        "print(f\"Enhanced images count: {enhanced_image_count}\")\n",
        "print(f\"Enhanced labels count: {enhanced_label_count}\")"
      ]
    },
    {
      "cell_type": "code",
      "execution_count": null,
      "metadata": {
        "id": "Igvbn0oKbda5"
      },
      "outputs": [],
      "source": [
        "# Paths for enhanced images and labels\n",
        "import random\n",
        "enhanced_images_path = '/content/drive/MyDrive/Data_Shoes/Yolo_data/Enhanced_data/images'\n",
        "enhanced_labels_path = '/content/drive/MyDrive/Data_Shoes/Yolo_data/Enhanced_data/labels'\n",
        "\n",
        "# Paths for train and validation split\n",
        "train_images_path = '/content/drive/MyDrive/Data_Shoes/Yolo_data/train/images'\n",
        "train_labels_path = '/content/drive/MyDrive/Data_Shoes/Yolo_data/train/labels'\n",
        "val_images_path = '/content/drive/MyDrive/Data_Shoes/Yolo_data/val/images'\n",
        "val_labels_path = '/content/drive/MyDrive/Data_Shoes/Yolo_data/val/labels'\n",
        "\n",
        "# Create directories for train and validation sets\n",
        "os.makedirs(train_images_path, exist_ok=True)\n",
        "os.makedirs(train_labels_path, exist_ok=True)\n",
        "os.makedirs(val_images_path, exist_ok=True)\n",
        "os.makedirs(val_labels_path, exist_ok=True)\n",
        "\n",
        "# Function to split data into train and test (80-20 split)\n",
        "def train_test_split(image_dir, label_dir, train_img_dir, train_lbl_dir, val_img_dir, val_lbl_dir, split_ratio=0.8):\n",
        "    image_files = [f for f in os.listdir(image_dir) if f.endswith('.jpg')]\n",
        "\n",
        "    # Shuffle the images to randomize\n",
        "    random.shuffle(image_files)\n",
        "\n",
        "    # Calculate the split index\n",
        "    split_index = int(len(image_files) * split_ratio)\n",
        "\n",
        "    # Split the images into training and validation sets\n",
        "    train_images = image_files[:split_index]\n",
        "    val_images = image_files[split_index:]\n",
        "\n",
        "    # Copy the images and labels into respective directories\n",
        "    for img_file in train_images:\n",
        "        shutil.copy(os.path.join(image_dir, img_file), train_img_dir)\n",
        "        shutil.copy(os.path.join(label_dir, img_file.replace('.jpg', '.txt')), train_lbl_dir)\n",
        "\n",
        "    for img_file in val_images:\n",
        "        shutil.copy(os.path.join(image_dir, img_file), val_img_dir)\n",
        "        shutil.copy(os.path.join(label_dir, img_file.replace('.jpg', '.txt')), val_lbl_dir)\n",
        "\n",
        "    print(f\"Train set size: {len(train_images)} images\")\n",
        "    print(f\"Validation set size: {len(val_images)} images\")\n",
        "\n",
        "# Perform the train-test split\n",
        "train_test_split(enhanced_images_path, enhanced_labels_path, train_images_path, train_labels_path, val_images_path, val_labels_path)\n",
        "\n",
        "# Now, create the 'data.yaml' file for YOLOv5\n",
        "\n",
        "# Paths for the YAML file\n",
        "yaml_file_path = '/content/drive/MyDrive/Data_Shoes/Yolo_data/data.yaml'\n",
        "\n",
        "# Number of classes (based on your dataset)\n",
        "num_classes = 2\n",
        "\n",
        "# Define the YAML file content\n",
        "yaml_content = f\"\"\"\n",
        "train: '/content/drive/MyDrive/Data_Shoes/Yolo_data/train/images'\n",
        "val: '/content/drive/MyDrive/Data_Shoes/Yolo_data/val/images'\n",
        "nc: 2\n",
        "names: ['Normal', 'Defect']\n",
        "\"\"\"\n",
        "\n",
        "# Write the YAML file\n",
        "with open(yaml_file_path, 'w') as f:\n",
        "    f.write(yaml_content)\n",
        "\n",
        "print(f\"YOLOv5 data.yaml file created at: {yaml_file_path}\")"
      ]
    },
    {
      "cell_type": "markdown",
      "metadata": {
        "id": "OL2hzu8Cl98M"
      },
      "source": [
        "#Yolov5s"
      ]
    },
    {
      "cell_type": "code",
      "source": [
        "import yaml\n",
        "\n",
        "# Define the data for the YAML file\n",
        "data = {\n",
        "    'train': '/content/Dataset/train/images',\n",
        "    'val': '/content/Dataset/val/images',\n",
        "    'test': '/content/Dataset/test/images',\n",
        "    'nc': 1,\n",
        "    'names': ['Defect']\n",
        "}\n",
        "\n",
        "# Specify the path where you want to save the YAML file\n",
        "yaml_file_path = '/content/data.yaml'\n",
        "\n",
        "# Write the data to the YAML file\n",
        "with open(yaml_file_path, 'w') as yaml_file:\n",
        "    yaml.dump(data, yaml_file)\n",
        "\n",
        "print(f\"YAML file created at: {yaml_file_path}\")\n"
      ],
      "metadata": {
        "colab": {
          "base_uri": "https://localhost:8080/"
        },
        "id": "AkLvY6FUiogm",
        "outputId": "fe8f29fc-9231-4078-cf5c-dcaabe23ea23"
      },
      "execution_count": null,
      "outputs": [
        {
          "output_type": "stream",
          "name": "stdout",
          "text": [
            "YAML file created at: /content/data.yaml\n"
          ]
        }
      ]
    },
    {
      "cell_type": "code",
      "source": [
        "!pip install ultralytics"
      ],
      "metadata": {
        "colab": {
          "base_uri": "https://localhost:8080/"
        },
        "collapsed": true,
        "id": "9Hru-65El2or",
        "outputId": "2baa8bd3-5d85-48cd-dcae-0f1346e625df"
      },
      "execution_count": null,
      "outputs": [
        {
          "output_type": "stream",
          "name": "stdout",
          "text": [
            "Collecting ultralytics\n",
            "  Downloading ultralytics-8.3.94-py3-none-any.whl.metadata (35 kB)\n",
            "Requirement already satisfied: numpy<=2.1.1,>=1.23.0 in /usr/local/lib/python3.11/dist-packages (from ultralytics) (2.0.2)\n",
            "Requirement already satisfied: matplotlib>=3.3.0 in /usr/local/lib/python3.11/dist-packages (from ultralytics) (3.10.0)\n",
            "Requirement already satisfied: opencv-python>=4.6.0 in /usr/local/lib/python3.11/dist-packages (from ultralytics) (4.11.0.86)\n",
            "Requirement already satisfied: pillow>=7.1.2 in /usr/local/lib/python3.11/dist-packages (from ultralytics) (11.1.0)\n",
            "Requirement already satisfied: pyyaml>=5.3.1 in /usr/local/lib/python3.11/dist-packages (from ultralytics) (6.0.2)\n",
            "Requirement already satisfied: requests>=2.23.0 in /usr/local/lib/python3.11/dist-packages (from ultralytics) (2.32.3)\n",
            "Requirement already satisfied: scipy>=1.4.1 in /usr/local/lib/python3.11/dist-packages (from ultralytics) (1.14.1)\n",
            "Requirement already satisfied: torch>=1.8.0 in /usr/local/lib/python3.11/dist-packages (from ultralytics) (2.6.0+cu124)\n",
            "Requirement already satisfied: torchvision>=0.9.0 in /usr/local/lib/python3.11/dist-packages (from ultralytics) (0.21.0+cu124)\n",
            "Requirement already satisfied: tqdm>=4.64.0 in /usr/local/lib/python3.11/dist-packages (from ultralytics) (4.67.1)\n",
            "Requirement already satisfied: psutil in /usr/local/lib/python3.11/dist-packages (from ultralytics) (5.9.5)\n",
            "Requirement already satisfied: py-cpuinfo in /usr/local/lib/python3.11/dist-packages (from ultralytics) (9.0.0)\n",
            "Requirement already satisfied: pandas>=1.1.4 in /usr/local/lib/python3.11/dist-packages (from ultralytics) (2.2.2)\n",
            "Requirement already satisfied: seaborn>=0.11.0 in /usr/local/lib/python3.11/dist-packages (from ultralytics) (0.13.2)\n",
            "Collecting ultralytics-thop>=2.0.0 (from ultralytics)\n",
            "  Downloading ultralytics_thop-2.0.14-py3-none-any.whl.metadata (9.4 kB)\n",
            "Requirement already satisfied: contourpy>=1.0.1 in /usr/local/lib/python3.11/dist-packages (from matplotlib>=3.3.0->ultralytics) (1.3.1)\n",
            "Requirement already satisfied: cycler>=0.10 in /usr/local/lib/python3.11/dist-packages (from matplotlib>=3.3.0->ultralytics) (0.12.1)\n",
            "Requirement already satisfied: fonttools>=4.22.0 in /usr/local/lib/python3.11/dist-packages (from matplotlib>=3.3.0->ultralytics) (4.56.0)\n",
            "Requirement already satisfied: kiwisolver>=1.3.1 in /usr/local/lib/python3.11/dist-packages (from matplotlib>=3.3.0->ultralytics) (1.4.8)\n",
            "Requirement already satisfied: packaging>=20.0 in /usr/local/lib/python3.11/dist-packages (from matplotlib>=3.3.0->ultralytics) (24.2)\n",
            "Requirement already satisfied: pyparsing>=2.3.1 in /usr/local/lib/python3.11/dist-packages (from matplotlib>=3.3.0->ultralytics) (3.2.1)\n",
            "Requirement already satisfied: python-dateutil>=2.7 in /usr/local/lib/python3.11/dist-packages (from matplotlib>=3.3.0->ultralytics) (2.8.2)\n",
            "Requirement already satisfied: pytz>=2020.1 in /usr/local/lib/python3.11/dist-packages (from pandas>=1.1.4->ultralytics) (2025.1)\n",
            "Requirement already satisfied: tzdata>=2022.7 in /usr/local/lib/python3.11/dist-packages (from pandas>=1.1.4->ultralytics) (2025.1)\n",
            "Requirement already satisfied: charset-normalizer<4,>=2 in /usr/local/lib/python3.11/dist-packages (from requests>=2.23.0->ultralytics) (3.4.1)\n",
            "Requirement already satisfied: idna<4,>=2.5 in /usr/local/lib/python3.11/dist-packages (from requests>=2.23.0->ultralytics) (3.10)\n",
            "Requirement already satisfied: urllib3<3,>=1.21.1 in /usr/local/lib/python3.11/dist-packages (from requests>=2.23.0->ultralytics) (2.3.0)\n",
            "Requirement already satisfied: certifi>=2017.4.17 in /usr/local/lib/python3.11/dist-packages (from requests>=2.23.0->ultralytics) (2025.1.31)\n",
            "Requirement already satisfied: filelock in /usr/local/lib/python3.11/dist-packages (from torch>=1.8.0->ultralytics) (3.18.0)\n",
            "Requirement already satisfied: typing-extensions>=4.10.0 in /usr/local/lib/python3.11/dist-packages (from torch>=1.8.0->ultralytics) (4.12.2)\n",
            "Requirement already satisfied: networkx in /usr/local/lib/python3.11/dist-packages (from torch>=1.8.0->ultralytics) (3.4.2)\n",
            "Requirement already satisfied: jinja2 in /usr/local/lib/python3.11/dist-packages (from torch>=1.8.0->ultralytics) (3.1.6)\n",
            "Requirement already satisfied: fsspec in /usr/local/lib/python3.11/dist-packages (from torch>=1.8.0->ultralytics) (2025.3.0)\n",
            "Collecting nvidia-cuda-nvrtc-cu12==12.4.127 (from torch>=1.8.0->ultralytics)\n",
            "  Downloading nvidia_cuda_nvrtc_cu12-12.4.127-py3-none-manylinux2014_x86_64.whl.metadata (1.5 kB)\n",
            "Collecting nvidia-cuda-runtime-cu12==12.4.127 (from torch>=1.8.0->ultralytics)\n",
            "  Downloading nvidia_cuda_runtime_cu12-12.4.127-py3-none-manylinux2014_x86_64.whl.metadata (1.5 kB)\n",
            "Collecting nvidia-cuda-cupti-cu12==12.4.127 (from torch>=1.8.0->ultralytics)\n",
            "  Downloading nvidia_cuda_cupti_cu12-12.4.127-py3-none-manylinux2014_x86_64.whl.metadata (1.6 kB)\n",
            "Collecting nvidia-cudnn-cu12==9.1.0.70 (from torch>=1.8.0->ultralytics)\n",
            "  Downloading nvidia_cudnn_cu12-9.1.0.70-py3-none-manylinux2014_x86_64.whl.metadata (1.6 kB)\n",
            "Collecting nvidia-cublas-cu12==12.4.5.8 (from torch>=1.8.0->ultralytics)\n",
            "  Downloading nvidia_cublas_cu12-12.4.5.8-py3-none-manylinux2014_x86_64.whl.metadata (1.5 kB)\n",
            "Collecting nvidia-cufft-cu12==11.2.1.3 (from torch>=1.8.0->ultralytics)\n",
            "  Downloading nvidia_cufft_cu12-11.2.1.3-py3-none-manylinux2014_x86_64.whl.metadata (1.5 kB)\n",
            "Collecting nvidia-curand-cu12==10.3.5.147 (from torch>=1.8.0->ultralytics)\n",
            "  Downloading nvidia_curand_cu12-10.3.5.147-py3-none-manylinux2014_x86_64.whl.metadata (1.5 kB)\n",
            "Collecting nvidia-cusolver-cu12==11.6.1.9 (from torch>=1.8.0->ultralytics)\n",
            "  Downloading nvidia_cusolver_cu12-11.6.1.9-py3-none-manylinux2014_x86_64.whl.metadata (1.6 kB)\n",
            "Collecting nvidia-cusparse-cu12==12.3.1.170 (from torch>=1.8.0->ultralytics)\n",
            "  Downloading nvidia_cusparse_cu12-12.3.1.170-py3-none-manylinux2014_x86_64.whl.metadata (1.6 kB)\n",
            "Requirement already satisfied: nvidia-cusparselt-cu12==0.6.2 in /usr/local/lib/python3.11/dist-packages (from torch>=1.8.0->ultralytics) (0.6.2)\n",
            "Requirement already satisfied: nvidia-nccl-cu12==2.21.5 in /usr/local/lib/python3.11/dist-packages (from torch>=1.8.0->ultralytics) (2.21.5)\n",
            "Requirement already satisfied: nvidia-nvtx-cu12==12.4.127 in /usr/local/lib/python3.11/dist-packages (from torch>=1.8.0->ultralytics) (12.4.127)\n",
            "Collecting nvidia-nvjitlink-cu12==12.4.127 (from torch>=1.8.0->ultralytics)\n",
            "  Downloading nvidia_nvjitlink_cu12-12.4.127-py3-none-manylinux2014_x86_64.whl.metadata (1.5 kB)\n",
            "Requirement already satisfied: triton==3.2.0 in /usr/local/lib/python3.11/dist-packages (from torch>=1.8.0->ultralytics) (3.2.0)\n",
            "Requirement already satisfied: sympy==1.13.1 in /usr/local/lib/python3.11/dist-packages (from torch>=1.8.0->ultralytics) (1.13.1)\n",
            "Requirement already satisfied: mpmath<1.4,>=1.1.0 in /usr/local/lib/python3.11/dist-packages (from sympy==1.13.1->torch>=1.8.0->ultralytics) (1.3.0)\n",
            "Requirement already satisfied: six>=1.5 in /usr/local/lib/python3.11/dist-packages (from python-dateutil>=2.7->matplotlib>=3.3.0->ultralytics) (1.17.0)\n",
            "Requirement already satisfied: MarkupSafe>=2.0 in /usr/local/lib/python3.11/dist-packages (from jinja2->torch>=1.8.0->ultralytics) (3.0.2)\n",
            "Downloading ultralytics-8.3.94-py3-none-any.whl (949 kB)\n",
            "\u001b[2K   \u001b[90m━━━━━━━━━━━━━━━━━━━━━━━━━━━━━━━━━━━━━━━━\u001b[0m \u001b[32m949.8/949.8 kB\u001b[0m \u001b[31m25.1 MB/s\u001b[0m eta \u001b[36m0:00:00\u001b[0m\n",
            "\u001b[?25hDownloading nvidia_cublas_cu12-12.4.5.8-py3-none-manylinux2014_x86_64.whl (363.4 MB)\n",
            "\u001b[2K   \u001b[90m━━━━━━━━━━━━━━━━━━━━━━━━━━━━━━━━━━━━━━━━\u001b[0m \u001b[32m363.4/363.4 MB\u001b[0m \u001b[31m4.1 MB/s\u001b[0m eta \u001b[36m0:00:00\u001b[0m\n",
            "\u001b[?25hDownloading nvidia_cuda_cupti_cu12-12.4.127-py3-none-manylinux2014_x86_64.whl (13.8 MB)\n",
            "\u001b[2K   \u001b[90m━━━━━━━━━━━━━━━━━━━━━━━━━━━━━━━━━━━━━━━━\u001b[0m \u001b[32m13.8/13.8 MB\u001b[0m \u001b[31m106.4 MB/s\u001b[0m eta \u001b[36m0:00:00\u001b[0m\n",
            "\u001b[?25hDownloading nvidia_cuda_nvrtc_cu12-12.4.127-py3-none-manylinux2014_x86_64.whl (24.6 MB)\n",
            "\u001b[2K   \u001b[90m━━━━━━━━━━━━━━━━━━━━━━━━━━━━━━━━━━━━━━━━\u001b[0m \u001b[32m24.6/24.6 MB\u001b[0m \u001b[31m90.1 MB/s\u001b[0m eta \u001b[36m0:00:00\u001b[0m\n",
            "\u001b[?25hDownloading nvidia_cuda_runtime_cu12-12.4.127-py3-none-manylinux2014_x86_64.whl (883 kB)\n",
            "\u001b[2K   \u001b[90m━━━━━━━━━━━━━━━━━━━━━━━━━━━━━━━━━━━━━━━━\u001b[0m \u001b[32m883.7/883.7 kB\u001b[0m \u001b[31m46.2 MB/s\u001b[0m eta \u001b[36m0:00:00\u001b[0m\n",
            "\u001b[?25hDownloading nvidia_cudnn_cu12-9.1.0.70-py3-none-manylinux2014_x86_64.whl (664.8 MB)\n",
            "\u001b[2K   \u001b[90m━━━━━━━━━━━━━━━━━━━━━━━━━━━━━━━━━━━━━━━━\u001b[0m \u001b[32m664.8/664.8 MB\u001b[0m \u001b[31m2.9 MB/s\u001b[0m eta \u001b[36m0:00:00\u001b[0m\n",
            "\u001b[?25hDownloading nvidia_cufft_cu12-11.2.1.3-py3-none-manylinux2014_x86_64.whl (211.5 MB)\n",
            "\u001b[2K   \u001b[90m━━━━━━━━━━━━━━━━━━━━━━━━━━━━━━━━━━━━━━━━\u001b[0m \u001b[32m211.5/211.5 MB\u001b[0m \u001b[31m5.5 MB/s\u001b[0m eta \u001b[36m0:00:00\u001b[0m\n",
            "\u001b[?25hDownloading nvidia_curand_cu12-10.3.5.147-py3-none-manylinux2014_x86_64.whl (56.3 MB)\n",
            "\u001b[2K   \u001b[90m━━━━━━━━━━━━━━━━━━━━━━━━━━━━━━━━━━━━━━━━\u001b[0m \u001b[32m56.3/56.3 MB\u001b[0m \u001b[31m20.3 MB/s\u001b[0m eta \u001b[36m0:00:00\u001b[0m\n",
            "\u001b[?25hDownloading nvidia_cusolver_cu12-11.6.1.9-py3-none-manylinux2014_x86_64.whl (127.9 MB)\n",
            "\u001b[2K   \u001b[90m━━━━━━━━━━━━━━━━━━━━━━━━━━━━━━━━━━━━━━━━\u001b[0m \u001b[32m127.9/127.9 MB\u001b[0m \u001b[31m7.2 MB/s\u001b[0m eta \u001b[36m0:00:00\u001b[0m\n",
            "\u001b[?25hDownloading nvidia_cusparse_cu12-12.3.1.170-py3-none-manylinux2014_x86_64.whl (207.5 MB)\n",
            "\u001b[2K   \u001b[90m━━━━━━━━━━━━━━━━━━━━━━━━━━━━━━━━━━━━━━━━\u001b[0m \u001b[32m207.5/207.5 MB\u001b[0m \u001b[31m6.1 MB/s\u001b[0m eta \u001b[36m0:00:00\u001b[0m\n",
            "\u001b[?25hDownloading nvidia_nvjitlink_cu12-12.4.127-py3-none-manylinux2014_x86_64.whl (21.1 MB)\n",
            "\u001b[2K   \u001b[90m━━━━━━━━━━━━━━━━━━━━━━━━━━━━━━━━━━━━━━━━\u001b[0m \u001b[32m21.1/21.1 MB\u001b[0m \u001b[31m70.9 MB/s\u001b[0m eta \u001b[36m0:00:00\u001b[0m\n",
            "\u001b[?25hDownloading ultralytics_thop-2.0.14-py3-none-any.whl (26 kB)\n",
            "Installing collected packages: nvidia-nvjitlink-cu12, nvidia-curand-cu12, nvidia-cufft-cu12, nvidia-cuda-runtime-cu12, nvidia-cuda-nvrtc-cu12, nvidia-cuda-cupti-cu12, nvidia-cublas-cu12, nvidia-cusparse-cu12, nvidia-cudnn-cu12, nvidia-cusolver-cu12, ultralytics-thop, ultralytics\n",
            "  Attempting uninstall: nvidia-nvjitlink-cu12\n",
            "    Found existing installation: nvidia-nvjitlink-cu12 12.5.82\n",
            "    Uninstalling nvidia-nvjitlink-cu12-12.5.82:\n",
            "      Successfully uninstalled nvidia-nvjitlink-cu12-12.5.82\n",
            "  Attempting uninstall: nvidia-curand-cu12\n",
            "    Found existing installation: nvidia-curand-cu12 10.3.6.82\n",
            "    Uninstalling nvidia-curand-cu12-10.3.6.82:\n",
            "      Successfully uninstalled nvidia-curand-cu12-10.3.6.82\n",
            "  Attempting uninstall: nvidia-cufft-cu12\n",
            "    Found existing installation: nvidia-cufft-cu12 11.2.3.61\n",
            "    Uninstalling nvidia-cufft-cu12-11.2.3.61:\n",
            "      Successfully uninstalled nvidia-cufft-cu12-11.2.3.61\n",
            "  Attempting uninstall: nvidia-cuda-runtime-cu12\n",
            "    Found existing installation: nvidia-cuda-runtime-cu12 12.5.82\n",
            "    Uninstalling nvidia-cuda-runtime-cu12-12.5.82:\n",
            "      Successfully uninstalled nvidia-cuda-runtime-cu12-12.5.82\n",
            "  Attempting uninstall: nvidia-cuda-nvrtc-cu12\n",
            "    Found existing installation: nvidia-cuda-nvrtc-cu12 12.5.82\n",
            "    Uninstalling nvidia-cuda-nvrtc-cu12-12.5.82:\n",
            "      Successfully uninstalled nvidia-cuda-nvrtc-cu12-12.5.82\n",
            "  Attempting uninstall: nvidia-cuda-cupti-cu12\n",
            "    Found existing installation: nvidia-cuda-cupti-cu12 12.5.82\n",
            "    Uninstalling nvidia-cuda-cupti-cu12-12.5.82:\n",
            "      Successfully uninstalled nvidia-cuda-cupti-cu12-12.5.82\n",
            "  Attempting uninstall: nvidia-cublas-cu12\n",
            "    Found existing installation: nvidia-cublas-cu12 12.5.3.2\n",
            "    Uninstalling nvidia-cublas-cu12-12.5.3.2:\n",
            "      Successfully uninstalled nvidia-cublas-cu12-12.5.3.2\n",
            "  Attempting uninstall: nvidia-cusparse-cu12\n",
            "    Found existing installation: nvidia-cusparse-cu12 12.5.1.3\n",
            "    Uninstalling nvidia-cusparse-cu12-12.5.1.3:\n",
            "      Successfully uninstalled nvidia-cusparse-cu12-12.5.1.3\n",
            "  Attempting uninstall: nvidia-cudnn-cu12\n",
            "    Found existing installation: nvidia-cudnn-cu12 9.3.0.75\n",
            "    Uninstalling nvidia-cudnn-cu12-9.3.0.75:\n",
            "      Successfully uninstalled nvidia-cudnn-cu12-9.3.0.75\n",
            "  Attempting uninstall: nvidia-cusolver-cu12\n",
            "    Found existing installation: nvidia-cusolver-cu12 11.6.3.83\n",
            "    Uninstalling nvidia-cusolver-cu12-11.6.3.83:\n",
            "      Successfully uninstalled nvidia-cusolver-cu12-11.6.3.83\n",
            "Successfully installed nvidia-cublas-cu12-12.4.5.8 nvidia-cuda-cupti-cu12-12.4.127 nvidia-cuda-nvrtc-cu12-12.4.127 nvidia-cuda-runtime-cu12-12.4.127 nvidia-cudnn-cu12-9.1.0.70 nvidia-cufft-cu12-11.2.1.3 nvidia-curand-cu12-10.3.5.147 nvidia-cusolver-cu12-11.6.1.9 nvidia-cusparse-cu12-12.3.1.170 nvidia-nvjitlink-cu12-12.4.127 ultralytics-8.3.94 ultralytics-thop-2.0.14\n"
          ]
        }
      ]
    },
    {
      "cell_type": "code",
      "source": [
        "cat /content/data.yaml\n"
      ],
      "metadata": {
        "colab": {
          "base_uri": "https://localhost:8080/"
        },
        "id": "q1Wbw2JXnXjJ",
        "outputId": "c6c694df-49f0-4f3c-d771-55d29cdcda65"
      },
      "execution_count": null,
      "outputs": [
        {
          "output_type": "stream",
          "name": "stdout",
          "text": [
            "train: '/content/Dataset/train/images'\n",
            "val: '/content/Dataset/val/images'\n",
            "test: '/content/Dataset/test/images'\n",
            "nc: 1\n",
            "names: ['Defect']\n"
          ]
        }
      ]
    },
    {
      "cell_type": "code",
      "execution_count": null,
      "metadata": {
        "id": "CPHKYYoxl98P",
        "colab": {
          "base_uri": "https://localhost:8080/"
        },
        "outputId": "b35a834a-ee72-4dea-ef2b-e94e136d414e"
      },
      "outputs": [
        {
          "output_type": "stream",
          "name": "stdout",
          "text": [
            "Ultralytics 8.3.94 🚀 Python-3.11.11 torch-2.6.0+cu124 CUDA:0 (Tesla T4, 15095MiB)\n",
            "\u001b[34m\u001b[1mengine/trainer: \u001b[0mtask=detect, mode=train, model=yolov8s.pt, data=/content/data.yaml, epochs=30, time=None, patience=100, batch=16, imgsz=640, save=True, save_period=-1, cache=False, device=cuda, workers=8, project=None, name=train4, exist_ok=False, pretrained=True, optimizer=AdamW, verbose=True, seed=0, deterministic=True, single_cls=False, rect=False, cos_lr=False, close_mosaic=10, resume=False, amp=True, fraction=1.0, profile=False, freeze=[0, 1, 2], multi_scale=False, overlap_mask=True, mask_ratio=4, dropout=0.0, val=True, split=val, save_json=False, save_hybrid=False, conf=None, iou=0.7, max_det=300, half=False, dnn=False, plots=True, source=None, vid_stride=1, stream_buffer=False, visualize=False, augment=True, agnostic_nms=False, classes=None, retina_masks=False, embed=None, show=False, save_frames=False, save_txt=False, save_conf=False, save_crop=False, show_labels=True, show_conf=True, show_boxes=True, line_width=None, format=torchscript, keras=False, optimize=False, int8=False, dynamic=False, simplify=True, opset=None, workspace=None, nms=False, lr0=0.001, lrf=0.01, momentum=0.937, weight_decay=0.0005, warmup_epochs=3.0, warmup_momentum=0.8, warmup_bias_lr=0.1, box=7.5, cls=0.5, dfl=1.5, pose=12.0, kobj=1.0, nbs=64, hsv_h=0.015, hsv_s=0.7, hsv_v=0.4, degrees=0.0, translate=0.1, scale=0.5, shear=0.0, perspective=0.0, flipud=0.0, fliplr=0.5, bgr=0.0, mosaic=1.0, mixup=0.0, copy_paste=0.0, copy_paste_mode=flip, auto_augment=randaugment, erasing=0.4, crop_fraction=1.0, cfg=None, tracker=botsort.yaml, save_dir=runs/detect/train4\n",
            "Overriding model.yaml nc=80 with nc=1\n",
            "\n",
            "                   from  n    params  module                                       arguments                     \n",
            "  0                  -1  1       928  ultralytics.nn.modules.conv.Conv             [3, 32, 3, 2]                 \n",
            "  1                  -1  1     18560  ultralytics.nn.modules.conv.Conv             [32, 64, 3, 2]                \n",
            "  2                  -1  1     29056  ultralytics.nn.modules.block.C2f             [64, 64, 1, True]             \n",
            "  3                  -1  1     73984  ultralytics.nn.modules.conv.Conv             [64, 128, 3, 2]               \n",
            "  4                  -1  2    197632  ultralytics.nn.modules.block.C2f             [128, 128, 2, True]           \n",
            "  5                  -1  1    295424  ultralytics.nn.modules.conv.Conv             [128, 256, 3, 2]              \n",
            "  6                  -1  2    788480  ultralytics.nn.modules.block.C2f             [256, 256, 2, True]           \n",
            "  7                  -1  1   1180672  ultralytics.nn.modules.conv.Conv             [256, 512, 3, 2]              \n",
            "  8                  -1  1   1838080  ultralytics.nn.modules.block.C2f             [512, 512, 1, True]           \n",
            "  9                  -1  1    656896  ultralytics.nn.modules.block.SPPF            [512, 512, 5]                 \n",
            " 10                  -1  1         0  torch.nn.modules.upsampling.Upsample         [None, 2, 'nearest']          \n",
            " 11             [-1, 6]  1         0  ultralytics.nn.modules.conv.Concat           [1]                           \n",
            " 12                  -1  1    591360  ultralytics.nn.modules.block.C2f             [768, 256, 1]                 \n",
            " 13                  -1  1         0  torch.nn.modules.upsampling.Upsample         [None, 2, 'nearest']          \n",
            " 14             [-1, 4]  1         0  ultralytics.nn.modules.conv.Concat           [1]                           \n",
            " 15                  -1  1    148224  ultralytics.nn.modules.block.C2f             [384, 128, 1]                 \n",
            " 16                  -1  1    147712  ultralytics.nn.modules.conv.Conv             [128, 128, 3, 2]              \n",
            " 17            [-1, 12]  1         0  ultralytics.nn.modules.conv.Concat           [1]                           \n",
            " 18                  -1  1    493056  ultralytics.nn.modules.block.C2f             [384, 256, 1]                 \n",
            " 19                  -1  1    590336  ultralytics.nn.modules.conv.Conv             [256, 256, 3, 2]              \n",
            " 20             [-1, 9]  1         0  ultralytics.nn.modules.conv.Concat           [1]                           \n",
            " 21                  -1  1   1969152  ultralytics.nn.modules.block.C2f             [768, 512, 1]                 \n",
            " 22        [15, 18, 21]  1   2116435  ultralytics.nn.modules.head.Detect           [1, [128, 256, 512]]          \n",
            "Model summary: 129 layers, 11,135,987 parameters, 11,135,971 gradients, 28.6 GFLOPs\n",
            "\n",
            "Transferred 349/355 items from pretrained weights\n",
            "\u001b[34m\u001b[1mTensorBoard: \u001b[0mStart with 'tensorboard --logdir runs/detect/train4', view at http://localhost:6006/\n",
            "Freezing layer 'model.0.conv.weight'\n",
            "Freezing layer 'model.0.bn.weight'\n",
            "Freezing layer 'model.0.bn.bias'\n",
            "Freezing layer 'model.1.conv.weight'\n",
            "Freezing layer 'model.1.bn.weight'\n",
            "Freezing layer 'model.1.bn.bias'\n",
            "Freezing layer 'model.2.cv1.conv.weight'\n",
            "Freezing layer 'model.2.cv1.bn.weight'\n",
            "Freezing layer 'model.2.cv1.bn.bias'\n",
            "Freezing layer 'model.2.cv2.conv.weight'\n",
            "Freezing layer 'model.2.cv2.bn.weight'\n",
            "Freezing layer 'model.2.cv2.bn.bias'\n",
            "Freezing layer 'model.2.m.0.cv1.conv.weight'\n",
            "Freezing layer 'model.2.m.0.cv1.bn.weight'\n",
            "Freezing layer 'model.2.m.0.cv1.bn.bias'\n",
            "Freezing layer 'model.2.m.0.cv2.conv.weight'\n",
            "Freezing layer 'model.2.m.0.cv2.bn.weight'\n",
            "Freezing layer 'model.2.m.0.cv2.bn.bias'\n",
            "Freezing layer 'model.22.dfl.conv.weight'\n",
            "\u001b[34m\u001b[1mAMP: \u001b[0mrunning Automatic Mixed Precision (AMP) checks...\n",
            "\u001b[34m\u001b[1mAMP: \u001b[0mchecks passed ✅\n"
          ]
        },
        {
          "output_type": "stream",
          "name": "stderr",
          "text": [
            "\u001b[34m\u001b[1mtrain: \u001b[0mScanning /content/drive/MyDrive/New_shoe/Data-defect/Data-defect/train-def/labels... 1440 images, 720 backgrounds, 4 corrupt: 100%|██████████| 1440/1440 [00:23<00:00, 61.17it/s] "
          ]
        },
        {
          "output_type": "stream",
          "name": "stdout",
          "text": [
            "\u001b[34m\u001b[1mtrain: \u001b[0mWARNING ⚠️ /content/drive/MyDrive/New_shoe/Data-defect/Data-defect/train-def/images/aug_28_20211201_092710.jpg: ignoring corrupt image/label: Label class 1 exceeds dataset class count 1. Possible class labels are 0-0\n",
            "\u001b[34m\u001b[1mtrain: \u001b[0mWARNING ⚠️ /content/drive/MyDrive/New_shoe/Data-defect/Data-defect/train-def/images/aug_437_20211201_092710.jpg: ignoring corrupt image/label: Label class 1 exceeds dataset class count 1. Possible class labels are 0-0\n",
            "\u001b[34m\u001b[1mtrain: \u001b[0mWARNING ⚠️ /content/drive/MyDrive/New_shoe/Data-defect/Data-defect/train-def/images/aug_732_20211201_092710.jpg: ignoring corrupt image/label: Label class 1 exceeds dataset class count 1. Possible class labels are 0-0\n",
            "\u001b[34m\u001b[1mtrain: \u001b[0mWARNING ⚠️ /content/drive/MyDrive/New_shoe/Data-defect/Data-defect/train-def/images/aug_896_20211201_092710.jpg: ignoring corrupt image/label: Label class 1 exceeds dataset class count 1. Possible class labels are 0-0\n"
          ]
        },
        {
          "output_type": "stream",
          "name": "stderr",
          "text": [
            "\n"
          ]
        },
        {
          "output_type": "stream",
          "name": "stdout",
          "text": [
            "\u001b[34m\u001b[1mtrain: \u001b[0mNew cache created: /content/drive/MyDrive/New_shoe/Data-defect/Data-defect/train-def/labels.cache\n",
            "\u001b[34m\u001b[1malbumentations: \u001b[0mBlur(p=0.01, blur_limit=(3, 7)), MedianBlur(p=0.01, blur_limit=(3, 7)), ToGray(p=0.01, num_output_channels=3, method='weighted_average'), CLAHE(p=0.01, clip_limit=(1.0, 4.0), tile_grid_size=(8, 8))\n"
          ]
        },
        {
          "output_type": "stream",
          "name": "stderr",
          "text": [
            "\u001b[34m\u001b[1mval: \u001b[0mScanning /content/drive/MyDrive/New_shoe/Data-defect/Data-defect/val/labels... 180 images, 92 backgrounds, 0 corrupt: 100%|██████████| 180/180 [00:02<00:00, 63.50it/s]\n"
          ]
        },
        {
          "output_type": "stream",
          "name": "stdout",
          "text": [
            "\u001b[34m\u001b[1mval: \u001b[0mNew cache created: /content/drive/MyDrive/New_shoe/Data-defect/Data-defect/val/labels.cache\n",
            "Plotting labels to runs/detect/train4/labels.jpg... \n",
            "\u001b[34m\u001b[1moptimizer:\u001b[0m AdamW(lr=0.001, momentum=0.937) with parameter groups 57 weight(decay=0.0), 64 weight(decay=0.0005), 63 bias(decay=0.0)\n",
            "\u001b[34m\u001b[1mTensorBoard: \u001b[0mmodel graph visualization added ✅\n",
            "Image sizes 640 train, 640 val\n",
            "Using 2 dataloader workers\n",
            "Logging results to \u001b[1mruns/detect/train4\u001b[0m\n",
            "Starting training for 30 epochs...\n",
            "\n",
            "      Epoch    GPU_mem   box_loss   cls_loss   dfl_loss  Instances       Size\n"
          ]
        },
        {
          "output_type": "stream",
          "name": "stderr",
          "text": [
            "       1/30      3.57G      2.807      4.983      2.455         14        640: 100%|██████████| 90/90 [02:28<00:00,  1.65s/it]\n",
            "                 Class     Images  Instances      Box(P          R      mAP50  mAP50-95): 100%|██████████| 6/6 [00:10<00:00,  1.68s/it]"
          ]
        },
        {
          "output_type": "stream",
          "name": "stdout",
          "text": [
            "                   all        180        116      0.374      0.386        0.3     0.0847\n"
          ]
        },
        {
          "output_type": "stream",
          "name": "stderr",
          "text": [
            "\n"
          ]
        },
        {
          "output_type": "stream",
          "name": "stdout",
          "text": [
            "\n",
            "      Epoch    GPU_mem   box_loss   cls_loss   dfl_loss  Instances       Size\n"
          ]
        },
        {
          "output_type": "stream",
          "name": "stderr",
          "text": [
            "       2/30      3.61G      2.253      2.491      2.059         13        640: 100%|██████████| 90/90 [02:41<00:00,  1.79s/it]\n",
            "                 Class     Images  Instances      Box(P          R      mAP50  mAP50-95): 100%|██████████| 6/6 [00:09<00:00,  1.59s/it]"
          ]
        },
        {
          "output_type": "stream",
          "name": "stdout",
          "text": [
            "                   all        180        116      0.329       0.31       0.25     0.0982\n"
          ]
        },
        {
          "output_type": "stream",
          "name": "stderr",
          "text": [
            "\n"
          ]
        },
        {
          "output_type": "stream",
          "name": "stdout",
          "text": [
            "\n",
            "      Epoch    GPU_mem   box_loss   cls_loss   dfl_loss  Instances       Size\n"
          ]
        },
        {
          "output_type": "stream",
          "name": "stderr",
          "text": [
            "       3/30      3.64G      2.168      2.234      1.998          5        640: 100%|██████████| 90/90 [02:43<00:00,  1.82s/it]\n",
            "                 Class     Images  Instances      Box(P          R      mAP50  mAP50-95): 100%|██████████| 6/6 [00:12<00:00,  2.02s/it]"
          ]
        },
        {
          "output_type": "stream",
          "name": "stdout",
          "text": [
            "                   all        180        116      0.378      0.474       0.36      0.142\n"
          ]
        },
        {
          "output_type": "stream",
          "name": "stderr",
          "text": [
            "\n"
          ]
        },
        {
          "output_type": "stream",
          "name": "stdout",
          "text": [
            "\n",
            "      Epoch    GPU_mem   box_loss   cls_loss   dfl_loss  Instances       Size\n"
          ]
        },
        {
          "output_type": "stream",
          "name": "stderr",
          "text": [
            "       4/30      3.68G      2.082      2.129      1.967          9        640: 100%|██████████| 90/90 [02:34<00:00,  1.72s/it]\n",
            "                 Class     Images  Instances      Box(P          R      mAP50  mAP50-95): 100%|██████████| 6/6 [00:12<00:00,  2.02s/it]"
          ]
        },
        {
          "output_type": "stream",
          "name": "stdout",
          "text": [
            "                   all        180        116      0.467      0.397      0.403      0.147\n"
          ]
        },
        {
          "output_type": "stream",
          "name": "stderr",
          "text": [
            "\n"
          ]
        },
        {
          "output_type": "stream",
          "name": "stdout",
          "text": [
            "\n",
            "      Epoch    GPU_mem   box_loss   cls_loss   dfl_loss  Instances       Size\n"
          ]
        },
        {
          "output_type": "stream",
          "name": "stderr",
          "text": [
            "       5/30      3.72G      2.006      1.956      1.868         14        640: 100%|██████████| 90/90 [02:37<00:00,  1.75s/it]\n",
            "                 Class     Images  Instances      Box(P          R      mAP50  mAP50-95): 100%|██████████| 6/6 [00:08<00:00,  1.48s/it]"
          ]
        },
        {
          "output_type": "stream",
          "name": "stdout",
          "text": [
            "                   all        180        116      0.534      0.563      0.504      0.216\n"
          ]
        },
        {
          "output_type": "stream",
          "name": "stderr",
          "text": [
            "\n"
          ]
        },
        {
          "output_type": "stream",
          "name": "stdout",
          "text": [
            "\n",
            "      Epoch    GPU_mem   box_loss   cls_loss   dfl_loss  Instances       Size\n"
          ]
        },
        {
          "output_type": "stream",
          "name": "stderr",
          "text": [
            "       6/30      3.76G      1.976      1.857      1.856          5        640: 100%|██████████| 90/90 [03:25<00:00,  2.28s/it]\n",
            "                 Class     Images  Instances      Box(P          R      mAP50  mAP50-95): 100%|██████████| 6/6 [00:07<00:00,  1.25s/it]"
          ]
        },
        {
          "output_type": "stream",
          "name": "stdout",
          "text": [
            "                   all        180        116      0.506        0.5      0.499      0.216\n"
          ]
        },
        {
          "output_type": "stream",
          "name": "stderr",
          "text": [
            "\n"
          ]
        },
        {
          "output_type": "stream",
          "name": "stdout",
          "text": [
            "\n",
            "      Epoch    GPU_mem   box_loss   cls_loss   dfl_loss  Instances       Size\n"
          ]
        },
        {
          "output_type": "stream",
          "name": "stderr",
          "text": [
            "       7/30      4.04G      1.919      1.701      1.803         14        640: 100%|██████████| 90/90 [03:24<00:00,  2.27s/it]\n",
            "                 Class     Images  Instances      Box(P          R      mAP50  mAP50-95): 100%|██████████| 6/6 [00:10<00:00,  1.68s/it]"
          ]
        },
        {
          "output_type": "stream",
          "name": "stdout",
          "text": [
            "                   all        180        116      0.567      0.586      0.614      0.299\n"
          ]
        },
        {
          "output_type": "stream",
          "name": "stderr",
          "text": [
            "\n"
          ]
        },
        {
          "output_type": "stream",
          "name": "stdout",
          "text": [
            "\n",
            "      Epoch    GPU_mem   box_loss   cls_loss   dfl_loss  Instances       Size\n"
          ]
        },
        {
          "output_type": "stream",
          "name": "stderr",
          "text": [
            "       8/30      4.08G      1.882      1.642      1.753         12        640: 100%|██████████| 90/90 [03:35<00:00,  2.40s/it]\n",
            "                 Class     Images  Instances      Box(P          R      mAP50  mAP50-95): 100%|██████████| 6/6 [00:13<00:00,  2.33s/it]"
          ]
        },
        {
          "output_type": "stream",
          "name": "stdout",
          "text": [
            "                   all        180        116      0.641      0.524       0.57      0.248\n"
          ]
        },
        {
          "output_type": "stream",
          "name": "stderr",
          "text": [
            "\n"
          ]
        },
        {
          "output_type": "stream",
          "name": "stdout",
          "text": [
            "\n",
            "      Epoch    GPU_mem   box_loss   cls_loss   dfl_loss  Instances       Size\n"
          ]
        },
        {
          "output_type": "stream",
          "name": "stderr",
          "text": [
            "       9/30      4.11G      1.799      1.548      1.711         17        640: 100%|██████████| 90/90 [03:05<00:00,  2.06s/it]\n",
            "                 Class     Images  Instances      Box(P          R      mAP50  mAP50-95): 100%|██████████| 6/6 [00:14<00:00,  2.45s/it]"
          ]
        },
        {
          "output_type": "stream",
          "name": "stdout",
          "text": [
            "                   all        180        116      0.667      0.706      0.721       0.32\n"
          ]
        },
        {
          "output_type": "stream",
          "name": "stderr",
          "text": [
            "\n"
          ]
        },
        {
          "output_type": "stream",
          "name": "stdout",
          "text": [
            "\n",
            "      Epoch    GPU_mem   box_loss   cls_loss   dfl_loss  Instances       Size\n"
          ]
        },
        {
          "output_type": "stream",
          "name": "stderr",
          "text": [
            "      10/30      4.15G       1.79      1.472      1.692          9        640: 100%|██████████| 90/90 [03:35<00:00,  2.39s/it]\n",
            "                 Class     Images  Instances      Box(P          R      mAP50  mAP50-95): 100%|██████████| 6/6 [00:17<00:00,  2.95s/it]"
          ]
        },
        {
          "output_type": "stream",
          "name": "stdout",
          "text": [
            "                   all        180        116      0.789      0.647      0.711      0.315\n"
          ]
        },
        {
          "output_type": "stream",
          "name": "stderr",
          "text": [
            "\n"
          ]
        },
        {
          "output_type": "stream",
          "name": "stdout",
          "text": [
            "\n",
            "      Epoch    GPU_mem   box_loss   cls_loss   dfl_loss  Instances       Size\n"
          ]
        },
        {
          "output_type": "stream",
          "name": "stderr",
          "text": [
            "      11/30      4.18G       1.73      1.417      1.645         13        640: 100%|██████████| 90/90 [03:07<00:00,  2.09s/it]\n",
            "                 Class     Images  Instances      Box(P          R      mAP50  mAP50-95): 100%|██████████| 6/6 [00:12<00:00,  2.07s/it]"
          ]
        },
        {
          "output_type": "stream",
          "name": "stdout",
          "text": [
            "                   all        180        116      0.782      0.733      0.786      0.397\n"
          ]
        },
        {
          "output_type": "stream",
          "name": "stderr",
          "text": [
            "\n"
          ]
        },
        {
          "output_type": "stream",
          "name": "stdout",
          "text": [
            "\n",
            "      Epoch    GPU_mem   box_loss   cls_loss   dfl_loss  Instances       Size\n"
          ]
        },
        {
          "output_type": "stream",
          "name": "stderr",
          "text": [
            "      12/30      4.22G      1.664      1.379      1.585          6        640: 100%|██████████| 90/90 [03:15<00:00,  2.18s/it]\n",
            "                 Class     Images  Instances      Box(P          R      mAP50  mAP50-95): 100%|██████████| 6/6 [00:17<00:00,  2.97s/it]"
          ]
        },
        {
          "output_type": "stream",
          "name": "stdout",
          "text": [
            "                   all        180        116      0.795      0.603      0.749      0.368\n"
          ]
        },
        {
          "output_type": "stream",
          "name": "stderr",
          "text": [
            "\n"
          ]
        },
        {
          "output_type": "stream",
          "name": "stdout",
          "text": [
            "\n",
            "      Epoch    GPU_mem   box_loss   cls_loss   dfl_loss  Instances       Size\n"
          ]
        },
        {
          "output_type": "stream",
          "name": "stderr",
          "text": [
            "      13/30      4.26G      1.602       1.31      1.551         12        640: 100%|██████████| 90/90 [03:33<00:00,  2.38s/it]\n",
            "                 Class     Images  Instances      Box(P          R      mAP50  mAP50-95): 100%|██████████| 6/6 [00:16<00:00,  2.74s/it]"
          ]
        },
        {
          "output_type": "stream",
          "name": "stdout",
          "text": [
            "                   all        180        116      0.793      0.819      0.877      0.462\n"
          ]
        },
        {
          "output_type": "stream",
          "name": "stderr",
          "text": [
            "\n"
          ]
        },
        {
          "output_type": "stream",
          "name": "stdout",
          "text": [
            "\n",
            "      Epoch    GPU_mem   box_loss   cls_loss   dfl_loss  Instances       Size\n"
          ]
        },
        {
          "output_type": "stream",
          "name": "stderr",
          "text": [
            "      14/30      4.29G      1.608        1.3      1.563         13        640: 100%|██████████| 90/90 [03:20<00:00,  2.23s/it]\n",
            "                 Class     Images  Instances      Box(P          R      mAP50  mAP50-95): 100%|██████████| 6/6 [00:17<00:00,  2.86s/it]"
          ]
        },
        {
          "output_type": "stream",
          "name": "stdout",
          "text": [
            "                   all        180        116      0.801      0.762      0.842       0.43\n"
          ]
        },
        {
          "output_type": "stream",
          "name": "stderr",
          "text": [
            "\n"
          ]
        },
        {
          "output_type": "stream",
          "name": "stdout",
          "text": [
            "\n",
            "      Epoch    GPU_mem   box_loss   cls_loss   dfl_loss  Instances       Size\n"
          ]
        },
        {
          "output_type": "stream",
          "name": "stderr",
          "text": [
            "      15/30      4.33G      1.553      1.195      1.546         17        640: 100%|██████████| 90/90 [03:23<00:00,  2.26s/it]\n",
            "                 Class     Images  Instances      Box(P          R      mAP50  mAP50-95): 100%|██████████| 6/6 [00:15<00:00,  2.63s/it]"
          ]
        },
        {
          "output_type": "stream",
          "name": "stdout",
          "text": [
            "                   all        180        116      0.719      0.836       0.84      0.451\n"
          ]
        },
        {
          "output_type": "stream",
          "name": "stderr",
          "text": [
            "\n"
          ]
        },
        {
          "output_type": "stream",
          "name": "stdout",
          "text": [
            "\n",
            "      Epoch    GPU_mem   box_loss   cls_loss   dfl_loss  Instances       Size\n"
          ]
        },
        {
          "output_type": "stream",
          "name": "stderr",
          "text": [
            "      16/30       4.4G      1.558      1.153      1.529         20        640: 100%|██████████| 90/90 [03:11<00:00,  2.13s/it]\n",
            "                 Class     Images  Instances      Box(P          R      mAP50  mAP50-95): 100%|██████████| 6/6 [00:10<00:00,  1.76s/it]"
          ]
        },
        {
          "output_type": "stream",
          "name": "stdout",
          "text": [
            "                   all        180        116       0.85       0.81       0.86      0.478\n"
          ]
        },
        {
          "output_type": "stream",
          "name": "stderr",
          "text": [
            "\n"
          ]
        },
        {
          "output_type": "stream",
          "name": "stdout",
          "text": [
            "\n",
            "      Epoch    GPU_mem   box_loss   cls_loss   dfl_loss  Instances       Size\n"
          ]
        },
        {
          "output_type": "stream",
          "name": "stderr",
          "text": [
            "      17/30      4.43G      1.518      1.136      1.498         17        640: 100%|██████████| 90/90 [03:11<00:00,  2.13s/it]\n",
            "                 Class     Images  Instances      Box(P          R      mAP50  mAP50-95): 100%|██████████| 6/6 [00:11<00:00,  1.93s/it]"
          ]
        },
        {
          "output_type": "stream",
          "name": "stdout",
          "text": [
            "                   all        180        116      0.865      0.767      0.867      0.454\n"
          ]
        },
        {
          "output_type": "stream",
          "name": "stderr",
          "text": [
            "\n"
          ]
        },
        {
          "output_type": "stream",
          "name": "stdout",
          "text": [
            "\n",
            "      Epoch    GPU_mem   box_loss   cls_loss   dfl_loss  Instances       Size\n"
          ]
        },
        {
          "output_type": "stream",
          "name": "stderr",
          "text": [
            "      18/30       4.5G      1.444      1.053      1.454         17        640: 100%|██████████| 90/90 [02:51<00:00,  1.90s/it]\n",
            "                 Class     Images  Instances      Box(P          R      mAP50  mAP50-95): 100%|██████████| 6/6 [00:10<00:00,  1.82s/it]"
          ]
        },
        {
          "output_type": "stream",
          "name": "stdout",
          "text": [
            "                   all        180        116      0.863      0.784      0.843      0.456\n"
          ]
        },
        {
          "output_type": "stream",
          "name": "stderr",
          "text": [
            "\n"
          ]
        },
        {
          "output_type": "stream",
          "name": "stdout",
          "text": [
            "\n",
            "      Epoch    GPU_mem   box_loss   cls_loss   dfl_loss  Instances       Size\n"
          ]
        },
        {
          "output_type": "stream",
          "name": "stderr",
          "text": [
            "      19/30      4.57G      1.404      1.014      1.426         16        640: 100%|██████████| 90/90 [02:54<00:00,  1.94s/it]\n",
            "                 Class     Images  Instances      Box(P          R      mAP50  mAP50-95): 100%|██████████| 6/6 [00:10<00:00,  1.80s/it]"
          ]
        },
        {
          "output_type": "stream",
          "name": "stdout",
          "text": [
            "                   all        180        116      0.892      0.819      0.896      0.472\n"
          ]
        },
        {
          "output_type": "stream",
          "name": "stderr",
          "text": [
            "\n"
          ]
        },
        {
          "output_type": "stream",
          "name": "stdout",
          "text": [
            "\n",
            "      Epoch    GPU_mem   box_loss   cls_loss   dfl_loss  Instances       Size\n"
          ]
        },
        {
          "output_type": "stream",
          "name": "stderr",
          "text": [
            "      20/30      4.64G       1.38      1.016      1.405         15        640: 100%|██████████| 90/90 [02:57<00:00,  1.97s/it]\n",
            "                 Class     Images  Instances      Box(P          R      mAP50  mAP50-95): 100%|██████████| 6/6 [00:09<00:00,  1.51s/it]"
          ]
        },
        {
          "output_type": "stream",
          "name": "stdout",
          "text": [
            "                   all        180        116      0.894      0.876      0.909      0.543\n"
          ]
        },
        {
          "output_type": "stream",
          "name": "stderr",
          "text": [
            "\n"
          ]
        },
        {
          "output_type": "stream",
          "name": "stdout",
          "text": [
            "Closing dataloader mosaic\n",
            "\u001b[34m\u001b[1malbumentations: \u001b[0mBlur(p=0.01, blur_limit=(3, 7)), MedianBlur(p=0.01, blur_limit=(3, 7)), ToGray(p=0.01, num_output_channels=3, method='weighted_average'), CLAHE(p=0.01, clip_limit=(1.0, 4.0), tile_grid_size=(8, 8))\n",
            "\n",
            "      Epoch    GPU_mem   box_loss   cls_loss   dfl_loss  Instances       Size\n"
          ]
        },
        {
          "output_type": "stream",
          "name": "stderr",
          "text": [
            "      21/30      4.71G       1.35      0.913       1.47          7        640: 100%|██████████| 90/90 [03:26<00:00,  2.29s/it]\n",
            "                 Class     Images  Instances      Box(P          R      mAP50  mAP50-95): 100%|██████████| 6/6 [00:12<00:00,  2.03s/it]"
          ]
        },
        {
          "output_type": "stream",
          "name": "stdout",
          "text": [
            "                   all        180        116      0.932      0.827      0.928      0.538\n"
          ]
        },
        {
          "output_type": "stream",
          "name": "stderr",
          "text": [
            "\n"
          ]
        },
        {
          "output_type": "stream",
          "name": "stdout",
          "text": [
            "\n",
            "      Epoch    GPU_mem   box_loss   cls_loss   dfl_loss  Instances       Size\n"
          ]
        },
        {
          "output_type": "stream",
          "name": "stderr",
          "text": [
            "      22/30      4.78G      1.275     0.8438      1.418          7        640: 100%|██████████| 90/90 [03:24<00:00,  2.27s/it]\n",
            "                 Class     Images  Instances      Box(P          R      mAP50  mAP50-95): 100%|██████████| 6/6 [00:12<00:00,  2.10s/it]"
          ]
        },
        {
          "output_type": "stream",
          "name": "stdout",
          "text": [
            "                   all        180        116      0.878      0.802      0.905      0.528\n"
          ]
        },
        {
          "output_type": "stream",
          "name": "stderr",
          "text": [
            "\n"
          ]
        },
        {
          "output_type": "stream",
          "name": "stdout",
          "text": [
            "\n",
            "      Epoch    GPU_mem   box_loss   cls_loss   dfl_loss  Instances       Size\n"
          ]
        },
        {
          "output_type": "stream",
          "name": "stderr",
          "text": [
            "      23/30      4.82G      1.251     0.8473      1.424          8        640: 100%|██████████| 90/90 [03:31<00:00,  2.35s/it]\n",
            "                 Class     Images  Instances      Box(P          R      mAP50  mAP50-95): 100%|██████████| 6/6 [00:10<00:00,  1.82s/it]"
          ]
        },
        {
          "output_type": "stream",
          "name": "stdout",
          "text": [
            "                   all        180        116      0.941       0.83      0.933      0.574\n"
          ]
        },
        {
          "output_type": "stream",
          "name": "stderr",
          "text": [
            "\n"
          ]
        },
        {
          "output_type": "stream",
          "name": "stdout",
          "text": [
            "\n",
            "      Epoch    GPU_mem   box_loss   cls_loss   dfl_loss  Instances       Size\n"
          ]
        },
        {
          "output_type": "stream",
          "name": "stderr",
          "text": [
            "      24/30      4.92G      1.182     0.7895       1.38          5        640: 100%|██████████| 90/90 [03:25<00:00,  2.29s/it]\n",
            "                 Class     Images  Instances      Box(P          R      mAP50  mAP50-95): 100%|██████████| 6/6 [00:11<00:00,  1.96s/it]"
          ]
        },
        {
          "output_type": "stream",
          "name": "stdout",
          "text": [
            "                   all        180        116      0.952      0.852      0.924      0.538\n"
          ]
        },
        {
          "output_type": "stream",
          "name": "stderr",
          "text": [
            "\n"
          ]
        },
        {
          "output_type": "stream",
          "name": "stdout",
          "text": [
            "\n",
            "      Epoch    GPU_mem   box_loss   cls_loss   dfl_loss  Instances       Size\n"
          ]
        },
        {
          "output_type": "stream",
          "name": "stderr",
          "text": [
            "      25/30      4.96G      1.157     0.7499      1.342          6        640: 100%|██████████| 90/90 [03:06<00:00,  2.07s/it]\n",
            "                 Class     Images  Instances      Box(P          R      mAP50  mAP50-95): 100%|██████████| 6/6 [00:09<00:00,  1.55s/it]"
          ]
        },
        {
          "output_type": "stream",
          "name": "stdout",
          "text": [
            "                   all        180        116      0.924      0.838      0.937      0.583\n"
          ]
        },
        {
          "output_type": "stream",
          "name": "stderr",
          "text": [
            "\n"
          ]
        },
        {
          "output_type": "stream",
          "name": "stdout",
          "text": [
            "\n",
            "      Epoch    GPU_mem   box_loss   cls_loss   dfl_loss  Instances       Size\n"
          ]
        },
        {
          "output_type": "stream",
          "name": "stderr",
          "text": [
            "      26/30      5.03G      1.121     0.7102      1.339          7        640: 100%|██████████| 90/90 [03:29<00:00,  2.33s/it]\n",
            "                 Class     Images  Instances      Box(P          R      mAP50  mAP50-95): 100%|██████████| 6/6 [00:10<00:00,  1.81s/it]"
          ]
        },
        {
          "output_type": "stream",
          "name": "stdout",
          "text": [
            "                   all        180        116      0.935      0.865       0.94      0.601\n"
          ]
        },
        {
          "output_type": "stream",
          "name": "stderr",
          "text": [
            "\n"
          ]
        },
        {
          "output_type": "stream",
          "name": "stdout",
          "text": [
            "\n",
            "      Epoch    GPU_mem   box_loss   cls_loss   dfl_loss  Instances       Size\n"
          ]
        },
        {
          "output_type": "stream",
          "name": "stderr",
          "text": [
            "      27/30       5.1G      1.081     0.6717       1.29          6        640: 100%|██████████| 90/90 [03:29<00:00,  2.32s/it]\n",
            "                 Class     Images  Instances      Box(P          R      mAP50  mAP50-95): 100%|██████████| 6/6 [00:11<00:00,  1.86s/it]"
          ]
        },
        {
          "output_type": "stream",
          "name": "stdout",
          "text": [
            "                   all        180        116      0.931      0.879      0.938      0.602\n"
          ]
        },
        {
          "output_type": "stream",
          "name": "stderr",
          "text": [
            "\n"
          ]
        },
        {
          "output_type": "stream",
          "name": "stdout",
          "text": [
            "\n",
            "      Epoch    GPU_mem   box_loss   cls_loss   dfl_loss  Instances       Size\n"
          ]
        },
        {
          "output_type": "stream",
          "name": "stderr",
          "text": [
            "      28/30      5.17G       1.04     0.6696      1.265          3        640: 100%|██████████| 90/90 [03:32<00:00,  2.36s/it]\n",
            "                 Class     Images  Instances      Box(P          R      mAP50  mAP50-95): 100%|██████████| 6/6 [00:10<00:00,  1.76s/it]"
          ]
        },
        {
          "output_type": "stream",
          "name": "stdout",
          "text": [
            "                   all        180        116      0.937      0.904      0.959      0.626\n"
          ]
        },
        {
          "output_type": "stream",
          "name": "stderr",
          "text": [
            "\n"
          ]
        },
        {
          "output_type": "stream",
          "name": "stdout",
          "text": [
            "\n",
            "      Epoch    GPU_mem   box_loss   cls_loss   dfl_loss  Instances       Size\n"
          ]
        },
        {
          "output_type": "stream",
          "name": "stderr",
          "text": [
            "      29/30       5.2G      0.987     0.6297      1.229          7        640: 100%|██████████| 90/90 [03:31<00:00,  2.36s/it]\n",
            "                 Class     Images  Instances      Box(P          R      mAP50  mAP50-95): 100%|██████████| 6/6 [00:10<00:00,  1.83s/it]"
          ]
        },
        {
          "output_type": "stream",
          "name": "stdout",
          "text": [
            "                   all        180        116      0.952      0.888      0.951      0.609\n"
          ]
        },
        {
          "output_type": "stream",
          "name": "stderr",
          "text": [
            "\n"
          ]
        },
        {
          "output_type": "stream",
          "name": "stdout",
          "text": [
            "\n",
            "      Epoch    GPU_mem   box_loss   cls_loss   dfl_loss  Instances       Size\n"
          ]
        },
        {
          "output_type": "stream",
          "name": "stderr",
          "text": [
            "      30/30      5.31G     0.9803     0.6175       1.22         10        640: 100%|██████████| 90/90 [03:38<00:00,  2.43s/it]\n",
            "                 Class     Images  Instances      Box(P          R      mAP50  mAP50-95): 100%|██████████| 6/6 [00:10<00:00,  1.81s/it]"
          ]
        },
        {
          "output_type": "stream",
          "name": "stdout",
          "text": [
            "                   all        180        116      0.953      0.882      0.948      0.633\n"
          ]
        },
        {
          "output_type": "stream",
          "name": "stderr",
          "text": [
            "\n"
          ]
        },
        {
          "output_type": "stream",
          "name": "stdout",
          "text": [
            "\n",
            "30 epochs completed in 1.728 hours.\n",
            "Optimizer stripped from runs/detect/train4/weights/last.pt, 22.5MB\n",
            "Optimizer stripped from runs/detect/train4/weights/best.pt, 22.5MB\n",
            "\n",
            "Validating runs/detect/train4/weights/best.pt...\n",
            "Ultralytics 8.3.94 🚀 Python-3.11.11 torch-2.6.0+cu124 CUDA:0 (Tesla T4, 15095MiB)\n",
            "Model summary (fused): 72 layers, 11,125,971 parameters, 0 gradients, 28.4 GFLOPs\n"
          ]
        },
        {
          "output_type": "stream",
          "name": "stderr",
          "text": [
            "                 Class     Images  Instances      Box(P          R      mAP50  mAP50-95): 100%|██████████| 6/6 [00:15<00:00,  2.57s/it]\n"
          ]
        },
        {
          "output_type": "stream",
          "name": "stdout",
          "text": [
            "                   all        180        116      0.906      0.914      0.938      0.638\n",
            "Speed: 0.2ms preprocess, 14.4ms inference, 0.0ms loss, 2.3ms postprocess per image\n",
            "Results saved to \u001b[1mruns/detect/train4\u001b[0m\n"
          ]
        },
        {
          "output_type": "execute_result",
          "data": {
            "text/plain": [
              "ultralytics.utils.metrics.DetMetrics object with attributes:\n",
              "\n",
              "ap_class_index: array([0])\n",
              "box: ultralytics.utils.metrics.Metric object\n",
              "confusion_matrix: <ultralytics.utils.metrics.ConfusionMatrix object at 0x799a351a1b50>\n",
              "curves: ['Precision-Recall(B)', 'F1-Confidence(B)', 'Precision-Confidence(B)', 'Recall-Confidence(B)']\n",
              "curves_results: [[array([          0,    0.001001,    0.002002,    0.003003,    0.004004,    0.005005,    0.006006,    0.007007,    0.008008,    0.009009,     0.01001,    0.011011,    0.012012,    0.013013,    0.014014,    0.015015,    0.016016,    0.017017,    0.018018,    0.019019,     0.02002,    0.021021,    0.022022,    0.023023,\n",
              "          0.024024,    0.025025,    0.026026,    0.027027,    0.028028,    0.029029,     0.03003,    0.031031,    0.032032,    0.033033,    0.034034,    0.035035,    0.036036,    0.037037,    0.038038,    0.039039,     0.04004,    0.041041,    0.042042,    0.043043,    0.044044,    0.045045,    0.046046,    0.047047,\n",
              "          0.048048,    0.049049,     0.05005,    0.051051,    0.052052,    0.053053,    0.054054,    0.055055,    0.056056,    0.057057,    0.058058,    0.059059,     0.06006,    0.061061,    0.062062,    0.063063,    0.064064,    0.065065,    0.066066,    0.067067,    0.068068,    0.069069,     0.07007,    0.071071,\n",
              "          0.072072,    0.073073,    0.074074,    0.075075,    0.076076,    0.077077,    0.078078,    0.079079,     0.08008,    0.081081,    0.082082,    0.083083,    0.084084,    0.085085,    0.086086,    0.087087,    0.088088,    0.089089,     0.09009,    0.091091,    0.092092,    0.093093,    0.094094,    0.095095,\n",
              "          0.096096,    0.097097,    0.098098,    0.099099,      0.1001,      0.1011,      0.1021,      0.1031,      0.1041,     0.10511,     0.10611,     0.10711,     0.10811,     0.10911,     0.11011,     0.11111,     0.11211,     0.11311,     0.11411,     0.11512,     0.11612,     0.11712,     0.11812,     0.11912,\n",
              "           0.12012,     0.12112,     0.12212,     0.12312,     0.12412,     0.12513,     0.12613,     0.12713,     0.12813,     0.12913,     0.13013,     0.13113,     0.13213,     0.13313,     0.13413,     0.13514,     0.13614,     0.13714,     0.13814,     0.13914,     0.14014,     0.14114,     0.14214,     0.14314,\n",
              "           0.14414,     0.14515,     0.14615,     0.14715,     0.14815,     0.14915,     0.15015,     0.15115,     0.15215,     0.15315,     0.15415,     0.15516,     0.15616,     0.15716,     0.15816,     0.15916,     0.16016,     0.16116,     0.16216,     0.16316,     0.16416,     0.16517,     0.16617,     0.16717,\n",
              "           0.16817,     0.16917,     0.17017,     0.17117,     0.17217,     0.17317,     0.17417,     0.17518,     0.17618,     0.17718,     0.17818,     0.17918,     0.18018,     0.18118,     0.18218,     0.18318,     0.18418,     0.18519,     0.18619,     0.18719,     0.18819,     0.18919,     0.19019,     0.19119,\n",
              "           0.19219,     0.19319,     0.19419,      0.1952,      0.1962,      0.1972,      0.1982,      0.1992,      0.2002,      0.2012,      0.2022,      0.2032,      0.2042,     0.20521,     0.20621,     0.20721,     0.20821,     0.20921,     0.21021,     0.21121,     0.21221,     0.21321,     0.21421,     0.21522,\n",
              "           0.21622,     0.21722,     0.21822,     0.21922,     0.22022,     0.22122,     0.22222,     0.22322,     0.22422,     0.22523,     0.22623,     0.22723,     0.22823,     0.22923,     0.23023,     0.23123,     0.23223,     0.23323,     0.23423,     0.23524,     0.23624,     0.23724,     0.23824,     0.23924,\n",
              "           0.24024,     0.24124,     0.24224,     0.24324,     0.24424,     0.24525,     0.24625,     0.24725,     0.24825,     0.24925,     0.25025,     0.25125,     0.25225,     0.25325,     0.25425,     0.25526,     0.25626,     0.25726,     0.25826,     0.25926,     0.26026,     0.26126,     0.26226,     0.26326,\n",
              "           0.26426,     0.26527,     0.26627,     0.26727,     0.26827,     0.26927,     0.27027,     0.27127,     0.27227,     0.27327,     0.27427,     0.27528,     0.27628,     0.27728,     0.27828,     0.27928,     0.28028,     0.28128,     0.28228,     0.28328,     0.28428,     0.28529,     0.28629,     0.28729,\n",
              "           0.28829,     0.28929,     0.29029,     0.29129,     0.29229,     0.29329,     0.29429,      0.2953,      0.2963,      0.2973,      0.2983,      0.2993,      0.3003,      0.3013,      0.3023,      0.3033,      0.3043,     0.30531,     0.30631,     0.30731,     0.30831,     0.30931,     0.31031,     0.31131,\n",
              "           0.31231,     0.31331,     0.31431,     0.31532,     0.31632,     0.31732,     0.31832,     0.31932,     0.32032,     0.32132,     0.32232,     0.32332,     0.32432,     0.32533,     0.32633,     0.32733,     0.32833,     0.32933,     0.33033,     0.33133,     0.33233,     0.33333,     0.33433,     0.33534,\n",
              "           0.33634,     0.33734,     0.33834,     0.33934,     0.34034,     0.34134,     0.34234,     0.34334,     0.34434,     0.34535,     0.34635,     0.34735,     0.34835,     0.34935,     0.35035,     0.35135,     0.35235,     0.35335,     0.35435,     0.35536,     0.35636,     0.35736,     0.35836,     0.35936,\n",
              "           0.36036,     0.36136,     0.36236,     0.36336,     0.36436,     0.36537,     0.36637,     0.36737,     0.36837,     0.36937,     0.37037,     0.37137,     0.37237,     0.37337,     0.37437,     0.37538,     0.37638,     0.37738,     0.37838,     0.37938,     0.38038,     0.38138,     0.38238,     0.38338,\n",
              "           0.38438,     0.38539,     0.38639,     0.38739,     0.38839,     0.38939,     0.39039,     0.39139,     0.39239,     0.39339,     0.39439,      0.3954,      0.3964,      0.3974,      0.3984,      0.3994,      0.4004,      0.4014,      0.4024,      0.4034,      0.4044,     0.40541,     0.40641,     0.40741,\n",
              "           0.40841,     0.40941,     0.41041,     0.41141,     0.41241,     0.41341,     0.41441,     0.41542,     0.41642,     0.41742,     0.41842,     0.41942,     0.42042,     0.42142,     0.42242,     0.42342,     0.42442,     0.42543,     0.42643,     0.42743,     0.42843,     0.42943,     0.43043,     0.43143,\n",
              "           0.43243,     0.43343,     0.43443,     0.43544,     0.43644,     0.43744,     0.43844,     0.43944,     0.44044,     0.44144,     0.44244,     0.44344,     0.44444,     0.44545,     0.44645,     0.44745,     0.44845,     0.44945,     0.45045,     0.45145,     0.45245,     0.45345,     0.45445,     0.45546,\n",
              "           0.45646,     0.45746,     0.45846,     0.45946,     0.46046,     0.46146,     0.46246,     0.46346,     0.46446,     0.46547,     0.46647,     0.46747,     0.46847,     0.46947,     0.47047,     0.47147,     0.47247,     0.47347,     0.47447,     0.47548,     0.47648,     0.47748,     0.47848,     0.47948,\n",
              "           0.48048,     0.48148,     0.48248,     0.48348,     0.48448,     0.48549,     0.48649,     0.48749,     0.48849,     0.48949,     0.49049,     0.49149,     0.49249,     0.49349,     0.49449,      0.4955,      0.4965,      0.4975,      0.4985,      0.4995,      0.5005,      0.5015,      0.5025,      0.5035,\n",
              "            0.5045,     0.50551,     0.50651,     0.50751,     0.50851,     0.50951,     0.51051,     0.51151,     0.51251,     0.51351,     0.51451,     0.51552,     0.51652,     0.51752,     0.51852,     0.51952,     0.52052,     0.52152,     0.52252,     0.52352,     0.52452,     0.52553,     0.52653,     0.52753,\n",
              "           0.52853,     0.52953,     0.53053,     0.53153,     0.53253,     0.53353,     0.53453,     0.53554,     0.53654,     0.53754,     0.53854,     0.53954,     0.54054,     0.54154,     0.54254,     0.54354,     0.54454,     0.54555,     0.54655,     0.54755,     0.54855,     0.54955,     0.55055,     0.55155,\n",
              "           0.55255,     0.55355,     0.55455,     0.55556,     0.55656,     0.55756,     0.55856,     0.55956,     0.56056,     0.56156,     0.56256,     0.56356,     0.56456,     0.56557,     0.56657,     0.56757,     0.56857,     0.56957,     0.57057,     0.57157,     0.57257,     0.57357,     0.57457,     0.57558,\n",
              "           0.57658,     0.57758,     0.57858,     0.57958,     0.58058,     0.58158,     0.58258,     0.58358,     0.58458,     0.58559,     0.58659,     0.58759,     0.58859,     0.58959,     0.59059,     0.59159,     0.59259,     0.59359,     0.59459,      0.5956,      0.5966,      0.5976,      0.5986,      0.5996,\n",
              "            0.6006,      0.6016,      0.6026,      0.6036,      0.6046,     0.60561,     0.60661,     0.60761,     0.60861,     0.60961,     0.61061,     0.61161,     0.61261,     0.61361,     0.61461,     0.61562,     0.61662,     0.61762,     0.61862,     0.61962,     0.62062,     0.62162,     0.62262,     0.62362,\n",
              "           0.62462,     0.62563,     0.62663,     0.62763,     0.62863,     0.62963,     0.63063,     0.63163,     0.63263,     0.63363,     0.63463,     0.63564,     0.63664,     0.63764,     0.63864,     0.63964,     0.64064,     0.64164,     0.64264,     0.64364,     0.64464,     0.64565,     0.64665,     0.64765,\n",
              "           0.64865,     0.64965,     0.65065,     0.65165,     0.65265,     0.65365,     0.65465,     0.65566,     0.65666,     0.65766,     0.65866,     0.65966,     0.66066,     0.66166,     0.66266,     0.66366,     0.66466,     0.66567,     0.66667,     0.66767,     0.66867,     0.66967,     0.67067,     0.67167,\n",
              "           0.67267,     0.67367,     0.67467,     0.67568,     0.67668,     0.67768,     0.67868,     0.67968,     0.68068,     0.68168,     0.68268,     0.68368,     0.68468,     0.68569,     0.68669,     0.68769,     0.68869,     0.68969,     0.69069,     0.69169,     0.69269,     0.69369,     0.69469,      0.6957,\n",
              "            0.6967,      0.6977,      0.6987,      0.6997,      0.7007,      0.7017,      0.7027,      0.7037,      0.7047,     0.70571,     0.70671,     0.70771,     0.70871,     0.70971,     0.71071,     0.71171,     0.71271,     0.71371,     0.71471,     0.71572,     0.71672,     0.71772,     0.71872,     0.71972,\n",
              "           0.72072,     0.72172,     0.72272,     0.72372,     0.72472,     0.72573,     0.72673,     0.72773,     0.72873,     0.72973,     0.73073,     0.73173,     0.73273,     0.73373,     0.73473,     0.73574,     0.73674,     0.73774,     0.73874,     0.73974,     0.74074,     0.74174,     0.74274,     0.74374,\n",
              "           0.74474,     0.74575,     0.74675,     0.74775,     0.74875,     0.74975,     0.75075,     0.75175,     0.75275,     0.75375,     0.75475,     0.75576,     0.75676,     0.75776,     0.75876,     0.75976,     0.76076,     0.76176,     0.76276,     0.76376,     0.76476,     0.76577,     0.76677,     0.76777,\n",
              "           0.76877,     0.76977,     0.77077,     0.77177,     0.77277,     0.77377,     0.77477,     0.77578,     0.77678,     0.77778,     0.77878,     0.77978,     0.78078,     0.78178,     0.78278,     0.78378,     0.78478,     0.78579,     0.78679,     0.78779,     0.78879,     0.78979,     0.79079,     0.79179,\n",
              "           0.79279,     0.79379,     0.79479,      0.7958,      0.7968,      0.7978,      0.7988,      0.7998,      0.8008,      0.8018,      0.8028,      0.8038,      0.8048,     0.80581,     0.80681,     0.80781,     0.80881,     0.80981,     0.81081,     0.81181,     0.81281,     0.81381,     0.81481,     0.81582,\n",
              "           0.81682,     0.81782,     0.81882,     0.81982,     0.82082,     0.82182,     0.82282,     0.82382,     0.82482,     0.82583,     0.82683,     0.82783,     0.82883,     0.82983,     0.83083,     0.83183,     0.83283,     0.83383,     0.83483,     0.83584,     0.83684,     0.83784,     0.83884,     0.83984,\n",
              "           0.84084,     0.84184,     0.84284,     0.84384,     0.84484,     0.84585,     0.84685,     0.84785,     0.84885,     0.84985,     0.85085,     0.85185,     0.85285,     0.85385,     0.85485,     0.85586,     0.85686,     0.85786,     0.85886,     0.85986,     0.86086,     0.86186,     0.86286,     0.86386,\n",
              "           0.86486,     0.86587,     0.86687,     0.86787,     0.86887,     0.86987,     0.87087,     0.87187,     0.87287,     0.87387,     0.87487,     0.87588,     0.87688,     0.87788,     0.87888,     0.87988,     0.88088,     0.88188,     0.88288,     0.88388,     0.88488,     0.88589,     0.88689,     0.88789,\n",
              "           0.88889,     0.88989,     0.89089,     0.89189,     0.89289,     0.89389,     0.89489,      0.8959,      0.8969,      0.8979,      0.8989,      0.8999,      0.9009,      0.9019,      0.9029,      0.9039,      0.9049,     0.90591,     0.90691,     0.90791,     0.90891,     0.90991,     0.91091,     0.91191,\n",
              "           0.91291,     0.91391,     0.91491,     0.91592,     0.91692,     0.91792,     0.91892,     0.91992,     0.92092,     0.92192,     0.92292,     0.92392,     0.92492,     0.92593,     0.92693,     0.92793,     0.92893,     0.92993,     0.93093,     0.93193,     0.93293,     0.93393,     0.93493,     0.93594,\n",
              "           0.93694,     0.93794,     0.93894,     0.93994,     0.94094,     0.94194,     0.94294,     0.94394,     0.94494,     0.94595,     0.94695,     0.94795,     0.94895,     0.94995,     0.95095,     0.95195,     0.95295,     0.95395,     0.95495,     0.95596,     0.95696,     0.95796,     0.95896,     0.95996,\n",
              "           0.96096,     0.96196,     0.96296,     0.96396,     0.96496,     0.96597,     0.96697,     0.96797,     0.96897,     0.96997,     0.97097,     0.97197,     0.97297,     0.97397,     0.97497,     0.97598,     0.97698,     0.97798,     0.97898,     0.97998,     0.98098,     0.98198,     0.98298,     0.98398,\n",
              "           0.98498,     0.98599,     0.98699,     0.98799,     0.98899,     0.98999,     0.99099,     0.99199,     0.99299,     0.99399,     0.99499,       0.996,       0.997,       0.998,       0.999,           1]), array([[          1,           1,           1,           1,           1,           1,           1,           1,           1,           1,           1,           1,           1,           1,           1,           1,           1,           1,           1,           1,           1,           1,           1,\n",
              "                  1,           1,           1,           1,           1,           1,           1,           1,           1,           1,           1,           1,           1,           1,           1,           1,           1,           1,           1,           1,           1,           1,           1,\n",
              "                  1,           1,           1,           1,           1,           1,           1,           1,           1,           1,           1,           1,           1,           1,           1,           1,           1,           1,           1,           1,           1,           1,           1,\n",
              "                  1,           1,           1,           1,           1,           1,           1,           1,           1,           1,           1,           1,           1,           1,           1,           1,           1,           1,           1,           1,           1,           1,           1,\n",
              "                  1,           1,           1,           1,           1,           1,           1,           1,           1,           1,           1,           1,           1,           1,           1,           1,           1,           1,           1,           1,           1,           1,           1,\n",
              "                  1,           1,           1,           1,           1,           1,           1,           1,           1,           1,           1,           1,           1,           1,           1,           1,           1,           1,           1,           1,           1,           1,           1,\n",
              "                  1,           1,           1,           1,           1,           1,           1,           1,           1,           1,           1,           1,           1,           1,           1,           1,           1,           1,           1,           1,           1,           1,           1,\n",
              "                  1,           1,           1,           1,           1,           1,           1,           1,           1,           1,           1,           1,           1,           1,           1,           1,           1,           1,           1,           1,           1,           1,           1,\n",
              "                  1,           1,           1,           1,           1,           1,           1,           1,           1,           1,           1,           1,           1,           1,           1,           1,           1,           1,           1,           1,           1,           1,           1,\n",
              "            0.97561,     0.97561,     0.97561,     0.97561,     0.97561,     0.97561,     0.97561,     0.97561,     0.97561,     0.97561,     0.97561,     0.97561,     0.97561,     0.97561,     0.97561,     0.97561,     0.97561,     0.97561,     0.97561,     0.97561,     0.97561,     0.97561,     0.97561,\n",
              "            0.97561,     0.97561,     0.97561,     0.97561,     0.97561,     0.97561,     0.97561,     0.97561,     0.97561,     0.97561,     0.97561,     0.97561,     0.97561,     0.97561,     0.97561,     0.97561,     0.97561,     0.97561,     0.97561,     0.97561,     0.97561,     0.97561,     0.97561,\n",
              "            0.97561,     0.97561,     0.97561,     0.97561,     0.97561,     0.97561,     0.97561,     0.97561,     0.97561,     0.97561,     0.97561,     0.97561,     0.97561,     0.97561,     0.97561,     0.97561,     0.97561,     0.97561,     0.97561,     0.97561,     0.97561,     0.97561,     0.97561,\n",
              "            0.97561,     0.97561,     0.97561,     0.97561,     0.97561,     0.97561,     0.97561,     0.97561,     0.97561,     0.97561,     0.97561,     0.97561,     0.97561,     0.97561,     0.97561,     0.97561,     0.97561,     0.97561,     0.97561,     0.97561,     0.97561,     0.97561,     0.97561,\n",
              "            0.97561,     0.97561,     0.97561,     0.97561,     0.97561,     0.97561,     0.97561,     0.97561,     0.97561,     0.97561,     0.97561,     0.97561,     0.97561,     0.97561,     0.97561,     0.97561,     0.97561,     0.97561,     0.97561,     0.97561,     0.97561,     0.97561,     0.97561,\n",
              "            0.97561,     0.97561,     0.97561,     0.97561,     0.97561,     0.97561,     0.97561,     0.97561,     0.97561,     0.97561,     0.97561,     0.97561,     0.97561,     0.97561,     0.97561,     0.97561,     0.97561,     0.97561,     0.97561,     0.97561,     0.97561,     0.97561,     0.97561,\n",
              "            0.97561,     0.97561,     0.97561,     0.97561,     0.97561,     0.97561,     0.97561,     0.97561,     0.97561,     0.97561,     0.97561,     0.97561,     0.97561,     0.97561,     0.97561,     0.97561,     0.97561,     0.97561,     0.97561,     0.97561,     0.97561,     0.97561,     0.97561,\n",
              "            0.97561,     0.97561,     0.97561,     0.97561,     0.97561,     0.97561,     0.97561,     0.97561,     0.97561,     0.97561,     0.97561,     0.97561,     0.97561,     0.97561,     0.97561,     0.97561,     0.97561,     0.97561,     0.97561,     0.97561,     0.97561,     0.97561,     0.97561,\n",
              "            0.97561,     0.97561,     0.97561,     0.97561,     0.97561,     0.97561,     0.97561,     0.97561,     0.97561,     0.97561,     0.97561,     0.97561,     0.97561,     0.97561,     0.97561,     0.97561,     0.97561,     0.97561,     0.97561,     0.97561,     0.97561,     0.97561,     0.97561,\n",
              "            0.97561,     0.97561,     0.97561,     0.97561,     0.97561,     0.97561,     0.97561,     0.97561,     0.97561,     0.97561,     0.97561,     0.97561,     0.97561,     0.97561,     0.97561,     0.97561,     0.97561,     0.97561,     0.97561,     0.97561,     0.97561,     0.97561,     0.97561,\n",
              "            0.97561,     0.97561,     0.97561,     0.97561,     0.97561,     0.97561,     0.97561,     0.97561,     0.97561,     0.97561,     0.97561,     0.97561,     0.97561,     0.97561,     0.97561,     0.97561,     0.97561,     0.97561,     0.97561,     0.97561,     0.97561,     0.97561,     0.97561,\n",
              "            0.97561,     0.97561,     0.97561,     0.97561,     0.97561,     0.97561,     0.97561,     0.97561,     0.97561,     0.97561,     0.97561,     0.97561,     0.97561,     0.97561,     0.97561,     0.97561,     0.97561,     0.97561,     0.97561,     0.97561,     0.97561,     0.97561,     0.97561,\n",
              "            0.97561,     0.97561,     0.97561,     0.97561,     0.97561,     0.97561,     0.97561,     0.97561,     0.97561,     0.97561,     0.97561,     0.97561,     0.97561,     0.97561,     0.97561,     0.97561,     0.97561,     0.97561,     0.97561,     0.97561,     0.97561,     0.97561,     0.97561,\n",
              "            0.97561,     0.97561,     0.97561,     0.97561,     0.97561,     0.97561,     0.97561,     0.97561,     0.97561,     0.97561,     0.97561,     0.97561,     0.97561,     0.97561,     0.97561,     0.97561,     0.97561,     0.97561,     0.97561,     0.97561,     0.97561,     0.97561,     0.97561,\n",
              "            0.97561,     0.97561,     0.97561,     0.97561,     0.97561,     0.97561,     0.97561,     0.97561,     0.97561,     0.97561,     0.97561,     0.97561,     0.97561,     0.97561,     0.97561,     0.97561,     0.97561,     0.97561,     0.97561,     0.97561,     0.97561,     0.97561,     0.97561,\n",
              "            0.97561,     0.97561,     0.97561,     0.97561,     0.97561,     0.97561,     0.97561,     0.97561,     0.97561,     0.97561,     0.97561,     0.97561,     0.97561,     0.97561,     0.97561,     0.97561,     0.97561,     0.97561,     0.97561,     0.97561,     0.97561,     0.97561,     0.97561,\n",
              "            0.97561,     0.97561,     0.97561,     0.97561,     0.97561,     0.97561,     0.97561,     0.97561,     0.97561,     0.97561,     0.97561,     0.97561,     0.97561,     0.97561,     0.97561,     0.97561,     0.97561,     0.97561,     0.97561,     0.97561,     0.97561,     0.97561,     0.97561,\n",
              "            0.97561,     0.97561,     0.97561,     0.97561,     0.97561,     0.97561,     0.97561,     0.97561,     0.97561,     0.97561,     0.97561,     0.97561,     0.97561,     0.97561,     0.97561,     0.97561,     0.97561,     0.97561,     0.97561,     0.97561,     0.97561,     0.97561,     0.97561,\n",
              "            0.97561,     0.97561,     0.97561,     0.97561,     0.97561,     0.97561,     0.97561,     0.97561,     0.97561,     0.97561,     0.97561,     0.97561,     0.97561,     0.97561,     0.97561,     0.97561,     0.97561,     0.97561,     0.97561,     0.97561,     0.97561,     0.97561,     0.97561,\n",
              "            0.97561,     0.97561,     0.97561,     0.97561,     0.97561,     0.97561,     0.97561,     0.97561,     0.97561,     0.97561,     0.97561,     0.97561,     0.97561,     0.97561,     0.97561,     0.97561,     0.97561,     0.97561,     0.97561,     0.97561,     0.97561,     0.97561,     0.97561,\n",
              "            0.97561,     0.97561,     0.97561,     0.97561,     0.97561,     0.97561,     0.97561,     0.97561,     0.97561,     0.97561,     0.97561,     0.97561,     0.97561,     0.97561,     0.97561,     0.97561,     0.97561,     0.97561,     0.97561,     0.97561,     0.97561,     0.97561,     0.96512,\n",
              "            0.96512,     0.96512,     0.96512,     0.96512,     0.96512,     0.96512,     0.96512,     0.96512,     0.96512,     0.96512,     0.96512,     0.96512,     0.96512,     0.96512,     0.96512,     0.96512,     0.96512,     0.96512,     0.96512,     0.96512,     0.96512,     0.96512,     0.96512,\n",
              "            0.96512,     0.96512,     0.95556,     0.95556,     0.95556,     0.95556,     0.95556,     0.95556,     0.95556,     0.95556,     0.95556,     0.95556,     0.95556,     0.95556,     0.95556,     0.95556,     0.95556,     0.95556,     0.95556,     0.95556,     0.95556,     0.95556,     0.95556,\n",
              "            0.95556,     0.95556,     0.95556,     0.95556,     0.95556,     0.94681,     0.94681,     0.94681,     0.94681,     0.94681,     0.94681,     0.94681,     0.94681,     0.94681,     0.94681,     0.94681,     0.94681,     0.94681,     0.94681,     0.94681,     0.94681,     0.94681,     0.94681,\n",
              "            0.94681,     0.94681,     0.94681,     0.94681,     0.94681,     0.94681,     0.94681,     0.94681,     0.93939,     0.93939,     0.93939,     0.93939,     0.93939,     0.93939,     0.93939,     0.93939,     0.93939,     0.93939,     0.93939,     0.93939,     0.93939,     0.93939,     0.93939,\n",
              "            0.93939,     0.93939,     0.93939,     0.93939,     0.93939,     0.93939,     0.93939,     0.93939,     0.93939,     0.93939,     0.93939,     0.93939,     0.93939,     0.93939,     0.93939,     0.93939,     0.93939,     0.93939,     0.93939,     0.92308,     0.92308,     0.92308,     0.92308,\n",
              "            0.92308,     0.92308,     0.92308,     0.92308,     0.92308,     0.92308,     0.92308,     0.92308,     0.92308,     0.92308,     0.92308,     0.92308,     0.92308,     0.92308,     0.92308,     0.92308,     0.92308,     0.92308,     0.92308,     0.92308,     0.92308,     0.92308,     0.92035,\n",
              "            0.92035,     0.92035,     0.92035,     0.92035,     0.92035,     0.92035,     0.92035,     0.92035,     0.92035,     0.92035,     0.92035,     0.92035,     0.92035,     0.92035,     0.92035,     0.92035,     0.92035,     0.92035,     0.92035,     0.92035,     0.92035,     0.92035,     0.92035,\n",
              "            0.92035,     0.92035,     0.92035,     0.92035,     0.92035,     0.92035,     0.92035,     0.92035,     0.92035,     0.92035,     0.92035,     0.92035,     0.92035,     0.92035,     0.92035,     0.92035,     0.92035,     0.92035,     0.92035,     0.92035,     0.92035,     0.92035,     0.92035,\n",
              "            0.92035,     0.92035,     0.92035,     0.92035,     0.92035,     0.92035,     0.92035,     0.92035,     0.92035,     0.92035,     0.92035,     0.92035,     0.92035,     0.92035,     0.92035,     0.92035,     0.92035,     0.92035,     0.92035,     0.92035,     0.92035,     0.92035,     0.90598,\n",
              "            0.90598,     0.90598,     0.90598,     0.90598,     0.90598,     0.90598,     0.90598,     0.90598,     0.90598,     0.90598,     0.90598,     0.90598,     0.90598,     0.90598,     0.90598,     0.90598,      0.8843,      0.8843,      0.8843,      0.8843,      0.8843,      0.8843,      0.8843,\n",
              "             0.8843,      0.8843,     0.83077,     0.83077,     0.83077,     0.83077,     0.83077,     0.83077,     0.83077,     0.83077,     0.83077,     0.80741,     0.80741,     0.80741,     0.80741,     0.80741,     0.80741,     0.80741,     0.80741,      0.7483,      0.7483,      0.7483,      0.7483,\n",
              "             0.7483,      0.7483,      0.7483,      0.7483,      0.7483,      0.7351,      0.7351,      0.7351,      0.7351,      0.7351,      0.7351,      0.7351,      0.7351,     0.66272,     0.66272,     0.66272,     0.66272,     0.66272,     0.66272,     0.66272,     0.66272,     0.66272,     0.63128,\n",
              "            0.63128,     0.63128,     0.63128,     0.63128,     0.63128,     0.63128,     0.63128,     0.63128,     0.44531,     0.44531,     0.44531,     0.44531,     0.44531,     0.44531,     0.44531,     0.44531,     0.11411,      0.1074,     0.10069,    0.093976,    0.087264,    0.080551,    0.073839,\n",
              "           0.067126,    0.060413,    0.053701,    0.046988,    0.040276,    0.033563,     0.02685,    0.020138,    0.013425,   0.0067126,           0]]), 'Recall', 'Precision'], [array([          0,    0.001001,    0.002002,    0.003003,    0.004004,    0.005005,    0.006006,    0.007007,    0.008008,    0.009009,     0.01001,    0.011011,    0.012012,    0.013013,    0.014014,    0.015015,    0.016016,    0.017017,    0.018018,    0.019019,     0.02002,    0.021021,    0.022022,    0.023023,\n",
              "          0.024024,    0.025025,    0.026026,    0.027027,    0.028028,    0.029029,     0.03003,    0.031031,    0.032032,    0.033033,    0.034034,    0.035035,    0.036036,    0.037037,    0.038038,    0.039039,     0.04004,    0.041041,    0.042042,    0.043043,    0.044044,    0.045045,    0.046046,    0.047047,\n",
              "          0.048048,    0.049049,     0.05005,    0.051051,    0.052052,    0.053053,    0.054054,    0.055055,    0.056056,    0.057057,    0.058058,    0.059059,     0.06006,    0.061061,    0.062062,    0.063063,    0.064064,    0.065065,    0.066066,    0.067067,    0.068068,    0.069069,     0.07007,    0.071071,\n",
              "          0.072072,    0.073073,    0.074074,    0.075075,    0.076076,    0.077077,    0.078078,    0.079079,     0.08008,    0.081081,    0.082082,    0.083083,    0.084084,    0.085085,    0.086086,    0.087087,    0.088088,    0.089089,     0.09009,    0.091091,    0.092092,    0.093093,    0.094094,    0.095095,\n",
              "          0.096096,    0.097097,    0.098098,    0.099099,      0.1001,      0.1011,      0.1021,      0.1031,      0.1041,     0.10511,     0.10611,     0.10711,     0.10811,     0.10911,     0.11011,     0.11111,     0.11211,     0.11311,     0.11411,     0.11512,     0.11612,     0.11712,     0.11812,     0.11912,\n",
              "           0.12012,     0.12112,     0.12212,     0.12312,     0.12412,     0.12513,     0.12613,     0.12713,     0.12813,     0.12913,     0.13013,     0.13113,     0.13213,     0.13313,     0.13413,     0.13514,     0.13614,     0.13714,     0.13814,     0.13914,     0.14014,     0.14114,     0.14214,     0.14314,\n",
              "           0.14414,     0.14515,     0.14615,     0.14715,     0.14815,     0.14915,     0.15015,     0.15115,     0.15215,     0.15315,     0.15415,     0.15516,     0.15616,     0.15716,     0.15816,     0.15916,     0.16016,     0.16116,     0.16216,     0.16316,     0.16416,     0.16517,     0.16617,     0.16717,\n",
              "           0.16817,     0.16917,     0.17017,     0.17117,     0.17217,     0.17317,     0.17417,     0.17518,     0.17618,     0.17718,     0.17818,     0.17918,     0.18018,     0.18118,     0.18218,     0.18318,     0.18418,     0.18519,     0.18619,     0.18719,     0.18819,     0.18919,     0.19019,     0.19119,\n",
              "           0.19219,     0.19319,     0.19419,      0.1952,      0.1962,      0.1972,      0.1982,      0.1992,      0.2002,      0.2012,      0.2022,      0.2032,      0.2042,     0.20521,     0.20621,     0.20721,     0.20821,     0.20921,     0.21021,     0.21121,     0.21221,     0.21321,     0.21421,     0.21522,\n",
              "           0.21622,     0.21722,     0.21822,     0.21922,     0.22022,     0.22122,     0.22222,     0.22322,     0.22422,     0.22523,     0.22623,     0.22723,     0.22823,     0.22923,     0.23023,     0.23123,     0.23223,     0.23323,     0.23423,     0.23524,     0.23624,     0.23724,     0.23824,     0.23924,\n",
              "           0.24024,     0.24124,     0.24224,     0.24324,     0.24424,     0.24525,     0.24625,     0.24725,     0.24825,     0.24925,     0.25025,     0.25125,     0.25225,     0.25325,     0.25425,     0.25526,     0.25626,     0.25726,     0.25826,     0.25926,     0.26026,     0.26126,     0.26226,     0.26326,\n",
              "           0.26426,     0.26527,     0.26627,     0.26727,     0.26827,     0.26927,     0.27027,     0.27127,     0.27227,     0.27327,     0.27427,     0.27528,     0.27628,     0.27728,     0.27828,     0.27928,     0.28028,     0.28128,     0.28228,     0.28328,     0.28428,     0.28529,     0.28629,     0.28729,\n",
              "           0.28829,     0.28929,     0.29029,     0.29129,     0.29229,     0.29329,     0.29429,      0.2953,      0.2963,      0.2973,      0.2983,      0.2993,      0.3003,      0.3013,      0.3023,      0.3033,      0.3043,     0.30531,     0.30631,     0.30731,     0.30831,     0.30931,     0.31031,     0.31131,\n",
              "           0.31231,     0.31331,     0.31431,     0.31532,     0.31632,     0.31732,     0.31832,     0.31932,     0.32032,     0.32132,     0.32232,     0.32332,     0.32432,     0.32533,     0.32633,     0.32733,     0.32833,     0.32933,     0.33033,     0.33133,     0.33233,     0.33333,     0.33433,     0.33534,\n",
              "           0.33634,     0.33734,     0.33834,     0.33934,     0.34034,     0.34134,     0.34234,     0.34334,     0.34434,     0.34535,     0.34635,     0.34735,     0.34835,     0.34935,     0.35035,     0.35135,     0.35235,     0.35335,     0.35435,     0.35536,     0.35636,     0.35736,     0.35836,     0.35936,\n",
              "           0.36036,     0.36136,     0.36236,     0.36336,     0.36436,     0.36537,     0.36637,     0.36737,     0.36837,     0.36937,     0.37037,     0.37137,     0.37237,     0.37337,     0.37437,     0.37538,     0.37638,     0.37738,     0.37838,     0.37938,     0.38038,     0.38138,     0.38238,     0.38338,\n",
              "           0.38438,     0.38539,     0.38639,     0.38739,     0.38839,     0.38939,     0.39039,     0.39139,     0.39239,     0.39339,     0.39439,      0.3954,      0.3964,      0.3974,      0.3984,      0.3994,      0.4004,      0.4014,      0.4024,      0.4034,      0.4044,     0.40541,     0.40641,     0.40741,\n",
              "           0.40841,     0.40941,     0.41041,     0.41141,     0.41241,     0.41341,     0.41441,     0.41542,     0.41642,     0.41742,     0.41842,     0.41942,     0.42042,     0.42142,     0.42242,     0.42342,     0.42442,     0.42543,     0.42643,     0.42743,     0.42843,     0.42943,     0.43043,     0.43143,\n",
              "           0.43243,     0.43343,     0.43443,     0.43544,     0.43644,     0.43744,     0.43844,     0.43944,     0.44044,     0.44144,     0.44244,     0.44344,     0.44444,     0.44545,     0.44645,     0.44745,     0.44845,     0.44945,     0.45045,     0.45145,     0.45245,     0.45345,     0.45445,     0.45546,\n",
              "           0.45646,     0.45746,     0.45846,     0.45946,     0.46046,     0.46146,     0.46246,     0.46346,     0.46446,     0.46547,     0.46647,     0.46747,     0.46847,     0.46947,     0.47047,     0.47147,     0.47247,     0.47347,     0.47447,     0.47548,     0.47648,     0.47748,     0.47848,     0.47948,\n",
              "           0.48048,     0.48148,     0.48248,     0.48348,     0.48448,     0.48549,     0.48649,     0.48749,     0.48849,     0.48949,     0.49049,     0.49149,     0.49249,     0.49349,     0.49449,      0.4955,      0.4965,      0.4975,      0.4985,      0.4995,      0.5005,      0.5015,      0.5025,      0.5035,\n",
              "            0.5045,     0.50551,     0.50651,     0.50751,     0.50851,     0.50951,     0.51051,     0.51151,     0.51251,     0.51351,     0.51451,     0.51552,     0.51652,     0.51752,     0.51852,     0.51952,     0.52052,     0.52152,     0.52252,     0.52352,     0.52452,     0.52553,     0.52653,     0.52753,\n",
              "           0.52853,     0.52953,     0.53053,     0.53153,     0.53253,     0.53353,     0.53453,     0.53554,     0.53654,     0.53754,     0.53854,     0.53954,     0.54054,     0.54154,     0.54254,     0.54354,     0.54454,     0.54555,     0.54655,     0.54755,     0.54855,     0.54955,     0.55055,     0.55155,\n",
              "           0.55255,     0.55355,     0.55455,     0.55556,     0.55656,     0.55756,     0.55856,     0.55956,     0.56056,     0.56156,     0.56256,     0.56356,     0.56456,     0.56557,     0.56657,     0.56757,     0.56857,     0.56957,     0.57057,     0.57157,     0.57257,     0.57357,     0.57457,     0.57558,\n",
              "           0.57658,     0.57758,     0.57858,     0.57958,     0.58058,     0.58158,     0.58258,     0.58358,     0.58458,     0.58559,     0.58659,     0.58759,     0.58859,     0.58959,     0.59059,     0.59159,     0.59259,     0.59359,     0.59459,      0.5956,      0.5966,      0.5976,      0.5986,      0.5996,\n",
              "            0.6006,      0.6016,      0.6026,      0.6036,      0.6046,     0.60561,     0.60661,     0.60761,     0.60861,     0.60961,     0.61061,     0.61161,     0.61261,     0.61361,     0.61461,     0.61562,     0.61662,     0.61762,     0.61862,     0.61962,     0.62062,     0.62162,     0.62262,     0.62362,\n",
              "           0.62462,     0.62563,     0.62663,     0.62763,     0.62863,     0.62963,     0.63063,     0.63163,     0.63263,     0.63363,     0.63463,     0.63564,     0.63664,     0.63764,     0.63864,     0.63964,     0.64064,     0.64164,     0.64264,     0.64364,     0.64464,     0.64565,     0.64665,     0.64765,\n",
              "           0.64865,     0.64965,     0.65065,     0.65165,     0.65265,     0.65365,     0.65465,     0.65566,     0.65666,     0.65766,     0.65866,     0.65966,     0.66066,     0.66166,     0.66266,     0.66366,     0.66466,     0.66567,     0.66667,     0.66767,     0.66867,     0.66967,     0.67067,     0.67167,\n",
              "           0.67267,     0.67367,     0.67467,     0.67568,     0.67668,     0.67768,     0.67868,     0.67968,     0.68068,     0.68168,     0.68268,     0.68368,     0.68468,     0.68569,     0.68669,     0.68769,     0.68869,     0.68969,     0.69069,     0.69169,     0.69269,     0.69369,     0.69469,      0.6957,\n",
              "            0.6967,      0.6977,      0.6987,      0.6997,      0.7007,      0.7017,      0.7027,      0.7037,      0.7047,     0.70571,     0.70671,     0.70771,     0.70871,     0.70971,     0.71071,     0.71171,     0.71271,     0.71371,     0.71471,     0.71572,     0.71672,     0.71772,     0.71872,     0.71972,\n",
              "           0.72072,     0.72172,     0.72272,     0.72372,     0.72472,     0.72573,     0.72673,     0.72773,     0.72873,     0.72973,     0.73073,     0.73173,     0.73273,     0.73373,     0.73473,     0.73574,     0.73674,     0.73774,     0.73874,     0.73974,     0.74074,     0.74174,     0.74274,     0.74374,\n",
              "           0.74474,     0.74575,     0.74675,     0.74775,     0.74875,     0.74975,     0.75075,     0.75175,     0.75275,     0.75375,     0.75475,     0.75576,     0.75676,     0.75776,     0.75876,     0.75976,     0.76076,     0.76176,     0.76276,     0.76376,     0.76476,     0.76577,     0.76677,     0.76777,\n",
              "           0.76877,     0.76977,     0.77077,     0.77177,     0.77277,     0.77377,     0.77477,     0.77578,     0.77678,     0.77778,     0.77878,     0.77978,     0.78078,     0.78178,     0.78278,     0.78378,     0.78478,     0.78579,     0.78679,     0.78779,     0.78879,     0.78979,     0.79079,     0.79179,\n",
              "           0.79279,     0.79379,     0.79479,      0.7958,      0.7968,      0.7978,      0.7988,      0.7998,      0.8008,      0.8018,      0.8028,      0.8038,      0.8048,     0.80581,     0.80681,     0.80781,     0.80881,     0.80981,     0.81081,     0.81181,     0.81281,     0.81381,     0.81481,     0.81582,\n",
              "           0.81682,     0.81782,     0.81882,     0.81982,     0.82082,     0.82182,     0.82282,     0.82382,     0.82482,     0.82583,     0.82683,     0.82783,     0.82883,     0.82983,     0.83083,     0.83183,     0.83283,     0.83383,     0.83483,     0.83584,     0.83684,     0.83784,     0.83884,     0.83984,\n",
              "           0.84084,     0.84184,     0.84284,     0.84384,     0.84484,     0.84585,     0.84685,     0.84785,     0.84885,     0.84985,     0.85085,     0.85185,     0.85285,     0.85385,     0.85485,     0.85586,     0.85686,     0.85786,     0.85886,     0.85986,     0.86086,     0.86186,     0.86286,     0.86386,\n",
              "           0.86486,     0.86587,     0.86687,     0.86787,     0.86887,     0.86987,     0.87087,     0.87187,     0.87287,     0.87387,     0.87487,     0.87588,     0.87688,     0.87788,     0.87888,     0.87988,     0.88088,     0.88188,     0.88288,     0.88388,     0.88488,     0.88589,     0.88689,     0.88789,\n",
              "           0.88889,     0.88989,     0.89089,     0.89189,     0.89289,     0.89389,     0.89489,      0.8959,      0.8969,      0.8979,      0.8989,      0.8999,      0.9009,      0.9019,      0.9029,      0.9039,      0.9049,     0.90591,     0.90691,     0.90791,     0.90891,     0.90991,     0.91091,     0.91191,\n",
              "           0.91291,     0.91391,     0.91491,     0.91592,     0.91692,     0.91792,     0.91892,     0.91992,     0.92092,     0.92192,     0.92292,     0.92392,     0.92492,     0.92593,     0.92693,     0.92793,     0.92893,     0.92993,     0.93093,     0.93193,     0.93293,     0.93393,     0.93493,     0.93594,\n",
              "           0.93694,     0.93794,     0.93894,     0.93994,     0.94094,     0.94194,     0.94294,     0.94394,     0.94494,     0.94595,     0.94695,     0.94795,     0.94895,     0.94995,     0.95095,     0.95195,     0.95295,     0.95395,     0.95495,     0.95596,     0.95696,     0.95796,     0.95896,     0.95996,\n",
              "           0.96096,     0.96196,     0.96296,     0.96396,     0.96496,     0.96597,     0.96697,     0.96797,     0.96897,     0.96997,     0.97097,     0.97197,     0.97297,     0.97397,     0.97497,     0.97598,     0.97698,     0.97798,     0.97898,     0.97998,     0.98098,     0.98198,     0.98298,     0.98398,\n",
              "           0.98498,     0.98599,     0.98699,     0.98799,     0.98899,     0.98999,     0.99099,     0.99199,     0.99299,     0.99399,     0.99499,       0.996,       0.997,       0.998,       0.999,           1]), array([[     0.2069,      0.2069,     0.27551,     0.31908,     0.35904,     0.39634,      0.4278,     0.44691,     0.46207,     0.47047,     0.48038,     0.48749,     0.49681,     0.50642,     0.51708,     0.52336,     0.53115,      0.5382,     0.54711,     0.55613,     0.56576,     0.57453,     0.57947,\n",
              "            0.58223,     0.58399,     0.58596,     0.59118,     0.59733,     0.60661,      0.6116,     0.61486,     0.61685,     0.61958,     0.62128,     0.62218,     0.62378,     0.62561,     0.62747,     0.63185,     0.63695,      0.6377,     0.63853,     0.64089,     0.64269,     0.64349,      0.6453,\n",
              "             0.6516,     0.65243,     0.65345,     0.65585,     0.66034,     0.66268,     0.66619,      0.6674,     0.66831,     0.66926,     0.67023,     0.67158,     0.67545,     0.67901,     0.68471,     0.68873,     0.69037,     0.69454,     0.69721,     0.69993,     0.70049,     0.70104,      0.7016,\n",
              "            0.70251,     0.70375,     0.70701,     0.70981,     0.71093,     0.71127,     0.71162,     0.71196,      0.7123,     0.71265,     0.71315,     0.71447,     0.71553,      0.7163,     0.71705,     0.71871,     0.72437,     0.72696,     0.72765,     0.72833,     0.72902,     0.73083,     0.73622,\n",
              "            0.73858,     0.73884,      0.7391,     0.73937,     0.73963,     0.73989,     0.74015,     0.74042,     0.74068,     0.74094,     0.74195,     0.74309,      0.7458,     0.74808,     0.74865,       0.749,     0.74934,     0.74969,     0.75003,     0.75038,     0.75072,     0.75231,     0.75501,\n",
              "            0.75606,     0.75634,     0.75663,     0.75691,     0.75719,     0.75748,     0.75776,     0.75804,     0.75832,     0.75855,     0.75876,     0.75896,     0.75917,     0.75937,     0.75958,     0.75979,     0.75999,      0.7602,     0.76041,     0.76061,     0.76082,      0.7611,      0.7615,\n",
              "             0.7619,     0.76229,     0.76269,     0.76309,     0.76349,     0.76598,     0.76232,     0.76321,      0.7641,     0.76596,      0.7702,     0.77098,     0.77175,      0.7725,     0.77308,     0.77366,     0.77423,     0.77481,     0.77522,     0.77548,     0.77573,     0.77599,     0.77625,\n",
              "             0.7765,     0.77676,     0.77702,     0.77727,     0.77753,     0.77779,     0.77835,     0.77891,     0.77946,     0.78002,     0.78055,     0.78099,     0.78143,     0.78187,     0.78231,     0.78275,     0.78319,     0.78472,     0.78576,     0.78484,     0.78392,     0.78299,     0.78207,\n",
              "            0.78239,     0.78359,     0.78508,      0.7873,     0.78845,     0.78959,     0.79305,     0.79461,     0.79584,      0.7963,     0.79676,     0.79722,     0.79768,     0.79814,     0.79862,     0.79941,      0.8002,     0.80099,     0.80151,     0.80167,     0.80183,     0.80199,     0.80215,\n",
              "            0.80231,     0.80247,     0.80263,     0.80279,     0.80295,     0.80311,     0.80327,     0.80343,     0.80359,     0.80375,     0.80391,     0.80407,     0.80423,     0.80763,     0.80905,     0.81108,     0.81327,     0.81342,     0.81357,     0.81371,     0.81386,     0.81401,     0.81416,\n",
              "            0.81431,     0.81445,      0.8146,     0.81475,      0.8149,     0.81504,     0.81519,     0.81534,     0.81549,     0.81563,     0.81578,     0.81593,     0.81608,     0.81637,     0.81696,     0.81754,     0.81813,     0.81872,     0.81931,      0.8199,     0.82049,     0.82109,     0.82168,\n",
              "            0.82225,     0.82263,     0.82301,     0.82339,     0.82377,     0.82415,     0.82453,     0.82491,     0.82531,     0.82628,     0.82725,     0.82822,     0.83018,     0.83067,     0.82867,     0.82727,     0.82825,     0.82924,      0.8302,     0.83065,     0.83109,     0.83154,     0.83198,\n",
              "            0.83243,     0.83287,     0.83331,     0.83513,     0.83216,     0.83236,     0.83256,     0.83275,     0.83295,     0.83315,     0.83335,     0.83355,     0.83375,     0.83394,     0.83414,     0.83434,     0.83454,     0.83473,     0.83493,     0.83513,     0.83612,     0.83832,     0.83892,\n",
              "            0.83941,     0.83991,      0.8404,     0.84089,     0.84138,     0.84287,     0.84507,     0.84535,     0.84563,     0.84591,     0.84619,     0.84647,     0.84675,     0.84703,     0.84731,      0.8476,     0.84788,     0.84816,     0.84878,     0.84958,     0.85038,     0.85118,     0.85542,\n",
              "             0.8564,     0.85739,     0.85834,       0.859,     0.85966,     0.86033,     0.86099,     0.86165,     0.86508,     0.86559,      0.8661,      0.8666,     0.86711,     0.86761,     0.86811,     0.86839,     0.86765,     0.86691,     0.86617,     0.86543,     0.86468,     0.86406,     0.86486,\n",
              "            0.86565,     0.86644,     0.86723,     0.86762,     0.86784,     0.86806,     0.86827,     0.86849,     0.86871,     0.86893,     0.86914,     0.86936,     0.86958,      0.8698,     0.87001,     0.87023,     0.87045,     0.87066,     0.87088,     0.87102,     0.87112,     0.87122,     0.87131,\n",
              "            0.87141,      0.8715,      0.8716,      0.8717,     0.87179,     0.87189,     0.87198,     0.87208,     0.87218,     0.87227,     0.87237,     0.87246,     0.87256,     0.87266,     0.87275,     0.87285,     0.87294,     0.87304,     0.87313,     0.87323,     0.87333,     0.87342,     0.87352,\n",
              "            0.87361,     0.87371,      0.8738,      0.8739,     0.87399,     0.87409,     0.87419,     0.87428,     0.87438,     0.87447,      0.8746,     0.87473,     0.87486,       0.875,     0.87513,     0.87527,      0.8754,     0.87554,     0.87567,      0.8758,     0.87594,     0.87607,      0.8762,\n",
              "            0.87634,     0.87647,     0.87661,     0.87674,     0.87687,     0.87701,     0.87714,     0.87727,     0.87741,     0.87754,     0.87767,     0.87781,     0.87794,     0.87801,     0.87779,     0.87758,     0.87736,     0.87715,     0.87693,     0.87672,      0.8765,     0.87629,     0.87607,\n",
              "            0.87585,     0.87564,     0.87542,     0.87521,     0.87499,     0.87478,     0.87456,     0.87434,     0.87413,     0.87391,     0.87369,     0.87348,     0.87356,     0.87366,     0.87375,     0.87385,     0.87394,     0.87404,     0.87413,     0.87423,     0.87432,     0.87442,     0.87451,\n",
              "             0.8746,      0.8747,     0.87479,     0.87489,     0.87498,     0.87508,     0.87517,     0.87527,     0.87536,     0.87546,     0.87555,     0.87565,     0.87574,     0.87584,     0.87593,     0.87603,     0.87612,     0.87621,     0.87631,      0.8764,      0.8765,     0.87659,     0.87669,\n",
              "            0.87678,     0.87688,     0.87697,     0.87764,      0.8807,     0.88094,     0.88117,      0.8814,     0.88164,     0.88187,      0.8821,     0.88234,     0.88257,      0.8828,     0.88304,     0.88327,      0.8835,     0.88373,     0.88397,      0.8842,     0.88443,     0.88467,      0.8849,\n",
              "            0.88514,     0.88538,     0.88561,     0.88585,     0.88608,     0.88632,     0.88655,     0.88679,     0.88702,     0.88726,     0.88749,     0.88772,     0.88796,     0.89351,      0.8954,     0.89556,     0.89572,     0.89588,     0.89604,     0.89621,     0.89637,     0.89653,     0.89669,\n",
              "            0.89685,     0.89701,     0.89717,     0.89733,     0.89749,     0.89765,     0.89781,     0.89797,     0.89813,     0.89829,     0.89845,     0.89861,     0.89878,     0.89894,      0.8991,     0.89994,     0.90124,     0.90253,     0.90277,      0.9025,     0.90223,     0.90196,     0.90168,\n",
              "            0.90141,     0.90114,     0.90087,      0.9006,     0.90032,     0.90005,     0.89978,     0.89951,     0.89923,     0.89896,     0.89869,     0.89841,      0.8987,     0.89935,     0.90001,     0.90066,     0.90131,     0.90196,     0.90262,     0.90328,     0.90394,      0.9046,     0.90526,\n",
              "            0.90591,     0.90615,     0.90634,     0.90653,     0.90672,     0.90691,      0.9071,     0.90729,     0.90748,     0.90767,     0.90786,     0.90805,     0.90824,     0.90843,     0.90862,     0.90881,       0.909,     0.90919,     0.90938,     0.90957,     0.90976,      0.9089,     0.90649,\n",
              "            0.90052,     0.90071,      0.9009,      0.9011,     0.90129,     0.90148,     0.90167,     0.90186,     0.90205,     0.90224,     0.90243,     0.90263,     0.90282,     0.90301,      0.9032,     0.90339,     0.90358,     0.90377,     0.90396,     0.90415,     0.90434,     0.90476,     0.90519,\n",
              "            0.90562,     0.90604,     0.90647,     0.90689,     0.90732,     0.90774,     0.90817,     0.90777,     0.90702,     0.90626,     0.90551,     0.90475,       0.904,     0.90341,     0.90313,     0.90284,     0.90256,     0.90228,       0.902,     0.90171,     0.90143,     0.90115,     0.90087,\n",
              "            0.90058,      0.9003,     0.90002,     0.89973,     0.89945,     0.89917,     0.89888,     0.89862,     0.89842,     0.89822,     0.89802,     0.89783,     0.89763,     0.89743,     0.89723,     0.89703,     0.89683,     0.89663,     0.89643,     0.89623,     0.89603,     0.89583,     0.89563,\n",
              "            0.89543,     0.89523,     0.89503,     0.89483,     0.89463,     0.89443,     0.89423,     0.89403,     0.89383,      0.8908,     0.88873,     0.88837,     0.88801,     0.88765,     0.88728,     0.88692,     0.88656,     0.88619,     0.88583,     0.88547,      0.8851,     0.88474,     0.88438,\n",
              "            0.88401,     0.88314,     0.88211,     0.88109,     0.88006,     0.87903,     0.87661,     0.87402,     0.86955,     0.87036,     0.87117,     0.87197,     0.87261,     0.87086,      0.8691,     0.86743,     0.86637,     0.86531,     0.86424,     0.86317,     0.86211,     0.86103,     0.85996,\n",
              "            0.85888,     0.85781,     0.86373,      0.8601,     0.85729,     0.85455,     0.84726,     0.84539,     0.84364,     0.84446,     0.84529,     0.84611,     0.84693,     0.84754,     0.84702,     0.84651,       0.846,     0.84549,     0.84497,     0.84446,     0.84394,     0.84343,     0.84291,\n",
              "             0.8424,      0.8417,     0.84075,      0.8398,     0.83885,     0.83789,     0.83694,      0.8358,     0.83452,     0.83324,     0.83196,     0.83102,     0.83158,     0.83213,     0.83268,     0.83323,     0.83378,     0.83433,     0.83488,     0.82267,     0.82168,     0.82069,      0.8197,\n",
              "            0.81871,     0.81775,      0.8188,     0.81983,     0.82087,     0.82163,      0.8203,     0.81896,     0.81763,     0.81629,     0.81299,     0.80947,     0.80743,     0.80538,     0.80542,     0.80759,     0.80621,     0.80484,     0.80345,     0.80207,     0.80093,     0.79979,     0.79865,\n",
              "            0.79751,     0.79637,     0.79544,     0.79465,     0.79386,     0.79307,     0.79228,     0.79149,      0.7907,      0.7899,     0.78282,     0.78196,      0.7811,     0.78024,     0.77938,     0.77851,     0.77765,     0.77657,     0.77527,     0.77397,     0.77266,     0.77135,     0.76279,\n",
              "            0.76013,     0.75104,     0.74935,     0.74764,     0.74594,     0.73724,     0.73446,     0.73167,     0.72539,     0.71333,     0.70988,     0.70856,     0.70724,     0.70592,      0.7046,     0.68883,     0.68584,     0.68283,     0.67981,     0.67677,     0.67361,     0.66978,     0.66568,\n",
              "            0.66051,     0.65719,     0.65458,     0.65195,     0.64889,     0.64571,     0.64078,     0.62474,     0.61648,     0.61072,     0.60832,     0.60592,     0.60346,     0.59921,     0.59494,     0.59064,      0.5858,     0.57748,     0.57159,     0.56768,     0.56471,     0.56172,     0.51785,\n",
              "              0.512,     0.50717,     0.48306,     0.47805,      0.4679,     0.46833,     0.46875,     0.46917,     0.46958,        0.47,     0.47041,     0.45471,     0.44418,     0.43351,     0.42611,     0.42067,     0.41144,     0.39604,     0.39039,     0.38469,     0.37896,     0.34962,     0.34163,\n",
              "            0.34105,     0.34176,     0.34247,     0.32879,     0.32384,     0.31886,     0.31635,     0.31384,     0.31132,      0.3088,     0.29368,        0.29,      0.2863,     0.28258,     0.28065,     0.27946,     0.27827,     0.27708,     0.27588,     0.27469,     0.27349,     0.27229,     0.27109,\n",
              "            0.26989,     0.26869,     0.25567,     0.24176,     0.24046,     0.23916,     0.23785,     0.23654,     0.23523,     0.23392,     0.23261,     0.23129,     0.22998,     0.22855,     0.22681,     0.22507,     0.22333,     0.22159,     0.21984,     0.21809,     0.21633,      0.2023,     0.19223,\n",
              "             0.1732,     0.17197,     0.17074,     0.16951,     0.16827,     0.16704,      0.1658,     0.16456,     0.16332,     0.16208,     0.16083,     0.15958,     0.15636,     0.14883,     0.14277,     0.13937,     0.13597,     0.13255,     0.12912,     0.11127,       0.106,      0.1007,    0.096571,\n",
              "           0.093364,    0.090146,    0.086918,    0.083678,    0.077093,     0.06889,    0.064251,    0.060934,    0.057606,    0.054266,    0.050915,    0.048031,    0.045221,    0.042404,    0.039578,    0.036743,    0.033901,    0.031458,    0.029009,    0.026554,    0.024093,    0.021625,    0.019152,\n",
              "                  0,           0,           0,           0,           0,           0,           0,           0,           0,           0,           0,           0,           0,           0,           0,           0,           0,           0,           0,           0,           0,           0,           0,\n",
              "                  0,           0,           0,           0,           0,           0,           0,           0,           0,           0,           0]]), 'Confidence', 'F1'], [array([          0,    0.001001,    0.002002,    0.003003,    0.004004,    0.005005,    0.006006,    0.007007,    0.008008,    0.009009,     0.01001,    0.011011,    0.012012,    0.013013,    0.014014,    0.015015,    0.016016,    0.017017,    0.018018,    0.019019,     0.02002,    0.021021,    0.022022,    0.023023,\n",
              "          0.024024,    0.025025,    0.026026,    0.027027,    0.028028,    0.029029,     0.03003,    0.031031,    0.032032,    0.033033,    0.034034,    0.035035,    0.036036,    0.037037,    0.038038,    0.039039,     0.04004,    0.041041,    0.042042,    0.043043,    0.044044,    0.045045,    0.046046,    0.047047,\n",
              "          0.048048,    0.049049,     0.05005,    0.051051,    0.052052,    0.053053,    0.054054,    0.055055,    0.056056,    0.057057,    0.058058,    0.059059,     0.06006,    0.061061,    0.062062,    0.063063,    0.064064,    0.065065,    0.066066,    0.067067,    0.068068,    0.069069,     0.07007,    0.071071,\n",
              "          0.072072,    0.073073,    0.074074,    0.075075,    0.076076,    0.077077,    0.078078,    0.079079,     0.08008,    0.081081,    0.082082,    0.083083,    0.084084,    0.085085,    0.086086,    0.087087,    0.088088,    0.089089,     0.09009,    0.091091,    0.092092,    0.093093,    0.094094,    0.095095,\n",
              "          0.096096,    0.097097,    0.098098,    0.099099,      0.1001,      0.1011,      0.1021,      0.1031,      0.1041,     0.10511,     0.10611,     0.10711,     0.10811,     0.10911,     0.11011,     0.11111,     0.11211,     0.11311,     0.11411,     0.11512,     0.11612,     0.11712,     0.11812,     0.11912,\n",
              "           0.12012,     0.12112,     0.12212,     0.12312,     0.12412,     0.12513,     0.12613,     0.12713,     0.12813,     0.12913,     0.13013,     0.13113,     0.13213,     0.13313,     0.13413,     0.13514,     0.13614,     0.13714,     0.13814,     0.13914,     0.14014,     0.14114,     0.14214,     0.14314,\n",
              "           0.14414,     0.14515,     0.14615,     0.14715,     0.14815,     0.14915,     0.15015,     0.15115,     0.15215,     0.15315,     0.15415,     0.15516,     0.15616,     0.15716,     0.15816,     0.15916,     0.16016,     0.16116,     0.16216,     0.16316,     0.16416,     0.16517,     0.16617,     0.16717,\n",
              "           0.16817,     0.16917,     0.17017,     0.17117,     0.17217,     0.17317,     0.17417,     0.17518,     0.17618,     0.17718,     0.17818,     0.17918,     0.18018,     0.18118,     0.18218,     0.18318,     0.18418,     0.18519,     0.18619,     0.18719,     0.18819,     0.18919,     0.19019,     0.19119,\n",
              "           0.19219,     0.19319,     0.19419,      0.1952,      0.1962,      0.1972,      0.1982,      0.1992,      0.2002,      0.2012,      0.2022,      0.2032,      0.2042,     0.20521,     0.20621,     0.20721,     0.20821,     0.20921,     0.21021,     0.21121,     0.21221,     0.21321,     0.21421,     0.21522,\n",
              "           0.21622,     0.21722,     0.21822,     0.21922,     0.22022,     0.22122,     0.22222,     0.22322,     0.22422,     0.22523,     0.22623,     0.22723,     0.22823,     0.22923,     0.23023,     0.23123,     0.23223,     0.23323,     0.23423,     0.23524,     0.23624,     0.23724,     0.23824,     0.23924,\n",
              "           0.24024,     0.24124,     0.24224,     0.24324,     0.24424,     0.24525,     0.24625,     0.24725,     0.24825,     0.24925,     0.25025,     0.25125,     0.25225,     0.25325,     0.25425,     0.25526,     0.25626,     0.25726,     0.25826,     0.25926,     0.26026,     0.26126,     0.26226,     0.26326,\n",
              "           0.26426,     0.26527,     0.26627,     0.26727,     0.26827,     0.26927,     0.27027,     0.27127,     0.27227,     0.27327,     0.27427,     0.27528,     0.27628,     0.27728,     0.27828,     0.27928,     0.28028,     0.28128,     0.28228,     0.28328,     0.28428,     0.28529,     0.28629,     0.28729,\n",
              "           0.28829,     0.28929,     0.29029,     0.29129,     0.29229,     0.29329,     0.29429,      0.2953,      0.2963,      0.2973,      0.2983,      0.2993,      0.3003,      0.3013,      0.3023,      0.3033,      0.3043,     0.30531,     0.30631,     0.30731,     0.30831,     0.30931,     0.31031,     0.31131,\n",
              "           0.31231,     0.31331,     0.31431,     0.31532,     0.31632,     0.31732,     0.31832,     0.31932,     0.32032,     0.32132,     0.32232,     0.32332,     0.32432,     0.32533,     0.32633,     0.32733,     0.32833,     0.32933,     0.33033,     0.33133,     0.33233,     0.33333,     0.33433,     0.33534,\n",
              "           0.33634,     0.33734,     0.33834,     0.33934,     0.34034,     0.34134,     0.34234,     0.34334,     0.34434,     0.34535,     0.34635,     0.34735,     0.34835,     0.34935,     0.35035,     0.35135,     0.35235,     0.35335,     0.35435,     0.35536,     0.35636,     0.35736,     0.35836,     0.35936,\n",
              "           0.36036,     0.36136,     0.36236,     0.36336,     0.36436,     0.36537,     0.36637,     0.36737,     0.36837,     0.36937,     0.37037,     0.37137,     0.37237,     0.37337,     0.37437,     0.37538,     0.37638,     0.37738,     0.37838,     0.37938,     0.38038,     0.38138,     0.38238,     0.38338,\n",
              "           0.38438,     0.38539,     0.38639,     0.38739,     0.38839,     0.38939,     0.39039,     0.39139,     0.39239,     0.39339,     0.39439,      0.3954,      0.3964,      0.3974,      0.3984,      0.3994,      0.4004,      0.4014,      0.4024,      0.4034,      0.4044,     0.40541,     0.40641,     0.40741,\n",
              "           0.40841,     0.40941,     0.41041,     0.41141,     0.41241,     0.41341,     0.41441,     0.41542,     0.41642,     0.41742,     0.41842,     0.41942,     0.42042,     0.42142,     0.42242,     0.42342,     0.42442,     0.42543,     0.42643,     0.42743,     0.42843,     0.42943,     0.43043,     0.43143,\n",
              "           0.43243,     0.43343,     0.43443,     0.43544,     0.43644,     0.43744,     0.43844,     0.43944,     0.44044,     0.44144,     0.44244,     0.44344,     0.44444,     0.44545,     0.44645,     0.44745,     0.44845,     0.44945,     0.45045,     0.45145,     0.45245,     0.45345,     0.45445,     0.45546,\n",
              "           0.45646,     0.45746,     0.45846,     0.45946,     0.46046,     0.46146,     0.46246,     0.46346,     0.46446,     0.46547,     0.46647,     0.46747,     0.46847,     0.46947,     0.47047,     0.47147,     0.47247,     0.47347,     0.47447,     0.47548,     0.47648,     0.47748,     0.47848,     0.47948,\n",
              "           0.48048,     0.48148,     0.48248,     0.48348,     0.48448,     0.48549,     0.48649,     0.48749,     0.48849,     0.48949,     0.49049,     0.49149,     0.49249,     0.49349,     0.49449,      0.4955,      0.4965,      0.4975,      0.4985,      0.4995,      0.5005,      0.5015,      0.5025,      0.5035,\n",
              "            0.5045,     0.50551,     0.50651,     0.50751,     0.50851,     0.50951,     0.51051,     0.51151,     0.51251,     0.51351,     0.51451,     0.51552,     0.51652,     0.51752,     0.51852,     0.51952,     0.52052,     0.52152,     0.52252,     0.52352,     0.52452,     0.52553,     0.52653,     0.52753,\n",
              "           0.52853,     0.52953,     0.53053,     0.53153,     0.53253,     0.53353,     0.53453,     0.53554,     0.53654,     0.53754,     0.53854,     0.53954,     0.54054,     0.54154,     0.54254,     0.54354,     0.54454,     0.54555,     0.54655,     0.54755,     0.54855,     0.54955,     0.55055,     0.55155,\n",
              "           0.55255,     0.55355,     0.55455,     0.55556,     0.55656,     0.55756,     0.55856,     0.55956,     0.56056,     0.56156,     0.56256,     0.56356,     0.56456,     0.56557,     0.56657,     0.56757,     0.56857,     0.56957,     0.57057,     0.57157,     0.57257,     0.57357,     0.57457,     0.57558,\n",
              "           0.57658,     0.57758,     0.57858,     0.57958,     0.58058,     0.58158,     0.58258,     0.58358,     0.58458,     0.58559,     0.58659,     0.58759,     0.58859,     0.58959,     0.59059,     0.59159,     0.59259,     0.59359,     0.59459,      0.5956,      0.5966,      0.5976,      0.5986,      0.5996,\n",
              "            0.6006,      0.6016,      0.6026,      0.6036,      0.6046,     0.60561,     0.60661,     0.60761,     0.60861,     0.60961,     0.61061,     0.61161,     0.61261,     0.61361,     0.61461,     0.61562,     0.61662,     0.61762,     0.61862,     0.61962,     0.62062,     0.62162,     0.62262,     0.62362,\n",
              "           0.62462,     0.62563,     0.62663,     0.62763,     0.62863,     0.62963,     0.63063,     0.63163,     0.63263,     0.63363,     0.63463,     0.63564,     0.63664,     0.63764,     0.63864,     0.63964,     0.64064,     0.64164,     0.64264,     0.64364,     0.64464,     0.64565,     0.64665,     0.64765,\n",
              "           0.64865,     0.64965,     0.65065,     0.65165,     0.65265,     0.65365,     0.65465,     0.65566,     0.65666,     0.65766,     0.65866,     0.65966,     0.66066,     0.66166,     0.66266,     0.66366,     0.66466,     0.66567,     0.66667,     0.66767,     0.66867,     0.66967,     0.67067,     0.67167,\n",
              "           0.67267,     0.67367,     0.67467,     0.67568,     0.67668,     0.67768,     0.67868,     0.67968,     0.68068,     0.68168,     0.68268,     0.68368,     0.68468,     0.68569,     0.68669,     0.68769,     0.68869,     0.68969,     0.69069,     0.69169,     0.69269,     0.69369,     0.69469,      0.6957,\n",
              "            0.6967,      0.6977,      0.6987,      0.6997,      0.7007,      0.7017,      0.7027,      0.7037,      0.7047,     0.70571,     0.70671,     0.70771,     0.70871,     0.70971,     0.71071,     0.71171,     0.71271,     0.71371,     0.71471,     0.71572,     0.71672,     0.71772,     0.71872,     0.71972,\n",
              "           0.72072,     0.72172,     0.72272,     0.72372,     0.72472,     0.72573,     0.72673,     0.72773,     0.72873,     0.72973,     0.73073,     0.73173,     0.73273,     0.73373,     0.73473,     0.73574,     0.73674,     0.73774,     0.73874,     0.73974,     0.74074,     0.74174,     0.74274,     0.74374,\n",
              "           0.74474,     0.74575,     0.74675,     0.74775,     0.74875,     0.74975,     0.75075,     0.75175,     0.75275,     0.75375,     0.75475,     0.75576,     0.75676,     0.75776,     0.75876,     0.75976,     0.76076,     0.76176,     0.76276,     0.76376,     0.76476,     0.76577,     0.76677,     0.76777,\n",
              "           0.76877,     0.76977,     0.77077,     0.77177,     0.77277,     0.77377,     0.77477,     0.77578,     0.77678,     0.77778,     0.77878,     0.77978,     0.78078,     0.78178,     0.78278,     0.78378,     0.78478,     0.78579,     0.78679,     0.78779,     0.78879,     0.78979,     0.79079,     0.79179,\n",
              "           0.79279,     0.79379,     0.79479,      0.7958,      0.7968,      0.7978,      0.7988,      0.7998,      0.8008,      0.8018,      0.8028,      0.8038,      0.8048,     0.80581,     0.80681,     0.80781,     0.80881,     0.80981,     0.81081,     0.81181,     0.81281,     0.81381,     0.81481,     0.81582,\n",
              "           0.81682,     0.81782,     0.81882,     0.81982,     0.82082,     0.82182,     0.82282,     0.82382,     0.82482,     0.82583,     0.82683,     0.82783,     0.82883,     0.82983,     0.83083,     0.83183,     0.83283,     0.83383,     0.83483,     0.83584,     0.83684,     0.83784,     0.83884,     0.83984,\n",
              "           0.84084,     0.84184,     0.84284,     0.84384,     0.84484,     0.84585,     0.84685,     0.84785,     0.84885,     0.84985,     0.85085,     0.85185,     0.85285,     0.85385,     0.85485,     0.85586,     0.85686,     0.85786,     0.85886,     0.85986,     0.86086,     0.86186,     0.86286,     0.86386,\n",
              "           0.86486,     0.86587,     0.86687,     0.86787,     0.86887,     0.86987,     0.87087,     0.87187,     0.87287,     0.87387,     0.87487,     0.87588,     0.87688,     0.87788,     0.87888,     0.87988,     0.88088,     0.88188,     0.88288,     0.88388,     0.88488,     0.88589,     0.88689,     0.88789,\n",
              "           0.88889,     0.88989,     0.89089,     0.89189,     0.89289,     0.89389,     0.89489,      0.8959,      0.8969,      0.8979,      0.8989,      0.8999,      0.9009,      0.9019,      0.9029,      0.9039,      0.9049,     0.90591,     0.90691,     0.90791,     0.90891,     0.90991,     0.91091,     0.91191,\n",
              "           0.91291,     0.91391,     0.91491,     0.91592,     0.91692,     0.91792,     0.91892,     0.91992,     0.92092,     0.92192,     0.92292,     0.92392,     0.92492,     0.92593,     0.92693,     0.92793,     0.92893,     0.92993,     0.93093,     0.93193,     0.93293,     0.93393,     0.93493,     0.93594,\n",
              "           0.93694,     0.93794,     0.93894,     0.93994,     0.94094,     0.94194,     0.94294,     0.94394,     0.94494,     0.94595,     0.94695,     0.94795,     0.94895,     0.94995,     0.95095,     0.95195,     0.95295,     0.95395,     0.95495,     0.95596,     0.95696,     0.95796,     0.95896,     0.95996,\n",
              "           0.96096,     0.96196,     0.96296,     0.96396,     0.96496,     0.96597,     0.96697,     0.96797,     0.96897,     0.96997,     0.97097,     0.97197,     0.97297,     0.97397,     0.97497,     0.97598,     0.97698,     0.97798,     0.97898,     0.97998,     0.98098,     0.98198,     0.98298,     0.98398,\n",
              "           0.98498,     0.98599,     0.98699,     0.98799,     0.98899,     0.98999,     0.99099,     0.99199,     0.99299,     0.99399,     0.99499,       0.996,       0.997,       0.998,       0.999,           1]), array([[    0.11562,     0.11562,     0.16021,     0.19046,     0.21964,     0.24822,     0.27341,     0.28922,     0.30204,     0.30926,     0.31788,     0.32414,     0.33243,     0.34109,     0.35083,     0.35664,     0.36392,     0.37057,     0.37907,     0.38779,     0.39722,     0.40592,     0.41086,\n",
              "            0.41364,     0.41542,     0.41742,     0.42274,     0.42906,      0.4387,     0.44572,     0.44919,     0.45132,     0.45424,     0.45607,     0.45705,     0.45878,     0.46076,     0.46278,     0.46756,     0.47317,       0.474,     0.47491,     0.47753,     0.47953,     0.48042,     0.48244,\n",
              "            0.48952,     0.49046,     0.49161,     0.49433,     0.49946,     0.50214,     0.50617,     0.50758,     0.50863,     0.50973,     0.51086,     0.51243,     0.51695,     0.52112,     0.52787,     0.53266,     0.53463,     0.53965,     0.54288,     0.54618,     0.54686,     0.54754,     0.54822,\n",
              "            0.54934,     0.55085,     0.55485,     0.55831,      0.5597,     0.56012,     0.56055,     0.56098,      0.5614,     0.56183,     0.56245,      0.5641,     0.56543,     0.56638,     0.56733,      0.5694,     0.57654,     0.57983,     0.58071,     0.58158,     0.58245,     0.58478,     0.59171,\n",
              "            0.59475,      0.5951,     0.59544,     0.59578,     0.59612,     0.59646,      0.5968,     0.59715,     0.59749,     0.59783,     0.59914,     0.60063,     0.60418,     0.60717,     0.60793,     0.60839,     0.60884,      0.6093,     0.60975,     0.61021,     0.61067,     0.61278,     0.61636,\n",
              "            0.61776,     0.61814,     0.61852,      0.6189,     0.61928,     0.61966,     0.62004,     0.62041,     0.62079,     0.62109,     0.62137,     0.62165,     0.62192,      0.6222,     0.62248,     0.62276,     0.62303,     0.62331,     0.62359,     0.62386,     0.62414,     0.62452,     0.62506,\n",
              "            0.62559,     0.62613,     0.62667,      0.6272,     0.62774,     0.63112,     0.62978,       0.631,     0.63221,     0.63476,     0.64061,     0.64169,     0.64276,      0.6438,      0.6446,      0.6454,     0.64621,     0.64701,     0.64758,     0.64794,      0.6483,     0.64866,     0.64902,\n",
              "            0.64938,     0.64974,      0.6501,     0.65046,     0.65081,     0.65118,     0.65197,     0.65275,     0.65353,     0.65431,     0.65506,     0.65568,      0.6563,     0.65692,     0.65754,     0.65816,     0.65878,     0.66095,     0.66262,     0.66219,     0.66176,     0.66133,     0.66089,\n",
              "            0.66172,     0.66343,     0.66557,     0.66876,     0.67042,     0.67209,     0.67712,     0.67939,     0.68118,     0.68186,     0.68253,     0.68321,     0.68389,     0.68456,     0.68528,     0.68644,      0.6876,     0.68877,     0.68954,     0.68978,     0.69001,     0.69025,     0.69049,\n",
              "            0.69073,     0.69096,      0.6912,     0.69144,     0.69167,     0.69191,     0.69215,     0.69239,     0.69262,     0.69286,      0.6931,     0.69333,     0.69357,     0.69864,     0.70078,     0.70382,     0.70713,     0.70736,     0.70758,      0.7078,     0.70803,     0.70825,     0.70848,\n",
              "             0.7087,     0.70892,     0.70915,     0.70937,      0.7096,     0.70982,     0.71004,     0.71027,     0.71049,     0.71072,     0.71094,     0.71116,     0.71139,     0.71183,     0.71272,     0.71362,     0.71452,     0.71541,     0.71631,     0.71722,     0.71813,     0.71904,     0.71994,\n",
              "            0.72083,     0.72141,       0.722,     0.72258,     0.72317,     0.72375,     0.72434,     0.72492,     0.72554,     0.72704,     0.72855,     0.73005,     0.73311,     0.73478,     0.73398,     0.73365,      0.7352,     0.73675,     0.73828,     0.73898,     0.73969,     0.74039,      0.7411,\n",
              "             0.7418,     0.74251,     0.74321,     0.74777,     0.74673,     0.74705,     0.74737,     0.74769,     0.74801,     0.74833,     0.74865,     0.74897,     0.74929,     0.74961,     0.74993,     0.75025,     0.75057,     0.75089,     0.75121,     0.75153,     0.75314,     0.75671,      0.7577,\n",
              "             0.7585,      0.7593,     0.76011,     0.76091,     0.76171,     0.76416,     0.76778,     0.76824,     0.76871,     0.76917,     0.76964,      0.7701,     0.77057,     0.77103,      0.7715,     0.77196,     0.77243,     0.77289,     0.77394,     0.77527,      0.7766,     0.77793,     0.78504,\n",
              "             0.7867,     0.78837,     0.78997,      0.7911,     0.79223,     0.79335,     0.79448,      0.7956,     0.80148,     0.80235,     0.80322,     0.80409,     0.80495,     0.80582,     0.80669,     0.80737,     0.80713,     0.80689,     0.80666,     0.80642,     0.80619,     0.80608,     0.80746,\n",
              "            0.80884,     0.81022,      0.8116,     0.81229,     0.81268,     0.81306,     0.81344,     0.81382,     0.81421,     0.81459,     0.81497,     0.81535,     0.81573,     0.81612,      0.8165,     0.81688,     0.81726,     0.81764,     0.81803,     0.81828,     0.81845,     0.81862,     0.81879,\n",
              "            0.81896,     0.81913,      0.8193,     0.81947,     0.81964,     0.81981,     0.81998,     0.82015,     0.82032,     0.82049,     0.82066,     0.82083,       0.821,     0.82117,     0.82134,      0.8215,     0.82167,     0.82184,     0.82201,     0.82218,     0.82235,     0.82252,     0.82269,\n",
              "            0.82286,     0.82303,      0.8232,     0.82337,     0.82354,     0.82371,     0.82388,     0.82405,     0.82422,     0.82439,     0.82461,     0.82485,     0.82509,     0.82533,     0.82556,      0.8258,     0.82604,     0.82628,     0.82652,     0.82676,       0.827,     0.82723,     0.82747,\n",
              "            0.82771,     0.82795,     0.82819,     0.82843,     0.82867,      0.8289,     0.82914,     0.82938,     0.82962,     0.82986,      0.8301,     0.83034,     0.83057,     0.83076,      0.8307,     0.83063,     0.83057,     0.83051,     0.83045,     0.83039,     0.83033,     0.83026,      0.8302,\n",
              "            0.83014,     0.83008,     0.83002,     0.82995,     0.82989,     0.82983,     0.82977,     0.82971,     0.82965,     0.82958,     0.82952,     0.82946,     0.82962,     0.82979,     0.82997,     0.83014,     0.83031,     0.83048,     0.83065,     0.83082,     0.83099,     0.83117,     0.83134,\n",
              "            0.83151,     0.83168,     0.83185,     0.83202,     0.83219,     0.83236,     0.83254,     0.83271,     0.83288,     0.83305,     0.83322,     0.83339,     0.83356,     0.83374,     0.83391,     0.83408,     0.83425,     0.83442,     0.83459,     0.83476,     0.83494,     0.83511,     0.83528,\n",
              "            0.83545,     0.83562,     0.83579,       0.837,      0.8426,     0.84303,     0.84345,     0.84388,     0.84431,     0.84474,     0.84517,      0.8456,     0.84602,     0.84645,     0.84688,     0.84731,     0.84774,     0.84817,      0.8486,     0.84902,     0.84946,     0.84989,     0.85033,\n",
              "            0.85076,      0.8512,     0.85163,     0.85207,      0.8525,     0.85294,     0.85337,     0.85381,     0.85424,     0.85468,     0.85511,     0.85555,     0.85598,     0.86637,     0.86992,     0.87023,     0.87053,     0.87084,     0.87114,     0.87145,     0.87175,     0.87205,     0.87236,\n",
              "            0.87266,     0.87297,     0.87327,     0.87358,     0.87388,     0.87419,     0.87449,      0.8748,      0.8751,      0.8754,     0.87571,     0.87601,     0.87632,     0.87662,     0.87693,     0.87853,     0.88101,     0.88348,     0.88426,      0.8842,     0.88415,     0.88409,     0.88403,\n",
              "            0.88398,     0.88392,     0.88386,     0.88381,     0.88375,     0.88369,     0.88364,     0.88358,     0.88353,     0.88347,     0.88341,     0.88336,     0.88409,     0.88536,     0.88663,      0.8879,     0.88917,     0.89043,     0.89172,     0.89301,      0.8943,     0.89559,     0.89688,\n",
              "            0.89817,     0.89864,     0.89901,     0.89939,     0.89976,     0.90014,     0.90051,     0.90089,     0.90126,     0.90164,     0.90201,     0.90239,     0.90276,     0.90314,     0.90351,     0.90389,     0.90426,     0.90464,     0.90501,     0.90539,     0.90576,     0.90581,      0.9054,\n",
              "            0.90452,     0.90491,      0.9053,     0.90569,     0.90607,     0.90646,     0.90685,     0.90723,     0.90762,     0.90801,      0.9084,     0.90878,     0.90917,     0.90956,     0.90994,     0.91033,     0.91072,     0.91111,     0.91149,     0.91188,     0.91227,     0.91312,     0.91399,\n",
              "            0.91486,     0.91574,     0.91661,     0.91748,     0.91835,     0.91922,     0.92009,     0.92028,     0.92016,     0.92005,     0.91994,     0.91983,     0.91971,     0.91963,     0.91959,     0.91954,      0.9195,     0.91946,     0.91942,     0.91937,     0.91933,     0.91929,     0.91925,\n",
              "             0.9192,     0.91916,     0.91912,     0.91908,     0.91903,     0.91899,     0.91895,     0.91891,     0.91888,     0.91885,     0.91882,     0.91879,     0.91876,     0.91873,      0.9187,     0.91867,     0.91864,     0.91861,     0.91858,     0.91855,     0.91852,     0.91849,     0.91846,\n",
              "            0.91843,      0.9184,     0.91837,     0.91834,     0.91831,     0.91828,     0.91825,     0.91822,     0.91819,     0.91772,     0.91741,     0.91735,      0.9173,     0.91724,     0.91718,     0.91713,     0.91707,     0.91702,     0.91696,      0.9169,     0.91685,     0.91679,     0.91674,\n",
              "            0.91668,     0.91654,     0.91638,     0.91622,     0.91606,      0.9159,     0.91552,     0.91512,     0.91599,     0.91779,     0.91959,     0.92139,     0.92306,      0.9228,     0.92255,     0.92231,     0.92215,       0.922,     0.92184,     0.92168,     0.92153,     0.92137,     0.92121,\n",
              "            0.92105,     0.92089,     0.93923,     0.93881,     0.93848,     0.93815,     0.93728,     0.93706,     0.93693,     0.93897,     0.94101,     0.94306,      0.9451,      0.9468,     0.94675,     0.94669,     0.94664,     0.94659,     0.94653,     0.94648,     0.94643,     0.94637,     0.94632,\n",
              "            0.94627,     0.94619,     0.94609,     0.94599,     0.94589,     0.94579,     0.94569,     0.94557,     0.94544,      0.9453,     0.94517,     0.94533,     0.94676,      0.9482,     0.94963,     0.95107,      0.9525,     0.95394,     0.95537,     0.95447,     0.95438,     0.95429,      0.9542,\n",
              "            0.95411,     0.95408,     0.95692,     0.95976,      0.9626,     0.96511,     0.96501,     0.96492,     0.96482,     0.96473,      0.9645,     0.96425,      0.9641,     0.96395,      0.9679,     0.97559,     0.97552,     0.97545,     0.97538,     0.97531,     0.97525,      0.9752,     0.97514,\n",
              "            0.97508,     0.97502,     0.97498,     0.97493,     0.97489,     0.97485,     0.97481,     0.97477,     0.97473,     0.97469,     0.97432,     0.97428,     0.97423,     0.97419,     0.97414,      0.9741,     0.97405,     0.97399,     0.97392,     0.97385,     0.97378,     0.97371,     0.97324,\n",
              "             0.9731,     0.97259,     0.97249,     0.97239,     0.97229,     0.97179,     0.97162,     0.97146,     0.97108,     0.97033,     0.97012,     0.97003,     0.96995,     0.96986,     0.96978,     0.96875,     0.96854,     0.96834,     0.96813,     0.96792,      0.9677,     0.96743,     0.96714,\n",
              "            0.96677,     0.96653,     0.96633,     0.96614,     0.96591,     0.96567,     0.96529,     0.96403,     0.96335,     0.96287,     0.96267,     0.96246,     0.96226,     0.96188,     0.96151,     0.96113,     0.96069,     0.95992,     0.95936,     0.95899,      0.9587,     0.95841,     0.95373,\n",
              "            0.95305,     0.95248,     0.94946,      0.9488,     0.95043,     0.95393,     0.95743,     0.96093,     0.96443,     0.96793,     0.97142,     0.97177,     0.97093,     0.97003,     0.96939,     0.96891,     0.96805,     0.96654,     0.96595,     0.96535,     0.96472,     0.96121,     0.96016,\n",
              "            0.96996,     0.98168,     0.99339,           1,           1,           1,           1,           1,           1,           1,           1,           1,           1,           1,           1,           1,           1,           1,           1,           1,           1,           1,           1,\n",
              "                  1,           1,           1,           1,           1,           1,           1,           1,           1,           1,           1,           1,           1,           1,           1,           1,           1,           1,           1,           1,           1,           1,           1,\n",
              "                  1,           1,           1,           1,           1,           1,           1,           1,           1,           1,           1,           1,           1,           1,           1,           1,           1,           1,           1,           1,           1,           1,           1,\n",
              "                  1,           1,           1,           1,           1,           1,           1,           1,           1,           1,           1,           1,           1,           1,           1,           1,           1,           1,           1,           1,           1,           1,           1,\n",
              "                  1,           1,           1,           1,           1,           1,           1,           1,           1,           1,           1,           1,           1,           1,           1,           1,           1,           1,           1,           1,           1,           1,           1,\n",
              "                  1,           1,           1,           1,           1,           1,           1,           1,           1,           1,           1]]), 'Confidence', 'Precision'], [array([          0,    0.001001,    0.002002,    0.003003,    0.004004,    0.005005,    0.006006,    0.007007,    0.008008,    0.009009,     0.01001,    0.011011,    0.012012,    0.013013,    0.014014,    0.015015,    0.016016,    0.017017,    0.018018,    0.019019,     0.02002,    0.021021,    0.022022,    0.023023,\n",
              "          0.024024,    0.025025,    0.026026,    0.027027,    0.028028,    0.029029,     0.03003,    0.031031,    0.032032,    0.033033,    0.034034,    0.035035,    0.036036,    0.037037,    0.038038,    0.039039,     0.04004,    0.041041,    0.042042,    0.043043,    0.044044,    0.045045,    0.046046,    0.047047,\n",
              "          0.048048,    0.049049,     0.05005,    0.051051,    0.052052,    0.053053,    0.054054,    0.055055,    0.056056,    0.057057,    0.058058,    0.059059,     0.06006,    0.061061,    0.062062,    0.063063,    0.064064,    0.065065,    0.066066,    0.067067,    0.068068,    0.069069,     0.07007,    0.071071,\n",
              "          0.072072,    0.073073,    0.074074,    0.075075,    0.076076,    0.077077,    0.078078,    0.079079,     0.08008,    0.081081,    0.082082,    0.083083,    0.084084,    0.085085,    0.086086,    0.087087,    0.088088,    0.089089,     0.09009,    0.091091,    0.092092,    0.093093,    0.094094,    0.095095,\n",
              "          0.096096,    0.097097,    0.098098,    0.099099,      0.1001,      0.1011,      0.1021,      0.1031,      0.1041,     0.10511,     0.10611,     0.10711,     0.10811,     0.10911,     0.11011,     0.11111,     0.11211,     0.11311,     0.11411,     0.11512,     0.11612,     0.11712,     0.11812,     0.11912,\n",
              "           0.12012,     0.12112,     0.12212,     0.12312,     0.12412,     0.12513,     0.12613,     0.12713,     0.12813,     0.12913,     0.13013,     0.13113,     0.13213,     0.13313,     0.13413,     0.13514,     0.13614,     0.13714,     0.13814,     0.13914,     0.14014,     0.14114,     0.14214,     0.14314,\n",
              "           0.14414,     0.14515,     0.14615,     0.14715,     0.14815,     0.14915,     0.15015,     0.15115,     0.15215,     0.15315,     0.15415,     0.15516,     0.15616,     0.15716,     0.15816,     0.15916,     0.16016,     0.16116,     0.16216,     0.16316,     0.16416,     0.16517,     0.16617,     0.16717,\n",
              "           0.16817,     0.16917,     0.17017,     0.17117,     0.17217,     0.17317,     0.17417,     0.17518,     0.17618,     0.17718,     0.17818,     0.17918,     0.18018,     0.18118,     0.18218,     0.18318,     0.18418,     0.18519,     0.18619,     0.18719,     0.18819,     0.18919,     0.19019,     0.19119,\n",
              "           0.19219,     0.19319,     0.19419,      0.1952,      0.1962,      0.1972,      0.1982,      0.1992,      0.2002,      0.2012,      0.2022,      0.2032,      0.2042,     0.20521,     0.20621,     0.20721,     0.20821,     0.20921,     0.21021,     0.21121,     0.21221,     0.21321,     0.21421,     0.21522,\n",
              "           0.21622,     0.21722,     0.21822,     0.21922,     0.22022,     0.22122,     0.22222,     0.22322,     0.22422,     0.22523,     0.22623,     0.22723,     0.22823,     0.22923,     0.23023,     0.23123,     0.23223,     0.23323,     0.23423,     0.23524,     0.23624,     0.23724,     0.23824,     0.23924,\n",
              "           0.24024,     0.24124,     0.24224,     0.24324,     0.24424,     0.24525,     0.24625,     0.24725,     0.24825,     0.24925,     0.25025,     0.25125,     0.25225,     0.25325,     0.25425,     0.25526,     0.25626,     0.25726,     0.25826,     0.25926,     0.26026,     0.26126,     0.26226,     0.26326,\n",
              "           0.26426,     0.26527,     0.26627,     0.26727,     0.26827,     0.26927,     0.27027,     0.27127,     0.27227,     0.27327,     0.27427,     0.27528,     0.27628,     0.27728,     0.27828,     0.27928,     0.28028,     0.28128,     0.28228,     0.28328,     0.28428,     0.28529,     0.28629,     0.28729,\n",
              "           0.28829,     0.28929,     0.29029,     0.29129,     0.29229,     0.29329,     0.29429,      0.2953,      0.2963,      0.2973,      0.2983,      0.2993,      0.3003,      0.3013,      0.3023,      0.3033,      0.3043,     0.30531,     0.30631,     0.30731,     0.30831,     0.30931,     0.31031,     0.31131,\n",
              "           0.31231,     0.31331,     0.31431,     0.31532,     0.31632,     0.31732,     0.31832,     0.31932,     0.32032,     0.32132,     0.32232,     0.32332,     0.32432,     0.32533,     0.32633,     0.32733,     0.32833,     0.32933,     0.33033,     0.33133,     0.33233,     0.33333,     0.33433,     0.33534,\n",
              "           0.33634,     0.33734,     0.33834,     0.33934,     0.34034,     0.34134,     0.34234,     0.34334,     0.34434,     0.34535,     0.34635,     0.34735,     0.34835,     0.34935,     0.35035,     0.35135,     0.35235,     0.35335,     0.35435,     0.35536,     0.35636,     0.35736,     0.35836,     0.35936,\n",
              "           0.36036,     0.36136,     0.36236,     0.36336,     0.36436,     0.36537,     0.36637,     0.36737,     0.36837,     0.36937,     0.37037,     0.37137,     0.37237,     0.37337,     0.37437,     0.37538,     0.37638,     0.37738,     0.37838,     0.37938,     0.38038,     0.38138,     0.38238,     0.38338,\n",
              "           0.38438,     0.38539,     0.38639,     0.38739,     0.38839,     0.38939,     0.39039,     0.39139,     0.39239,     0.39339,     0.39439,      0.3954,      0.3964,      0.3974,      0.3984,      0.3994,      0.4004,      0.4014,      0.4024,      0.4034,      0.4044,     0.40541,     0.40641,     0.40741,\n",
              "           0.40841,     0.40941,     0.41041,     0.41141,     0.41241,     0.41341,     0.41441,     0.41542,     0.41642,     0.41742,     0.41842,     0.41942,     0.42042,     0.42142,     0.42242,     0.42342,     0.42442,     0.42543,     0.42643,     0.42743,     0.42843,     0.42943,     0.43043,     0.43143,\n",
              "           0.43243,     0.43343,     0.43443,     0.43544,     0.43644,     0.43744,     0.43844,     0.43944,     0.44044,     0.44144,     0.44244,     0.44344,     0.44444,     0.44545,     0.44645,     0.44745,     0.44845,     0.44945,     0.45045,     0.45145,     0.45245,     0.45345,     0.45445,     0.45546,\n",
              "           0.45646,     0.45746,     0.45846,     0.45946,     0.46046,     0.46146,     0.46246,     0.46346,     0.46446,     0.46547,     0.46647,     0.46747,     0.46847,     0.46947,     0.47047,     0.47147,     0.47247,     0.47347,     0.47447,     0.47548,     0.47648,     0.47748,     0.47848,     0.47948,\n",
              "           0.48048,     0.48148,     0.48248,     0.48348,     0.48448,     0.48549,     0.48649,     0.48749,     0.48849,     0.48949,     0.49049,     0.49149,     0.49249,     0.49349,     0.49449,      0.4955,      0.4965,      0.4975,      0.4985,      0.4995,      0.5005,      0.5015,      0.5025,      0.5035,\n",
              "            0.5045,     0.50551,     0.50651,     0.50751,     0.50851,     0.50951,     0.51051,     0.51151,     0.51251,     0.51351,     0.51451,     0.51552,     0.51652,     0.51752,     0.51852,     0.51952,     0.52052,     0.52152,     0.52252,     0.52352,     0.52452,     0.52553,     0.52653,     0.52753,\n",
              "           0.52853,     0.52953,     0.53053,     0.53153,     0.53253,     0.53353,     0.53453,     0.53554,     0.53654,     0.53754,     0.53854,     0.53954,     0.54054,     0.54154,     0.54254,     0.54354,     0.54454,     0.54555,     0.54655,     0.54755,     0.54855,     0.54955,     0.55055,     0.55155,\n",
              "           0.55255,     0.55355,     0.55455,     0.55556,     0.55656,     0.55756,     0.55856,     0.55956,     0.56056,     0.56156,     0.56256,     0.56356,     0.56456,     0.56557,     0.56657,     0.56757,     0.56857,     0.56957,     0.57057,     0.57157,     0.57257,     0.57357,     0.57457,     0.57558,\n",
              "           0.57658,     0.57758,     0.57858,     0.57958,     0.58058,     0.58158,     0.58258,     0.58358,     0.58458,     0.58559,     0.58659,     0.58759,     0.58859,     0.58959,     0.59059,     0.59159,     0.59259,     0.59359,     0.59459,      0.5956,      0.5966,      0.5976,      0.5986,      0.5996,\n",
              "            0.6006,      0.6016,      0.6026,      0.6036,      0.6046,     0.60561,     0.60661,     0.60761,     0.60861,     0.60961,     0.61061,     0.61161,     0.61261,     0.61361,     0.61461,     0.61562,     0.61662,     0.61762,     0.61862,     0.61962,     0.62062,     0.62162,     0.62262,     0.62362,\n",
              "           0.62462,     0.62563,     0.62663,     0.62763,     0.62863,     0.62963,     0.63063,     0.63163,     0.63263,     0.63363,     0.63463,     0.63564,     0.63664,     0.63764,     0.63864,     0.63964,     0.64064,     0.64164,     0.64264,     0.64364,     0.64464,     0.64565,     0.64665,     0.64765,\n",
              "           0.64865,     0.64965,     0.65065,     0.65165,     0.65265,     0.65365,     0.65465,     0.65566,     0.65666,     0.65766,     0.65866,     0.65966,     0.66066,     0.66166,     0.66266,     0.66366,     0.66466,     0.66567,     0.66667,     0.66767,     0.66867,     0.66967,     0.67067,     0.67167,\n",
              "           0.67267,     0.67367,     0.67467,     0.67568,     0.67668,     0.67768,     0.67868,     0.67968,     0.68068,     0.68168,     0.68268,     0.68368,     0.68468,     0.68569,     0.68669,     0.68769,     0.68869,     0.68969,     0.69069,     0.69169,     0.69269,     0.69369,     0.69469,      0.6957,\n",
              "            0.6967,      0.6977,      0.6987,      0.6997,      0.7007,      0.7017,      0.7027,      0.7037,      0.7047,     0.70571,     0.70671,     0.70771,     0.70871,     0.70971,     0.71071,     0.71171,     0.71271,     0.71371,     0.71471,     0.71572,     0.71672,     0.71772,     0.71872,     0.71972,\n",
              "           0.72072,     0.72172,     0.72272,     0.72372,     0.72472,     0.72573,     0.72673,     0.72773,     0.72873,     0.72973,     0.73073,     0.73173,     0.73273,     0.73373,     0.73473,     0.73574,     0.73674,     0.73774,     0.73874,     0.73974,     0.74074,     0.74174,     0.74274,     0.74374,\n",
              "           0.74474,     0.74575,     0.74675,     0.74775,     0.74875,     0.74975,     0.75075,     0.75175,     0.75275,     0.75375,     0.75475,     0.75576,     0.75676,     0.75776,     0.75876,     0.75976,     0.76076,     0.76176,     0.76276,     0.76376,     0.76476,     0.76577,     0.76677,     0.76777,\n",
              "           0.76877,     0.76977,     0.77077,     0.77177,     0.77277,     0.77377,     0.77477,     0.77578,     0.77678,     0.77778,     0.77878,     0.77978,     0.78078,     0.78178,     0.78278,     0.78378,     0.78478,     0.78579,     0.78679,     0.78779,     0.78879,     0.78979,     0.79079,     0.79179,\n",
              "           0.79279,     0.79379,     0.79479,      0.7958,      0.7968,      0.7978,      0.7988,      0.7998,      0.8008,      0.8018,      0.8028,      0.8038,      0.8048,     0.80581,     0.80681,     0.80781,     0.80881,     0.80981,     0.81081,     0.81181,     0.81281,     0.81381,     0.81481,     0.81582,\n",
              "           0.81682,     0.81782,     0.81882,     0.81982,     0.82082,     0.82182,     0.82282,     0.82382,     0.82482,     0.82583,     0.82683,     0.82783,     0.82883,     0.82983,     0.83083,     0.83183,     0.83283,     0.83383,     0.83483,     0.83584,     0.83684,     0.83784,     0.83884,     0.83984,\n",
              "           0.84084,     0.84184,     0.84284,     0.84384,     0.84484,     0.84585,     0.84685,     0.84785,     0.84885,     0.84985,     0.85085,     0.85185,     0.85285,     0.85385,     0.85485,     0.85586,     0.85686,     0.85786,     0.85886,     0.85986,     0.86086,     0.86186,     0.86286,     0.86386,\n",
              "           0.86486,     0.86587,     0.86687,     0.86787,     0.86887,     0.86987,     0.87087,     0.87187,     0.87287,     0.87387,     0.87487,     0.87588,     0.87688,     0.87788,     0.87888,     0.87988,     0.88088,     0.88188,     0.88288,     0.88388,     0.88488,     0.88589,     0.88689,     0.88789,\n",
              "           0.88889,     0.88989,     0.89089,     0.89189,     0.89289,     0.89389,     0.89489,      0.8959,      0.8969,      0.8979,      0.8989,      0.8999,      0.9009,      0.9019,      0.9029,      0.9039,      0.9049,     0.90591,     0.90691,     0.90791,     0.90891,     0.90991,     0.91091,     0.91191,\n",
              "           0.91291,     0.91391,     0.91491,     0.91592,     0.91692,     0.91792,     0.91892,     0.91992,     0.92092,     0.92192,     0.92292,     0.92392,     0.92492,     0.92593,     0.92693,     0.92793,     0.92893,     0.92993,     0.93093,     0.93193,     0.93293,     0.93393,     0.93493,     0.93594,\n",
              "           0.93694,     0.93794,     0.93894,     0.93994,     0.94094,     0.94194,     0.94294,     0.94394,     0.94494,     0.94595,     0.94695,     0.94795,     0.94895,     0.94995,     0.95095,     0.95195,     0.95295,     0.95395,     0.95495,     0.95596,     0.95696,     0.95796,     0.95896,     0.95996,\n",
              "           0.96096,     0.96196,     0.96296,     0.96396,     0.96496,     0.96597,     0.96697,     0.96797,     0.96897,     0.96997,     0.97097,     0.97197,     0.97297,     0.97397,     0.97497,     0.97598,     0.97698,     0.97798,     0.97898,     0.97998,     0.98098,     0.98198,     0.98298,     0.98398,\n",
              "           0.98498,     0.98599,     0.98699,     0.98799,     0.98899,     0.98999,     0.99099,     0.99199,     0.99299,     0.99399,     0.99499,       0.996,       0.997,       0.998,       0.999,           1]), array([[    0.98276,     0.98276,     0.98276,     0.98276,     0.98276,     0.98276,     0.98276,     0.98276,     0.98276,     0.98276,     0.98276,     0.98276,     0.98276,     0.98276,     0.98276,     0.98276,     0.98276,     0.98276,     0.98276,     0.98276,     0.98276,     0.98276,     0.98276,\n",
              "            0.98276,     0.98276,     0.98276,     0.98276,     0.98276,     0.98276,     0.97414,     0.97414,     0.97414,     0.97414,     0.97414,     0.97414,     0.97414,     0.97414,     0.97414,     0.97414,     0.97414,     0.97414,     0.97414,     0.97414,     0.97414,     0.97414,     0.97414,\n",
              "            0.97414,     0.97414,     0.97414,     0.97414,     0.97414,     0.97414,     0.97414,     0.97414,     0.97414,     0.97414,     0.97414,     0.97414,     0.97414,     0.97414,     0.97414,     0.97414,     0.97414,     0.97414,     0.97414,     0.97414,     0.97414,     0.97414,     0.97414,\n",
              "            0.97414,     0.97414,     0.97414,     0.97414,     0.97414,     0.97414,     0.97414,     0.97414,     0.97414,     0.97414,     0.97414,     0.97414,     0.97414,     0.97414,     0.97414,     0.97414,     0.97414,     0.97414,     0.97414,     0.97414,     0.97414,     0.97414,     0.97414,\n",
              "            0.97414,     0.97414,     0.97414,     0.97414,     0.97414,     0.97414,     0.97414,     0.97414,     0.97414,     0.97414,     0.97414,     0.97414,     0.97414,     0.97414,     0.97414,     0.97414,     0.97414,     0.97414,     0.97414,     0.97414,     0.97414,     0.97414,     0.97414,\n",
              "            0.97414,     0.97414,     0.97414,     0.97414,     0.97414,     0.97414,     0.97414,     0.97414,     0.97414,     0.97414,     0.97414,     0.97414,     0.97414,     0.97414,     0.97414,     0.97414,     0.97414,     0.97414,     0.97414,     0.97414,     0.97414,     0.97414,     0.97414,\n",
              "            0.97414,     0.97414,     0.97414,     0.97414,     0.97414,     0.97414,     0.96552,     0.96552,     0.96552,     0.96552,     0.96552,     0.96552,     0.96552,     0.96552,     0.96552,     0.96552,     0.96552,     0.96552,     0.96552,     0.96552,     0.96552,     0.96552,     0.96552,\n",
              "            0.96552,     0.96552,     0.96552,     0.96552,     0.96552,     0.96552,     0.96552,     0.96552,     0.96552,     0.96552,     0.96552,     0.96552,     0.96552,     0.96552,     0.96552,     0.96552,     0.96552,     0.96552,      0.9651,     0.96324,     0.96138,     0.95952,     0.95766,\n",
              "             0.9569,      0.9569,      0.9569,      0.9569,      0.9569,      0.9569,      0.9569,      0.9569,      0.9569,      0.9569,      0.9569,      0.9569,      0.9569,      0.9569,      0.9569,      0.9569,      0.9569,      0.9569,      0.9569,      0.9569,      0.9569,      0.9569,      0.9569,\n",
              "             0.9569,      0.9569,      0.9569,      0.9569,      0.9569,      0.9569,      0.9569,      0.9569,      0.9569,      0.9569,      0.9569,      0.9569,      0.9569,      0.9569,      0.9569,      0.9569,      0.9569,      0.9569,      0.9569,      0.9569,      0.9569,      0.9569,      0.9569,\n",
              "             0.9569,      0.9569,      0.9569,      0.9569,      0.9569,      0.9569,      0.9569,      0.9569,      0.9569,      0.9569,      0.9569,      0.9569,      0.9569,      0.9569,      0.9569,      0.9569,      0.9569,      0.9569,      0.9569,      0.9569,      0.9569,      0.9569,      0.9569,\n",
              "             0.9569,      0.9569,      0.9569,      0.9569,      0.9569,      0.9569,      0.9569,      0.9569,      0.9569,      0.9569,      0.9569,      0.9569,      0.9569,     0.95534,     0.95141,     0.94828,     0.94828,     0.94828,     0.94828,     0.94828,     0.94828,     0.94828,     0.94828,\n",
              "            0.94828,     0.94828,     0.94828,     0.94561,     0.93966,     0.93966,     0.93966,     0.93966,     0.93966,     0.93966,     0.93966,     0.93966,     0.93966,     0.93966,     0.93966,     0.93966,     0.93966,     0.93966,     0.93966,     0.93966,     0.93966,     0.93966,     0.93966,\n",
              "            0.93966,     0.93966,     0.93966,     0.93966,     0.93966,     0.93966,     0.93966,     0.93966,     0.93966,     0.93966,     0.93966,     0.93966,     0.93966,     0.93966,     0.93966,     0.93966,     0.93966,     0.93966,     0.93966,     0.93966,     0.93966,     0.93966,     0.93966,\n",
              "            0.93966,     0.93966,     0.93966,     0.93966,     0.93966,     0.93966,     0.93966,     0.93966,     0.93966,     0.93966,     0.93966,     0.93966,     0.93966,     0.93966,     0.93966,      0.9394,     0.93799,     0.93657,     0.93516,     0.93375,     0.93233,     0.93103,     0.93103,\n",
              "            0.93103,     0.93103,     0.93103,     0.93103,     0.93103,     0.93103,     0.93103,     0.93103,     0.93103,     0.93103,     0.93103,     0.93103,     0.93103,     0.93103,     0.93103,     0.93103,     0.93103,     0.93103,     0.93103,     0.93103,     0.93103,     0.93103,     0.93103,\n",
              "            0.93103,     0.93103,     0.93103,     0.93103,     0.93103,     0.93103,     0.93103,     0.93103,     0.93103,     0.93103,     0.93103,     0.93103,     0.93103,     0.93103,     0.93103,     0.93103,     0.93103,     0.93103,     0.93103,     0.93103,     0.93103,     0.93103,     0.93103,\n",
              "            0.93103,     0.93103,     0.93103,     0.93103,     0.93103,     0.93103,     0.93103,     0.93103,     0.93103,     0.93103,     0.93103,     0.93103,     0.93103,     0.93103,     0.93103,     0.93103,     0.93103,     0.93103,     0.93103,     0.93103,     0.93103,     0.93103,     0.93103,\n",
              "            0.93103,     0.93103,     0.93103,     0.93103,     0.93103,     0.93103,     0.93103,     0.93103,     0.93103,     0.93103,     0.93103,     0.93103,     0.93103,     0.93096,     0.93055,     0.93015,     0.92974,     0.92934,     0.92893,     0.92852,     0.92812,     0.92771,      0.9273,\n",
              "             0.9269,     0.92649,     0.92609,     0.92568,     0.92527,     0.92487,     0.92446,     0.92405,     0.92365,     0.92324,     0.92284,     0.92243,     0.92241,     0.92241,     0.92241,     0.92241,     0.92241,     0.92241,     0.92241,     0.92241,     0.92241,     0.92241,     0.92241,\n",
              "            0.92241,     0.92241,     0.92241,     0.92241,     0.92241,     0.92241,     0.92241,     0.92241,     0.92241,     0.92241,     0.92241,     0.92241,     0.92241,     0.92241,     0.92241,     0.92241,     0.92241,     0.92241,     0.92241,     0.92241,     0.92241,     0.92241,     0.92241,\n",
              "            0.92241,     0.92241,     0.92241,     0.92241,     0.92241,     0.92241,     0.92241,     0.92241,     0.92241,     0.92241,     0.92241,     0.92241,     0.92241,     0.92241,     0.92241,     0.92241,     0.92241,     0.92241,     0.92241,     0.92241,     0.92241,     0.92241,     0.92241,\n",
              "            0.92241,     0.92241,     0.92241,     0.92241,     0.92241,     0.92241,     0.92241,     0.92241,     0.92241,     0.92241,     0.92241,     0.92241,     0.92241,     0.92241,     0.92241,     0.92241,     0.92241,     0.92241,     0.92241,     0.92241,     0.92241,     0.92241,     0.92241,\n",
              "            0.92241,     0.92241,     0.92241,     0.92241,     0.92241,     0.92241,     0.92241,     0.92241,     0.92241,     0.92241,     0.92241,     0.92241,     0.92241,     0.92241,     0.92241,     0.92241,     0.92241,     0.92241,     0.92207,     0.92157,     0.92106,     0.92056,     0.92005,\n",
              "            0.91955,     0.91904,     0.91854,     0.91804,     0.91753,     0.91703,     0.91652,     0.91602,     0.91551,     0.91501,      0.9145,       0.914,     0.91379,     0.91379,     0.91379,     0.91379,     0.91379,     0.91379,     0.91379,     0.91379,     0.91379,     0.91379,     0.91379,\n",
              "            0.91379,     0.91379,     0.91379,     0.91379,     0.91379,     0.91379,     0.91379,     0.91379,     0.91379,     0.91379,     0.91379,     0.91379,     0.91379,     0.91379,     0.91379,     0.91379,     0.91379,     0.91379,     0.91379,     0.91379,     0.91379,       0.912,     0.90759,\n",
              "            0.89655,     0.89655,     0.89655,     0.89655,     0.89655,     0.89655,     0.89655,     0.89655,     0.89655,     0.89655,     0.89655,     0.89655,     0.89655,     0.89655,     0.89655,     0.89655,     0.89655,     0.89655,     0.89655,     0.89655,     0.89655,     0.89655,     0.89655,\n",
              "            0.89655,     0.89655,     0.89655,     0.89655,     0.89655,     0.89655,     0.89655,      0.8956,     0.89424,     0.89288,     0.89152,     0.89016,     0.88881,     0.88775,     0.88725,     0.88674,     0.88624,     0.88573,     0.88523,     0.88472,     0.88422,     0.88371,     0.88321,\n",
              "             0.8827,      0.8822,     0.88169,     0.88119,     0.88068,     0.88018,     0.87967,     0.87921,     0.87886,      0.8785,     0.87815,      0.8778,     0.87744,     0.87709,     0.87674,     0.87638,     0.87603,     0.87568,     0.87532,     0.87497,     0.87461,     0.87426,     0.87391,\n",
              "            0.87355,      0.8732,     0.87285,     0.87249,     0.87214,     0.87179,     0.87143,     0.87108,     0.87073,     0.86542,      0.8618,     0.86117,     0.86053,      0.8599,     0.85927,     0.85864,     0.85801,     0.85738,     0.85675,     0.85612,     0.85549,     0.85485,     0.85422,\n",
              "            0.85359,     0.85208,     0.85031,     0.84855,     0.84678,     0.84501,     0.84087,     0.83645,     0.82759,     0.82759,     0.82759,     0.82759,     0.82739,     0.82445,      0.8215,     0.81872,     0.81695,     0.81519,     0.81342,     0.81165,     0.80988,     0.80812,     0.80635,\n",
              "            0.80458,     0.80281,     0.79947,     0.79358,     0.78904,     0.78462,     0.77301,     0.77006,     0.76724,     0.76724,     0.76724,     0.76724,     0.76724,     0.76711,     0.76631,      0.7655,      0.7647,      0.7639,     0.76309,     0.76229,     0.76149,     0.76068,     0.75988,\n",
              "            0.75908,     0.75798,     0.75651,     0.75504,     0.75357,     0.75209,     0.75062,     0.74886,      0.7469,     0.74494,     0.74297,     0.74138,     0.74138,     0.74138,     0.74138,     0.74138,     0.74138,     0.74138,     0.74138,     0.72285,     0.72138,     0.71991,     0.71844,\n",
              "            0.71696,     0.71552,     0.71552,     0.71552,     0.71552,     0.71529,     0.71333,     0.71136,      0.7094,     0.70743,     0.70262,      0.6975,     0.69456,     0.69161,     0.68966,     0.68895,     0.68698,     0.68502,     0.68306,     0.68109,     0.67948,     0.67787,     0.67626,\n",
              "            0.67466,     0.67305,     0.67175,     0.67064,     0.66954,     0.66843,     0.66733,     0.66622,     0.66512,     0.66401,     0.65423,     0.65305,     0.65187,      0.6507,     0.64952,     0.64834,     0.64716,      0.6457,     0.64393,     0.64216,      0.6404,     0.63863,     0.62717,\n",
              "            0.62364,      0.6117,     0.60949,     0.60728,     0.60507,      0.5939,     0.59036,     0.58683,     0.57892,     0.56396,     0.55973,     0.55812,     0.55651,     0.55491,      0.5533,     0.53441,     0.53088,     0.52734,     0.52381,     0.52027,     0.51661,      0.5122,      0.5075,\n",
              "            0.50161,     0.49786,     0.49491,     0.49197,     0.48855,     0.48501,     0.47956,      0.4621,     0.45327,     0.44718,     0.44465,     0.44213,     0.43956,     0.43515,     0.43073,     0.42631,     0.42137,     0.41295,     0.40706,     0.40317,     0.40023,     0.39728,     0.35542,\n",
              "            0.35002,      0.3456,     0.32394,     0.31952,     0.31034,     0.31034,     0.31034,     0.31034,     0.31034,     0.31034,     0.31034,      0.2968,     0.28796,     0.27912,     0.27307,     0.26866,     0.26124,     0.24904,     0.24463,     0.24021,     0.23579,     0.21367,     0.20778,\n",
              "             0.2069,      0.2069,      0.2069,     0.19673,      0.1932,     0.18967,     0.18789,     0.18613,     0.18436,     0.18259,     0.17211,     0.16959,     0.16706,     0.16454,     0.16323,     0.16242,     0.16162,     0.16082,     0.16001,     0.15921,     0.15841,      0.1576,      0.1568,\n",
              "              0.156,     0.15519,     0.14657,      0.1375,     0.13666,     0.13582,     0.13498,     0.13414,     0.13329,     0.13245,     0.13161,     0.13077,     0.12993,     0.12902,     0.12791,     0.12681,      0.1257,      0.1246,     0.12349,     0.12239,     0.12128,     0.11253,     0.10633,\n",
              "           0.094811,    0.094075,    0.093338,    0.092602,    0.091866,    0.091129,    0.090393,    0.089656,     0.08892,    0.088184,    0.087447,    0.086711,    0.084813,    0.080395,    0.076871,    0.074907,    0.072944,     0.07098,    0.069016,    0.058912,    0.055967,    0.053021,    0.050735,\n",
              "           0.048968,    0.047201,    0.045433,    0.043666,    0.040092,    0.035674,    0.033192,    0.031425,    0.029657,     0.02789,    0.026123,    0.024607,    0.023134,    0.021661,    0.020188,    0.018716,    0.017243,     0.01598,    0.014718,    0.013456,    0.012193,    0.010931,   0.0096685,\n",
              "                  0,           0,           0,           0,           0,           0,           0,           0,           0,           0,           0,           0,           0,           0,           0,           0,           0,           0,           0,           0,           0,           0,           0,\n",
              "                  0,           0,           0,           0,           0,           0,           0,           0,           0,           0,           0]]), 'Confidence', 'Recall']]\n",
              "fitness: np.float64(0.6678230108296064)\n",
              "keys: ['metrics/precision(B)', 'metrics/recall(B)', 'metrics/mAP50(B)', 'metrics/mAP50-95(B)']\n",
              "maps: array([    0.63775])\n",
              "names: {0: 'Defect'}\n",
              "plot: True\n",
              "results_dict: {'metrics/precision(B)': np.float64(0.9057598432990774), 'metrics/recall(B)': np.float64(0.9137931034482759), 'metrics/mAP50(B)': np.float64(0.9384791765176538), 'metrics/mAP50-95(B)': np.float64(0.6377501035309344), 'fitness': np.float64(0.6678230108296064)}\n",
              "save_dir: PosixPath('runs/detect/train4')\n",
              "speed: {'preprocess': 0.17492064444013522, 'inference': 14.407310966655334, 'loss': 0.00038112777676562674, 'postprocess': 2.2944158666683103}\n",
              "task: 'detect'"
            ]
          },
          "metadata": {},
          "execution_count": 26
        }
      ],
      "source": [
        "from ultralytics import YOLO\n",
        "import torch\n",
        "\n",
        "# Path to your dataset's YAML file\n",
        "data_yaml_path = '/content/data.yaml'  # Ensure this YAML file is correctly configured\n",
        "# Load YOLOv8 model with pre-trained weights\n",
        "model = YOLO(\"yolov5s.pt\")\n",
        "\n",
        "# Train the model\n",
        "model.train(\n",
        "    data=data_yaml_path,      # Path to dataset YAML\n",
        "    epochs=30,               # Train for more epochs\n",
        "    batch=16,                 # Experiment with batch sizes\n",
        "    imgsz=640,               # Higher resolution images\n",
        "    device='cuda' if torch.cuda.is_available() else 'cpu',  # Device\n",
        "    lr0=0.001,               # Initial learning rate\n",
        "    optimizer='AdamW',       # Optimizer choice (try 'AdamW' for experimentation)\n",
        "    augment=True,            # Enable augmentations\n",
        "    freeze=[0, 1, 2],        # Freeze first few layers (adjust based on YOLOv8 architecture)\n",
        ")"
      ]
    },
    {
      "cell_type": "code",
      "source": [
        "from ultralytics import YOLO\n",
        "\n",
        "# Define model path (make sure it's the correct trained model)\n",
        "model_path = \"/content/yolov5/runs/detect/train4/weights/best.pt\"\n",
        "\n",
        "# Load trained model\n",
        "model = YOLO(model_path)\n",
        "\n",
        "# Run evaluation on the test dataset\n",
        "metrics = model.val(data=\"/content/data.yaml\", split=\"test\")\n",
        "\n",
        "# Print evaluation results (mAP, Precision, Recall, etc.)\n",
        "print(metrics)\n"
      ],
      "metadata": {
        "colab": {
          "base_uri": "https://localhost:8080/"
        },
        "collapsed": true,
        "id": "hlBeP0y9Ou7Z",
        "outputId": "a4487c58-0712-49b4-ead5-2f542cb3151c"
      },
      "execution_count": null,
      "outputs": [
        {
          "output_type": "stream",
          "name": "stdout",
          "text": [
            "Ultralytics 8.3.94 🚀 Python-3.11.11 torch-2.6.0+cu124 CUDA:0 (Tesla T4, 15095MiB)\n",
            "Model summary (fused): 72 layers, 11,125,971 parameters, 0 gradients, 28.4 GFLOPs\n"
          ]
        },
        {
          "output_type": "stream",
          "name": "stderr",
          "text": [
            "\u001b[34m\u001b[1mval: \u001b[0mScanning /content/drive/MyDrive/New_shoe/Data-defect/Data-defect/test-def/labels... 180 images, 88 backgrounds, 0 corrupt: 100%|██████████| 180/180 [00:02<00:00, 69.76it/s] \n"
          ]
        },
        {
          "output_type": "stream",
          "name": "stdout",
          "text": [
            "\u001b[34m\u001b[1mval: \u001b[0mNew cache created: /content/drive/MyDrive/New_shoe/Data-defect/Data-defect/test-def/labels.cache\n"
          ]
        },
        {
          "output_type": "stream",
          "name": "stderr",
          "text": [
            "                 Class     Images  Instances      Box(P          R      mAP50  mAP50-95): 100%|██████████| 12/12 [00:32<00:00,  2.69s/it]\n"
          ]
        },
        {
          "output_type": "stream",
          "name": "stdout",
          "text": [
            "                   all        180        131      0.973      0.924      0.975      0.681\n",
            "Speed: 0.2ms preprocess, 8.4ms inference, 0.0ms loss, 2.3ms postprocess per image\n",
            "Results saved to \u001b[1mruns/detect/val2\u001b[0m\n",
            "ultralytics.utils.metrics.DetMetrics object with attributes:\n",
            "\n",
            "ap_class_index: array([0])\n",
            "box: ultralytics.utils.metrics.Metric object\n",
            "confusion_matrix: <ultralytics.utils.metrics.ConfusionMatrix object at 0x799a34ae5390>\n",
            "curves: ['Precision-Recall(B)', 'F1-Confidence(B)', 'Precision-Confidence(B)', 'Recall-Confidence(B)']\n",
            "curves_results: [[array([          0,    0.001001,    0.002002,    0.003003,    0.004004,    0.005005,    0.006006,    0.007007,    0.008008,    0.009009,     0.01001,    0.011011,    0.012012,    0.013013,    0.014014,    0.015015,    0.016016,    0.017017,    0.018018,    0.019019,     0.02002,    0.021021,    0.022022,    0.023023,\n",
            "          0.024024,    0.025025,    0.026026,    0.027027,    0.028028,    0.029029,     0.03003,    0.031031,    0.032032,    0.033033,    0.034034,    0.035035,    0.036036,    0.037037,    0.038038,    0.039039,     0.04004,    0.041041,    0.042042,    0.043043,    0.044044,    0.045045,    0.046046,    0.047047,\n",
            "          0.048048,    0.049049,     0.05005,    0.051051,    0.052052,    0.053053,    0.054054,    0.055055,    0.056056,    0.057057,    0.058058,    0.059059,     0.06006,    0.061061,    0.062062,    0.063063,    0.064064,    0.065065,    0.066066,    0.067067,    0.068068,    0.069069,     0.07007,    0.071071,\n",
            "          0.072072,    0.073073,    0.074074,    0.075075,    0.076076,    0.077077,    0.078078,    0.079079,     0.08008,    0.081081,    0.082082,    0.083083,    0.084084,    0.085085,    0.086086,    0.087087,    0.088088,    0.089089,     0.09009,    0.091091,    0.092092,    0.093093,    0.094094,    0.095095,\n",
            "          0.096096,    0.097097,    0.098098,    0.099099,      0.1001,      0.1011,      0.1021,      0.1031,      0.1041,     0.10511,     0.10611,     0.10711,     0.10811,     0.10911,     0.11011,     0.11111,     0.11211,     0.11311,     0.11411,     0.11512,     0.11612,     0.11712,     0.11812,     0.11912,\n",
            "           0.12012,     0.12112,     0.12212,     0.12312,     0.12412,     0.12513,     0.12613,     0.12713,     0.12813,     0.12913,     0.13013,     0.13113,     0.13213,     0.13313,     0.13413,     0.13514,     0.13614,     0.13714,     0.13814,     0.13914,     0.14014,     0.14114,     0.14214,     0.14314,\n",
            "           0.14414,     0.14515,     0.14615,     0.14715,     0.14815,     0.14915,     0.15015,     0.15115,     0.15215,     0.15315,     0.15415,     0.15516,     0.15616,     0.15716,     0.15816,     0.15916,     0.16016,     0.16116,     0.16216,     0.16316,     0.16416,     0.16517,     0.16617,     0.16717,\n",
            "           0.16817,     0.16917,     0.17017,     0.17117,     0.17217,     0.17317,     0.17417,     0.17518,     0.17618,     0.17718,     0.17818,     0.17918,     0.18018,     0.18118,     0.18218,     0.18318,     0.18418,     0.18519,     0.18619,     0.18719,     0.18819,     0.18919,     0.19019,     0.19119,\n",
            "           0.19219,     0.19319,     0.19419,      0.1952,      0.1962,      0.1972,      0.1982,      0.1992,      0.2002,      0.2012,      0.2022,      0.2032,      0.2042,     0.20521,     0.20621,     0.20721,     0.20821,     0.20921,     0.21021,     0.21121,     0.21221,     0.21321,     0.21421,     0.21522,\n",
            "           0.21622,     0.21722,     0.21822,     0.21922,     0.22022,     0.22122,     0.22222,     0.22322,     0.22422,     0.22523,     0.22623,     0.22723,     0.22823,     0.22923,     0.23023,     0.23123,     0.23223,     0.23323,     0.23423,     0.23524,     0.23624,     0.23724,     0.23824,     0.23924,\n",
            "           0.24024,     0.24124,     0.24224,     0.24324,     0.24424,     0.24525,     0.24625,     0.24725,     0.24825,     0.24925,     0.25025,     0.25125,     0.25225,     0.25325,     0.25425,     0.25526,     0.25626,     0.25726,     0.25826,     0.25926,     0.26026,     0.26126,     0.26226,     0.26326,\n",
            "           0.26426,     0.26527,     0.26627,     0.26727,     0.26827,     0.26927,     0.27027,     0.27127,     0.27227,     0.27327,     0.27427,     0.27528,     0.27628,     0.27728,     0.27828,     0.27928,     0.28028,     0.28128,     0.28228,     0.28328,     0.28428,     0.28529,     0.28629,     0.28729,\n",
            "           0.28829,     0.28929,     0.29029,     0.29129,     0.29229,     0.29329,     0.29429,      0.2953,      0.2963,      0.2973,      0.2983,      0.2993,      0.3003,      0.3013,      0.3023,      0.3033,      0.3043,     0.30531,     0.30631,     0.30731,     0.30831,     0.30931,     0.31031,     0.31131,\n",
            "           0.31231,     0.31331,     0.31431,     0.31532,     0.31632,     0.31732,     0.31832,     0.31932,     0.32032,     0.32132,     0.32232,     0.32332,     0.32432,     0.32533,     0.32633,     0.32733,     0.32833,     0.32933,     0.33033,     0.33133,     0.33233,     0.33333,     0.33433,     0.33534,\n",
            "           0.33634,     0.33734,     0.33834,     0.33934,     0.34034,     0.34134,     0.34234,     0.34334,     0.34434,     0.34535,     0.34635,     0.34735,     0.34835,     0.34935,     0.35035,     0.35135,     0.35235,     0.35335,     0.35435,     0.35536,     0.35636,     0.35736,     0.35836,     0.35936,\n",
            "           0.36036,     0.36136,     0.36236,     0.36336,     0.36436,     0.36537,     0.36637,     0.36737,     0.36837,     0.36937,     0.37037,     0.37137,     0.37237,     0.37337,     0.37437,     0.37538,     0.37638,     0.37738,     0.37838,     0.37938,     0.38038,     0.38138,     0.38238,     0.38338,\n",
            "           0.38438,     0.38539,     0.38639,     0.38739,     0.38839,     0.38939,     0.39039,     0.39139,     0.39239,     0.39339,     0.39439,      0.3954,      0.3964,      0.3974,      0.3984,      0.3994,      0.4004,      0.4014,      0.4024,      0.4034,      0.4044,     0.40541,     0.40641,     0.40741,\n",
            "           0.40841,     0.40941,     0.41041,     0.41141,     0.41241,     0.41341,     0.41441,     0.41542,     0.41642,     0.41742,     0.41842,     0.41942,     0.42042,     0.42142,     0.42242,     0.42342,     0.42442,     0.42543,     0.42643,     0.42743,     0.42843,     0.42943,     0.43043,     0.43143,\n",
            "           0.43243,     0.43343,     0.43443,     0.43544,     0.43644,     0.43744,     0.43844,     0.43944,     0.44044,     0.44144,     0.44244,     0.44344,     0.44444,     0.44545,     0.44645,     0.44745,     0.44845,     0.44945,     0.45045,     0.45145,     0.45245,     0.45345,     0.45445,     0.45546,\n",
            "           0.45646,     0.45746,     0.45846,     0.45946,     0.46046,     0.46146,     0.46246,     0.46346,     0.46446,     0.46547,     0.46647,     0.46747,     0.46847,     0.46947,     0.47047,     0.47147,     0.47247,     0.47347,     0.47447,     0.47548,     0.47648,     0.47748,     0.47848,     0.47948,\n",
            "           0.48048,     0.48148,     0.48248,     0.48348,     0.48448,     0.48549,     0.48649,     0.48749,     0.48849,     0.48949,     0.49049,     0.49149,     0.49249,     0.49349,     0.49449,      0.4955,      0.4965,      0.4975,      0.4985,      0.4995,      0.5005,      0.5015,      0.5025,      0.5035,\n",
            "            0.5045,     0.50551,     0.50651,     0.50751,     0.50851,     0.50951,     0.51051,     0.51151,     0.51251,     0.51351,     0.51451,     0.51552,     0.51652,     0.51752,     0.51852,     0.51952,     0.52052,     0.52152,     0.52252,     0.52352,     0.52452,     0.52553,     0.52653,     0.52753,\n",
            "           0.52853,     0.52953,     0.53053,     0.53153,     0.53253,     0.53353,     0.53453,     0.53554,     0.53654,     0.53754,     0.53854,     0.53954,     0.54054,     0.54154,     0.54254,     0.54354,     0.54454,     0.54555,     0.54655,     0.54755,     0.54855,     0.54955,     0.55055,     0.55155,\n",
            "           0.55255,     0.55355,     0.55455,     0.55556,     0.55656,     0.55756,     0.55856,     0.55956,     0.56056,     0.56156,     0.56256,     0.56356,     0.56456,     0.56557,     0.56657,     0.56757,     0.56857,     0.56957,     0.57057,     0.57157,     0.57257,     0.57357,     0.57457,     0.57558,\n",
            "           0.57658,     0.57758,     0.57858,     0.57958,     0.58058,     0.58158,     0.58258,     0.58358,     0.58458,     0.58559,     0.58659,     0.58759,     0.58859,     0.58959,     0.59059,     0.59159,     0.59259,     0.59359,     0.59459,      0.5956,      0.5966,      0.5976,      0.5986,      0.5996,\n",
            "            0.6006,      0.6016,      0.6026,      0.6036,      0.6046,     0.60561,     0.60661,     0.60761,     0.60861,     0.60961,     0.61061,     0.61161,     0.61261,     0.61361,     0.61461,     0.61562,     0.61662,     0.61762,     0.61862,     0.61962,     0.62062,     0.62162,     0.62262,     0.62362,\n",
            "           0.62462,     0.62563,     0.62663,     0.62763,     0.62863,     0.62963,     0.63063,     0.63163,     0.63263,     0.63363,     0.63463,     0.63564,     0.63664,     0.63764,     0.63864,     0.63964,     0.64064,     0.64164,     0.64264,     0.64364,     0.64464,     0.64565,     0.64665,     0.64765,\n",
            "           0.64865,     0.64965,     0.65065,     0.65165,     0.65265,     0.65365,     0.65465,     0.65566,     0.65666,     0.65766,     0.65866,     0.65966,     0.66066,     0.66166,     0.66266,     0.66366,     0.66466,     0.66567,     0.66667,     0.66767,     0.66867,     0.66967,     0.67067,     0.67167,\n",
            "           0.67267,     0.67367,     0.67467,     0.67568,     0.67668,     0.67768,     0.67868,     0.67968,     0.68068,     0.68168,     0.68268,     0.68368,     0.68468,     0.68569,     0.68669,     0.68769,     0.68869,     0.68969,     0.69069,     0.69169,     0.69269,     0.69369,     0.69469,      0.6957,\n",
            "            0.6967,      0.6977,      0.6987,      0.6997,      0.7007,      0.7017,      0.7027,      0.7037,      0.7047,     0.70571,     0.70671,     0.70771,     0.70871,     0.70971,     0.71071,     0.71171,     0.71271,     0.71371,     0.71471,     0.71572,     0.71672,     0.71772,     0.71872,     0.71972,\n",
            "           0.72072,     0.72172,     0.72272,     0.72372,     0.72472,     0.72573,     0.72673,     0.72773,     0.72873,     0.72973,     0.73073,     0.73173,     0.73273,     0.73373,     0.73473,     0.73574,     0.73674,     0.73774,     0.73874,     0.73974,     0.74074,     0.74174,     0.74274,     0.74374,\n",
            "           0.74474,     0.74575,     0.74675,     0.74775,     0.74875,     0.74975,     0.75075,     0.75175,     0.75275,     0.75375,     0.75475,     0.75576,     0.75676,     0.75776,     0.75876,     0.75976,     0.76076,     0.76176,     0.76276,     0.76376,     0.76476,     0.76577,     0.76677,     0.76777,\n",
            "           0.76877,     0.76977,     0.77077,     0.77177,     0.77277,     0.77377,     0.77477,     0.77578,     0.77678,     0.77778,     0.77878,     0.77978,     0.78078,     0.78178,     0.78278,     0.78378,     0.78478,     0.78579,     0.78679,     0.78779,     0.78879,     0.78979,     0.79079,     0.79179,\n",
            "           0.79279,     0.79379,     0.79479,      0.7958,      0.7968,      0.7978,      0.7988,      0.7998,      0.8008,      0.8018,      0.8028,      0.8038,      0.8048,     0.80581,     0.80681,     0.80781,     0.80881,     0.80981,     0.81081,     0.81181,     0.81281,     0.81381,     0.81481,     0.81582,\n",
            "           0.81682,     0.81782,     0.81882,     0.81982,     0.82082,     0.82182,     0.82282,     0.82382,     0.82482,     0.82583,     0.82683,     0.82783,     0.82883,     0.82983,     0.83083,     0.83183,     0.83283,     0.83383,     0.83483,     0.83584,     0.83684,     0.83784,     0.83884,     0.83984,\n",
            "           0.84084,     0.84184,     0.84284,     0.84384,     0.84484,     0.84585,     0.84685,     0.84785,     0.84885,     0.84985,     0.85085,     0.85185,     0.85285,     0.85385,     0.85485,     0.85586,     0.85686,     0.85786,     0.85886,     0.85986,     0.86086,     0.86186,     0.86286,     0.86386,\n",
            "           0.86486,     0.86587,     0.86687,     0.86787,     0.86887,     0.86987,     0.87087,     0.87187,     0.87287,     0.87387,     0.87487,     0.87588,     0.87688,     0.87788,     0.87888,     0.87988,     0.88088,     0.88188,     0.88288,     0.88388,     0.88488,     0.88589,     0.88689,     0.88789,\n",
            "           0.88889,     0.88989,     0.89089,     0.89189,     0.89289,     0.89389,     0.89489,      0.8959,      0.8969,      0.8979,      0.8989,      0.8999,      0.9009,      0.9019,      0.9029,      0.9039,      0.9049,     0.90591,     0.90691,     0.90791,     0.90891,     0.90991,     0.91091,     0.91191,\n",
            "           0.91291,     0.91391,     0.91491,     0.91592,     0.91692,     0.91792,     0.91892,     0.91992,     0.92092,     0.92192,     0.92292,     0.92392,     0.92492,     0.92593,     0.92693,     0.92793,     0.92893,     0.92993,     0.93093,     0.93193,     0.93293,     0.93393,     0.93493,     0.93594,\n",
            "           0.93694,     0.93794,     0.93894,     0.93994,     0.94094,     0.94194,     0.94294,     0.94394,     0.94494,     0.94595,     0.94695,     0.94795,     0.94895,     0.94995,     0.95095,     0.95195,     0.95295,     0.95395,     0.95495,     0.95596,     0.95696,     0.95796,     0.95896,     0.95996,\n",
            "           0.96096,     0.96196,     0.96296,     0.96396,     0.96496,     0.96597,     0.96697,     0.96797,     0.96897,     0.96997,     0.97097,     0.97197,     0.97297,     0.97397,     0.97497,     0.97598,     0.97698,     0.97798,     0.97898,     0.97998,     0.98098,     0.98198,     0.98298,     0.98398,\n",
            "           0.98498,     0.98599,     0.98699,     0.98799,     0.98899,     0.98999,     0.99099,     0.99199,     0.99299,     0.99399,     0.99499,       0.996,       0.997,       0.998,       0.999,           1]), array([[          1,           1,           1,           1,           1,           1,           1,           1,           1,           1,           1,           1,           1,           1,           1,           1,           1,           1,           1,           1,           1,           1,           1,\n",
            "                  1,           1,           1,           1,           1,           1,           1,           1,           1,           1,           1,           1,           1,           1,           1,           1,           1,           1,           1,           1,           1,           1,           1,\n",
            "                  1,           1,           1,           1,           1,           1,           1,           1,           1,           1,           1,           1,           1,           1,           1,           1,           1,           1,           1,           1,           1,           1,           1,\n",
            "                  1,           1,           1,           1,           1,           1,           1,           1,           1,           1,           1,           1,           1,           1,           1,           1,           1,           1,           1,           1,           1,           1,           1,\n",
            "                  1,           1,           1,           1,           1,           1,           1,           1,           1,           1,           1,           1,           1,           1,           1,           1,           1,           1,           1,           1,           1,           1,           1,\n",
            "                  1,           1,           1,           1,           1,           1,           1,           1,           1,           1,           1,           1,           1,           1,           1,           1,           1,           1,           1,           1,           1,           1,           1,\n",
            "                  1,           1,           1,           1,           1,           1,           1,           1,           1,           1,           1,           1,           1,           1,           1,           1,           1,           1,           1,           1,           1,           1,           1,\n",
            "                  1,           1,           1,           1,           1,           1,           1,           1,           1,           1,           1,           1,           1,           1,           1,           1,           1,           1,           1,           1,           1,           1,           1,\n",
            "                  1,           1,           1,           1,           1,           1,           1,           1,           1,           1,           1,           1,           1,           1,           1,           1,           1,           1,           1,           1,           1,           1,           1,\n",
            "                  1,           1,           1,           1,           1,           1,           1,           1,           1,           1,           1,           1,           1,           1,           1,           1,           1,           1,           1,           1,           1,           1,           1,\n",
            "                  1,           1,           1,           1,           1,           1,           1,           1,           1,           1,           1,           1,           1,           1,           1,           1,           1,           1,           1,           1,           1,           1,           1,\n",
            "                  1,           1,           1,           1,           1,           1,           1,           1,           1,           1,           1,           1,           1,           1,           1,           1,           1,           1,           1,           1,           1,           1,           1,\n",
            "                  1,           1,           1,           1,           1,           1,           1,           1,           1,           1,           1,           1,           1,           1,           1,           1,           1,           1,           1,           1,           1,           1,           1,\n",
            "                  1,           1,           1,           1,           1,           1,           1,           1,           1,           1,           1,           1,           1,           1,           1,           1,           1,           1,           1,           1,           1,           1,           1,\n",
            "                  1,           1,           1,           1,           1,           1,           1,           1,           1,           1,           1,           1,           1,           1,           1,           1,           1,           1,           1,           1,           1,           1,           1,\n",
            "                  1,           1,           1,           1,           1,           1,           1,           1,           1,           1,           1,           1,           1,           1,           1,           1,           1,           1,           1,           1,           1,           1,           1,\n",
            "                  1,           1,           1,           1,           1,           1,           1,           1,           1,           1,           1,           1,           1,           1,           1,           1,           1,           1,           1,           1,           1,           1,           1,\n",
            "                  1,           1,           1,           1,           1,           1,           1,           1,           1,           1,           1,           1,           1,           1,           1,           1,           1,           1,           1,           1,           1,           1,           1,\n",
            "                  1,           1,           1,           1,           1,           1,           1,           1,           1,           1,           1,           1,           1,           1,           1,           1,           1,           1,           1,           1,           1,           1,           1,\n",
            "                  1,           1,           1,           1,           1,           1,           1,           1,           1,           1,           1,           1,           1,           1,           1,           1,           1,           1,           1,           1,           1,           1,           1,\n",
            "                  1,           1,           1,           1,           1,           1,           1,           1,           1,           1,           1,           1,           1,           1,           1,           1,           1,           1,           1,           1,           1,           1,           1,\n",
            "                  1,           1,           1,           1,           1,           1,           1,           1,           1,           1,           1,           1,           1,           1,           1,           1,           1,           1,           1,           1,           1,           1,           1,\n",
            "                  1,           1,           1,           1,           1,           1,           1,           1,           1,           1,           1,           1,           1,           1,           1,           1,           1,           1,           1,           1,           1,           1,           1,\n",
            "                  1,           1,           1,           1,           1,           1,           1,           1,           1,           1,           1,           1,           1,           1,           1,           1,           1,           1,           1,           1,           1,           1,           1,\n",
            "                  1,           1,           1,           1,           1,           1,           1,           1,           1,           1,           1,           1,           1,           1,           1,           1,           1,           1,           1,           1,           1,           1,           1,\n",
            "                  1,           1,           1,           1,           1,           1,           1,           1,           1,           1,           1,           1,           1,           1,           1,           1,           1,           1,           1,           1,           1,           1,           1,\n",
            "                  1,           1,           1,           1,           1,           1,           1,           1,           1,           1,           1,           1,           1,           1,           1,           1,           1,           1,           1,           1,           1,           1,           1,\n",
            "                  1,           1,           1,           1,           1,           1,           1,           1,           1,           1,           1,           1,           1,           1,           1,           1,           1,           1,           1,           1,           1,           1,           1,\n",
            "                  1,           1,           1,           1,           1,           1,           1,           1,           1,           1,           1,           1,           1,           1,           1,           1,           1,           1,           1,           1,           1,           1,           1,\n",
            "                  1,           1,           1,           1,           1,           1,           1,           1,           1,           1,           1,           1,           1,           1,           1,           1,           1,           1,           1,           1,           1,           1,           1,\n",
            "                  1,           1,           1,           1,           1,           1,           1,           1,           1,           1,           1,           1,           1,           1,           1,           1,           1,           1,           1,           1,     0.98319,     0.98319,     0.98319,\n",
            "            0.98319,     0.98319,     0.98319,     0.98319,     0.98319,     0.98319,     0.98319,     0.98319,     0.98319,     0.98319,     0.98319,     0.98319,     0.98319,     0.98319,     0.98319,     0.98319,     0.98319,     0.98319,     0.98319,     0.98319,     0.98319,     0.98319,     0.98319,\n",
            "            0.98319,     0.98319,     0.98319,     0.98319,     0.98319,     0.98319,     0.98319,     0.98319,     0.98319,     0.98319,     0.98319,     0.98319,     0.98319,     0.98319,     0.98319,     0.98319,     0.98319,     0.98319,     0.98319,     0.98319,     0.98319,     0.98319,     0.98319,\n",
            "            0.98319,     0.98319,     0.98319,     0.98319,     0.98319,     0.98319,     0.98319,     0.98319,     0.98319,     0.98319,     0.98319,     0.98319,     0.98319,     0.98319,     0.98319,     0.98319,     0.98319,     0.98319,     0.98319,     0.98319,     0.98319,     0.98319,     0.98319,\n",
            "            0.98319,     0.98319,     0.98319,     0.98319,     0.98319,     0.98319,     0.98319,     0.98319,     0.98319,     0.98319,     0.98319,     0.98319,     0.98319,     0.98319,     0.98319,     0.98319,     0.98319,     0.98319,     0.98319,     0.98319,     0.98319,     0.98319,     0.98319,\n",
            "            0.98319,     0.98319,     0.98319,     0.98319,     0.98319,     0.98319,     0.98319,     0.98319,     0.98319,     0.98319,     0.98319,     0.98319,     0.98319,     0.98319,     0.98319,     0.98319,     0.98319,     0.98319,     0.98319,     0.98319,     0.98319,     0.98319,     0.98319,\n",
            "            0.98319,     0.98319,     0.98319,     0.98319,     0.98319,     0.98319,     0.98319,     0.98319,     0.98319,     0.98319,     0.98319,     0.98319,     0.98319,     0.98319,     0.98319,     0.98319,     0.98319,     0.98319,     0.98319,     0.98319,     0.98319,     0.98319,     0.98319,\n",
            "            0.98319,     0.98319,     0.98319,     0.98319,     0.98319,     0.98319,     0.98319,     0.98319,     0.98319,     0.98319,     0.98319,     0.98319,     0.98319,     0.98319,     0.98319,     0.98319,     0.98319,     0.98319,     0.98319,     0.98319,     0.98319,     0.98319,     0.98319,\n",
            "            0.98319,     0.98319,     0.98319,     0.98319,     0.98319,     0.98319,     0.98319,     0.98319,     0.98319,     0.98319,     0.98319,     0.98319,     0.98319,     0.98319,     0.98319,     0.98319,     0.98319,     0.98319,     0.98319,     0.97581,     0.97581,     0.97581,     0.97581,\n",
            "            0.97581,     0.97581,     0.97581,     0.97581,     0.97581,     0.97581,     0.97581,     0.97581,     0.97581,     0.97581,     0.97581,     0.97581,     0.97581,     0.97581,     0.97581,     0.97581,     0.97581,     0.97581,     0.97581,     0.97581,     0.97581,     0.97581,     0.97581,\n",
            "            0.97581,     0.97581,     0.97581,     0.92424,     0.92424,     0.92424,     0.92424,     0.92424,     0.92424,     0.92424,     0.92424,     0.88489,     0.88489,     0.88489,     0.88489,     0.88489,     0.88489,     0.88489,     0.86806,     0.86806,     0.86806,     0.86806,     0.86806,\n",
            "            0.86806,     0.86806,     0.86806,     0.86806,     0.86806,     0.86806,     0.86806,     0.86806,     0.86806,     0.86806,     0.86806,     0.79245,     0.79245,     0.79245,     0.79245,     0.79245,     0.79245,     0.79245,     0.77914,     0.77914,     0.77914,     0.77914,     0.77914,\n",
            "            0.77914,     0.77914,     0.77914,     0.74419,     0.74419,     0.74419,     0.74419,     0.74419,     0.74419,     0.74419,     0.74419,     0.73295,     0.73295,     0.73295,     0.73295,     0.73295,     0.73295,     0.73295,     0.47619,     0.47619,     0.47619,     0.47619,     0.47619,\n",
            "            0.47619,     0.47619,     0.47619,     0.32426,     0.32426,     0.32426,     0.32426,     0.32426,     0.32426,     0.32426,           0]]), 'Recall', 'Precision'], [array([          0,    0.001001,    0.002002,    0.003003,    0.004004,    0.005005,    0.006006,    0.007007,    0.008008,    0.009009,     0.01001,    0.011011,    0.012012,    0.013013,    0.014014,    0.015015,    0.016016,    0.017017,    0.018018,    0.019019,     0.02002,    0.021021,    0.022022,    0.023023,\n",
            "          0.024024,    0.025025,    0.026026,    0.027027,    0.028028,    0.029029,     0.03003,    0.031031,    0.032032,    0.033033,    0.034034,    0.035035,    0.036036,    0.037037,    0.038038,    0.039039,     0.04004,    0.041041,    0.042042,    0.043043,    0.044044,    0.045045,    0.046046,    0.047047,\n",
            "          0.048048,    0.049049,     0.05005,    0.051051,    0.052052,    0.053053,    0.054054,    0.055055,    0.056056,    0.057057,    0.058058,    0.059059,     0.06006,    0.061061,    0.062062,    0.063063,    0.064064,    0.065065,    0.066066,    0.067067,    0.068068,    0.069069,     0.07007,    0.071071,\n",
            "          0.072072,    0.073073,    0.074074,    0.075075,    0.076076,    0.077077,    0.078078,    0.079079,     0.08008,    0.081081,    0.082082,    0.083083,    0.084084,    0.085085,    0.086086,    0.087087,    0.088088,    0.089089,     0.09009,    0.091091,    0.092092,    0.093093,    0.094094,    0.095095,\n",
            "          0.096096,    0.097097,    0.098098,    0.099099,      0.1001,      0.1011,      0.1021,      0.1031,      0.1041,     0.10511,     0.10611,     0.10711,     0.10811,     0.10911,     0.11011,     0.11111,     0.11211,     0.11311,     0.11411,     0.11512,     0.11612,     0.11712,     0.11812,     0.11912,\n",
            "           0.12012,     0.12112,     0.12212,     0.12312,     0.12412,     0.12513,     0.12613,     0.12713,     0.12813,     0.12913,     0.13013,     0.13113,     0.13213,     0.13313,     0.13413,     0.13514,     0.13614,     0.13714,     0.13814,     0.13914,     0.14014,     0.14114,     0.14214,     0.14314,\n",
            "           0.14414,     0.14515,     0.14615,     0.14715,     0.14815,     0.14915,     0.15015,     0.15115,     0.15215,     0.15315,     0.15415,     0.15516,     0.15616,     0.15716,     0.15816,     0.15916,     0.16016,     0.16116,     0.16216,     0.16316,     0.16416,     0.16517,     0.16617,     0.16717,\n",
            "           0.16817,     0.16917,     0.17017,     0.17117,     0.17217,     0.17317,     0.17417,     0.17518,     0.17618,     0.17718,     0.17818,     0.17918,     0.18018,     0.18118,     0.18218,     0.18318,     0.18418,     0.18519,     0.18619,     0.18719,     0.18819,     0.18919,     0.19019,     0.19119,\n",
            "           0.19219,     0.19319,     0.19419,      0.1952,      0.1962,      0.1972,      0.1982,      0.1992,      0.2002,      0.2012,      0.2022,      0.2032,      0.2042,     0.20521,     0.20621,     0.20721,     0.20821,     0.20921,     0.21021,     0.21121,     0.21221,     0.21321,     0.21421,     0.21522,\n",
            "           0.21622,     0.21722,     0.21822,     0.21922,     0.22022,     0.22122,     0.22222,     0.22322,     0.22422,     0.22523,     0.22623,     0.22723,     0.22823,     0.22923,     0.23023,     0.23123,     0.23223,     0.23323,     0.23423,     0.23524,     0.23624,     0.23724,     0.23824,     0.23924,\n",
            "           0.24024,     0.24124,     0.24224,     0.24324,     0.24424,     0.24525,     0.24625,     0.24725,     0.24825,     0.24925,     0.25025,     0.25125,     0.25225,     0.25325,     0.25425,     0.25526,     0.25626,     0.25726,     0.25826,     0.25926,     0.26026,     0.26126,     0.26226,     0.26326,\n",
            "           0.26426,     0.26527,     0.26627,     0.26727,     0.26827,     0.26927,     0.27027,     0.27127,     0.27227,     0.27327,     0.27427,     0.27528,     0.27628,     0.27728,     0.27828,     0.27928,     0.28028,     0.28128,     0.28228,     0.28328,     0.28428,     0.28529,     0.28629,     0.28729,\n",
            "           0.28829,     0.28929,     0.29029,     0.29129,     0.29229,     0.29329,     0.29429,      0.2953,      0.2963,      0.2973,      0.2983,      0.2993,      0.3003,      0.3013,      0.3023,      0.3033,      0.3043,     0.30531,     0.30631,     0.30731,     0.30831,     0.30931,     0.31031,     0.31131,\n",
            "           0.31231,     0.31331,     0.31431,     0.31532,     0.31632,     0.31732,     0.31832,     0.31932,     0.32032,     0.32132,     0.32232,     0.32332,     0.32432,     0.32533,     0.32633,     0.32733,     0.32833,     0.32933,     0.33033,     0.33133,     0.33233,     0.33333,     0.33433,     0.33534,\n",
            "           0.33634,     0.33734,     0.33834,     0.33934,     0.34034,     0.34134,     0.34234,     0.34334,     0.34434,     0.34535,     0.34635,     0.34735,     0.34835,     0.34935,     0.35035,     0.35135,     0.35235,     0.35335,     0.35435,     0.35536,     0.35636,     0.35736,     0.35836,     0.35936,\n",
            "           0.36036,     0.36136,     0.36236,     0.36336,     0.36436,     0.36537,     0.36637,     0.36737,     0.36837,     0.36937,     0.37037,     0.37137,     0.37237,     0.37337,     0.37437,     0.37538,     0.37638,     0.37738,     0.37838,     0.37938,     0.38038,     0.38138,     0.38238,     0.38338,\n",
            "           0.38438,     0.38539,     0.38639,     0.38739,     0.38839,     0.38939,     0.39039,     0.39139,     0.39239,     0.39339,     0.39439,      0.3954,      0.3964,      0.3974,      0.3984,      0.3994,      0.4004,      0.4014,      0.4024,      0.4034,      0.4044,     0.40541,     0.40641,     0.40741,\n",
            "           0.40841,     0.40941,     0.41041,     0.41141,     0.41241,     0.41341,     0.41441,     0.41542,     0.41642,     0.41742,     0.41842,     0.41942,     0.42042,     0.42142,     0.42242,     0.42342,     0.42442,     0.42543,     0.42643,     0.42743,     0.42843,     0.42943,     0.43043,     0.43143,\n",
            "           0.43243,     0.43343,     0.43443,     0.43544,     0.43644,     0.43744,     0.43844,     0.43944,     0.44044,     0.44144,     0.44244,     0.44344,     0.44444,     0.44545,     0.44645,     0.44745,     0.44845,     0.44945,     0.45045,     0.45145,     0.45245,     0.45345,     0.45445,     0.45546,\n",
            "           0.45646,     0.45746,     0.45846,     0.45946,     0.46046,     0.46146,     0.46246,     0.46346,     0.46446,     0.46547,     0.46647,     0.46747,     0.46847,     0.46947,     0.47047,     0.47147,     0.47247,     0.47347,     0.47447,     0.47548,     0.47648,     0.47748,     0.47848,     0.47948,\n",
            "           0.48048,     0.48148,     0.48248,     0.48348,     0.48448,     0.48549,     0.48649,     0.48749,     0.48849,     0.48949,     0.49049,     0.49149,     0.49249,     0.49349,     0.49449,      0.4955,      0.4965,      0.4975,      0.4985,      0.4995,      0.5005,      0.5015,      0.5025,      0.5035,\n",
            "            0.5045,     0.50551,     0.50651,     0.50751,     0.50851,     0.50951,     0.51051,     0.51151,     0.51251,     0.51351,     0.51451,     0.51552,     0.51652,     0.51752,     0.51852,     0.51952,     0.52052,     0.52152,     0.52252,     0.52352,     0.52452,     0.52553,     0.52653,     0.52753,\n",
            "           0.52853,     0.52953,     0.53053,     0.53153,     0.53253,     0.53353,     0.53453,     0.53554,     0.53654,     0.53754,     0.53854,     0.53954,     0.54054,     0.54154,     0.54254,     0.54354,     0.54454,     0.54555,     0.54655,     0.54755,     0.54855,     0.54955,     0.55055,     0.55155,\n",
            "           0.55255,     0.55355,     0.55455,     0.55556,     0.55656,     0.55756,     0.55856,     0.55956,     0.56056,     0.56156,     0.56256,     0.56356,     0.56456,     0.56557,     0.56657,     0.56757,     0.56857,     0.56957,     0.57057,     0.57157,     0.57257,     0.57357,     0.57457,     0.57558,\n",
            "           0.57658,     0.57758,     0.57858,     0.57958,     0.58058,     0.58158,     0.58258,     0.58358,     0.58458,     0.58559,     0.58659,     0.58759,     0.58859,     0.58959,     0.59059,     0.59159,     0.59259,     0.59359,     0.59459,      0.5956,      0.5966,      0.5976,      0.5986,      0.5996,\n",
            "            0.6006,      0.6016,      0.6026,      0.6036,      0.6046,     0.60561,     0.60661,     0.60761,     0.60861,     0.60961,     0.61061,     0.61161,     0.61261,     0.61361,     0.61461,     0.61562,     0.61662,     0.61762,     0.61862,     0.61962,     0.62062,     0.62162,     0.62262,     0.62362,\n",
            "           0.62462,     0.62563,     0.62663,     0.62763,     0.62863,     0.62963,     0.63063,     0.63163,     0.63263,     0.63363,     0.63463,     0.63564,     0.63664,     0.63764,     0.63864,     0.63964,     0.64064,     0.64164,     0.64264,     0.64364,     0.64464,     0.64565,     0.64665,     0.64765,\n",
            "           0.64865,     0.64965,     0.65065,     0.65165,     0.65265,     0.65365,     0.65465,     0.65566,     0.65666,     0.65766,     0.65866,     0.65966,     0.66066,     0.66166,     0.66266,     0.66366,     0.66466,     0.66567,     0.66667,     0.66767,     0.66867,     0.66967,     0.67067,     0.67167,\n",
            "           0.67267,     0.67367,     0.67467,     0.67568,     0.67668,     0.67768,     0.67868,     0.67968,     0.68068,     0.68168,     0.68268,     0.68368,     0.68468,     0.68569,     0.68669,     0.68769,     0.68869,     0.68969,     0.69069,     0.69169,     0.69269,     0.69369,     0.69469,      0.6957,\n",
            "            0.6967,      0.6977,      0.6987,      0.6997,      0.7007,      0.7017,      0.7027,      0.7037,      0.7047,     0.70571,     0.70671,     0.70771,     0.70871,     0.70971,     0.71071,     0.71171,     0.71271,     0.71371,     0.71471,     0.71572,     0.71672,     0.71772,     0.71872,     0.71972,\n",
            "           0.72072,     0.72172,     0.72272,     0.72372,     0.72472,     0.72573,     0.72673,     0.72773,     0.72873,     0.72973,     0.73073,     0.73173,     0.73273,     0.73373,     0.73473,     0.73574,     0.73674,     0.73774,     0.73874,     0.73974,     0.74074,     0.74174,     0.74274,     0.74374,\n",
            "           0.74474,     0.74575,     0.74675,     0.74775,     0.74875,     0.74975,     0.75075,     0.75175,     0.75275,     0.75375,     0.75475,     0.75576,     0.75676,     0.75776,     0.75876,     0.75976,     0.76076,     0.76176,     0.76276,     0.76376,     0.76476,     0.76577,     0.76677,     0.76777,\n",
            "           0.76877,     0.76977,     0.77077,     0.77177,     0.77277,     0.77377,     0.77477,     0.77578,     0.77678,     0.77778,     0.77878,     0.77978,     0.78078,     0.78178,     0.78278,     0.78378,     0.78478,     0.78579,     0.78679,     0.78779,     0.78879,     0.78979,     0.79079,     0.79179,\n",
            "           0.79279,     0.79379,     0.79479,      0.7958,      0.7968,      0.7978,      0.7988,      0.7998,      0.8008,      0.8018,      0.8028,      0.8038,      0.8048,     0.80581,     0.80681,     0.80781,     0.80881,     0.80981,     0.81081,     0.81181,     0.81281,     0.81381,     0.81481,     0.81582,\n",
            "           0.81682,     0.81782,     0.81882,     0.81982,     0.82082,     0.82182,     0.82282,     0.82382,     0.82482,     0.82583,     0.82683,     0.82783,     0.82883,     0.82983,     0.83083,     0.83183,     0.83283,     0.83383,     0.83483,     0.83584,     0.83684,     0.83784,     0.83884,     0.83984,\n",
            "           0.84084,     0.84184,     0.84284,     0.84384,     0.84484,     0.84585,     0.84685,     0.84785,     0.84885,     0.84985,     0.85085,     0.85185,     0.85285,     0.85385,     0.85485,     0.85586,     0.85686,     0.85786,     0.85886,     0.85986,     0.86086,     0.86186,     0.86286,     0.86386,\n",
            "           0.86486,     0.86587,     0.86687,     0.86787,     0.86887,     0.86987,     0.87087,     0.87187,     0.87287,     0.87387,     0.87487,     0.87588,     0.87688,     0.87788,     0.87888,     0.87988,     0.88088,     0.88188,     0.88288,     0.88388,     0.88488,     0.88589,     0.88689,     0.88789,\n",
            "           0.88889,     0.88989,     0.89089,     0.89189,     0.89289,     0.89389,     0.89489,      0.8959,      0.8969,      0.8979,      0.8989,      0.8999,      0.9009,      0.9019,      0.9029,      0.9039,      0.9049,     0.90591,     0.90691,     0.90791,     0.90891,     0.90991,     0.91091,     0.91191,\n",
            "           0.91291,     0.91391,     0.91491,     0.91592,     0.91692,     0.91792,     0.91892,     0.91992,     0.92092,     0.92192,     0.92292,     0.92392,     0.92492,     0.92593,     0.92693,     0.92793,     0.92893,     0.92993,     0.93093,     0.93193,     0.93293,     0.93393,     0.93493,     0.93594,\n",
            "           0.93694,     0.93794,     0.93894,     0.93994,     0.94094,     0.94194,     0.94294,     0.94394,     0.94494,     0.94595,     0.94695,     0.94795,     0.94895,     0.94995,     0.95095,     0.95195,     0.95295,     0.95395,     0.95495,     0.95596,     0.95696,     0.95796,     0.95896,     0.95996,\n",
            "           0.96096,     0.96196,     0.96296,     0.96396,     0.96496,     0.96597,     0.96697,     0.96797,     0.96897,     0.96997,     0.97097,     0.97197,     0.97297,     0.97397,     0.97497,     0.97598,     0.97698,     0.97798,     0.97898,     0.97998,     0.98098,     0.98198,     0.98298,     0.98398,\n",
            "           0.98498,     0.98599,     0.98699,     0.98799,     0.98899,     0.98999,     0.99099,     0.99199,     0.99299,     0.99399,     0.99499,       0.996,       0.997,       0.998,       0.999,           1]), array([[    0.30359,     0.30359,     0.38558,     0.44065,     0.48056,     0.50775,     0.52264,     0.54146,     0.55823,      0.5791,     0.59028,      0.6016,     0.61704,     0.62865,     0.63907,     0.64153,      0.6479,     0.65265,     0.65856,     0.66075,     0.66986,     0.68263,     0.68968,\n",
            "            0.69091,     0.69299,     0.70016,     0.70504,     0.70771,     0.71366,     0.72032,     0.73313,     0.73465,     0.73822,     0.74146,     0.74319,     0.74593,     0.74652,     0.74711,      0.7477,     0.74851,     0.74937,     0.75179,      0.7581,     0.76007,     0.76521,     0.76673,\n",
            "            0.76815,     0.77077,     0.77156,     0.77234,     0.77326,      0.7742,     0.77891,     0.78258,     0.78366,     0.78664,     0.78861,     0.79017,      0.7915,     0.79209,     0.79268,     0.79327,     0.79391,     0.79878,     0.79959,     0.80039,      0.8012,     0.80431,     0.80499,\n",
            "            0.80567,     0.80646,     0.80798,     0.81003,     0.81169,     0.81243,     0.81316,     0.81395,     0.82166,     0.82231,     0.82297,     0.82362,     0.82427,     0.82722,     0.82837,     0.82951,     0.83046,     0.83139,     0.83231,     0.83305,     0.83379,     0.83454,     0.83543,\n",
            "            0.83652,     0.83761,     0.83898,     0.84037,     0.83969,     0.83898,     0.83826,     0.83754,     0.83683,     0.83828,     0.84218,     0.84263,     0.84307,     0.84351,     0.84396,      0.8444,     0.84484,     0.84386,     0.84274,     0.84162,     0.84274,     0.84548,     0.84697,\n",
            "            0.84755,     0.84813,     0.84871,     0.84929,     0.85021,     0.85133,     0.85245,     0.85362,     0.85478,     0.85643,     0.85895,     0.86351,     0.86275,     0.86198,     0.86121,     0.86045,     0.86038,     0.86099,      0.8616,     0.86221,     0.86282,     0.86417,     0.86585,\n",
            "            0.86673,     0.86755,     0.86836,     0.86888,     0.86855,     0.86822,     0.86789,     0.86756,     0.86723,      0.8669,     0.86657,     0.86624,     0.86591,     0.86558,     0.86525,     0.86566,     0.86715,     0.86873,     0.87044,     0.87138,     0.87186,     0.87234,     0.87282,\n",
            "             0.8733,     0.87378,     0.87472,     0.87682,     0.87782,     0.87858,     0.87934,      0.8801,     0.88098,     0.88189,     0.88281,     0.88371,     0.88457,     0.88543,     0.88629,     0.88991,     0.89027,     0.89064,       0.891,     0.89136,     0.89173,     0.89209,     0.89245,\n",
            "            0.89281,     0.89378,     0.89483,     0.89588,     0.89955,     0.90003,     0.90051,     0.90098,     0.90146,     0.90193,      0.9024,     0.90263,     0.90276,     0.90289,     0.90303,     0.90316,      0.9033,     0.90343,     0.90356,      0.9037,     0.90383,     0.90397,      0.9041,\n",
            "            0.90423,     0.90437,      0.9045,     0.90463,     0.90477,      0.9049,     0.90503,     0.90517,      0.9053,     0.90544,     0.90557,      0.9057,     0.90602,     0.90682,     0.90761,      0.9084,       0.909,     0.90831,     0.90762,     0.90694,     0.90625,     0.90556,     0.90502,\n",
            "            0.90477,     0.90453,     0.90428,     0.90403,     0.90378,     0.90354,     0.90329,     0.90304,     0.90279,     0.90255,      0.9023,     0.90205,      0.9018,     0.90155,      0.9013,     0.90122,     0.90194,     0.90265,     0.90336,     0.90407,     0.90453,     0.90477,       0.905,\n",
            "            0.90523,     0.90546,     0.90569,     0.90592,     0.90616,     0.90639,     0.90662,     0.90685,     0.90708,     0.90731,     0.90754,     0.90778,     0.90804,      0.9083,     0.90856,     0.90881,     0.90907,     0.90933,     0.90959,     0.90985,     0.91011,     0.91037,     0.91063,\n",
            "            0.91088,     0.91109,     0.91091,     0.91074,     0.91056,     0.91038,     0.91021,     0.91003,     0.90986,     0.90968,      0.9095,     0.90933,     0.90915,     0.90897,     0.90879,     0.90862,     0.90844,     0.90826,     0.90809,     0.90791,     0.90773,     0.90756,     0.90738,\n",
            "             0.9072,      0.9071,     0.90726,     0.90742,     0.90759,     0.90775,     0.90791,     0.90807,     0.90823,      0.9084,     0.90856,     0.90872,     0.90888,     0.90904,     0.90921,     0.90937,     0.90953,     0.90969,     0.90985,     0.91001,     0.91017,     0.91034,     0.91106,\n",
            "            0.91304,     0.91392,     0.91403,     0.91413,     0.91424,     0.91434,     0.91445,     0.91455,     0.91466,     0.91476,     0.91487,     0.91498,     0.91508,     0.91519,     0.91529,      0.9154,      0.9155,     0.91561,     0.91571,     0.91582,     0.91592,     0.91603,     0.91613,\n",
            "            0.91624,     0.91634,     0.91645,     0.91655,     0.91666,     0.91676,     0.91687,     0.91698,     0.91708,     0.91719,     0.91729,     0.91743,     0.91756,      0.9177,     0.91783,     0.91797,     0.91811,     0.91824,     0.91838,     0.91851,     0.91865,     0.91879,     0.91892,\n",
            "            0.91906,     0.91919,     0.91933,     0.91946,      0.9196,     0.91974,     0.91987,     0.92001,     0.92014,     0.92028,     0.92041,     0.92055,     0.92068,     0.92084,     0.92102,     0.92121,     0.92139,     0.92157,     0.92175,     0.92193,     0.92212,      0.9223,     0.92248,\n",
            "            0.92266,     0.92284,     0.92303,     0.92321,     0.92339,     0.92357,     0.92375,     0.92393,     0.92411,     0.92428,     0.92441,     0.92454,     0.92467,      0.9248,     0.92494,     0.92507,      0.9252,     0.92533,     0.92546,     0.92559,     0.92572,     0.92585,     0.92598,\n",
            "            0.92611,     0.92624,     0.92637,      0.9265,     0.92664,     0.92677,      0.9269,     0.92703,     0.92716,     0.92729,     0.92742,     0.92755,     0.92768,     0.92771,     0.92758,     0.92745,     0.92732,     0.92719,     0.92706,     0.92693,      0.9268,     0.92667,     0.92654,\n",
            "            0.92641,     0.92628,     0.92615,     0.92602,     0.92589,     0.92576,     0.92563,      0.9255,     0.92537,     0.92524,     0.92511,     0.92498,     0.92485,     0.92472,     0.92459,     0.92446,     0.92433,      0.9242,     0.92407,     0.92394,     0.92381,     0.92368,       0.924,\n",
            "            0.92439,     0.92477,     0.92516,     0.92554,     0.92593,     0.92631,     0.92669,     0.92708,     0.92734,     0.92754,     0.92774,     0.92794,     0.92814,     0.92835,     0.92855,     0.92875,     0.92895,     0.92915,     0.92935,     0.92955,     0.92975,     0.92995,     0.93015,\n",
            "            0.93035,     0.93055,     0.93075,     0.93133,     0.93193,     0.93254,     0.93315,     0.93375,     0.93436,     0.93547,     0.93659,      0.9377,     0.93918,     0.94077,     0.94213,     0.94321,     0.94428,     0.94531,     0.94535,     0.94539,     0.94542,     0.94546,      0.9455,\n",
            "            0.94553,     0.94557,     0.94561,     0.94564,     0.94568,     0.94572,     0.94575,     0.94579,     0.94583,     0.94586,      0.9459,     0.94594,     0.94597,     0.94601,     0.94605,     0.94608,     0.94612,     0.94616,     0.94619,     0.94623,     0.94626,      0.9463,     0.94634,\n",
            "            0.94637,     0.94641,     0.94645,     0.94648,     0.94652,     0.94656,     0.94659,     0.94663,     0.94667,      0.9467,     0.94674,     0.94678,     0.94681,     0.94685,     0.94689,     0.94692,     0.94696,     0.94699,     0.94703,     0.94707,      0.9471,     0.94714,     0.94718,\n",
            "            0.94721,     0.94725,     0.94729,     0.94732,     0.94736,      0.9474,     0.94743,     0.94747,     0.94751,     0.94754,     0.94758,     0.94761,     0.94765,     0.94769,     0.94772,     0.94776,      0.9478,     0.94783,     0.94787,     0.94791,     0.94794,     0.94798,     0.94801,\n",
            "            0.94805,     0.94809,     0.94812,     0.94816,      0.9482,     0.94823,     0.94827,     0.94831,     0.94834,     0.94838,     0.94842,     0.94845,     0.94849,     0.94852,     0.94856,      0.9486,     0.94863,     0.94867,     0.94871,     0.94874,     0.94878,     0.94881,     0.94885,\n",
            "            0.94889,     0.94892,     0.94896,       0.949,     0.94895,     0.94876,     0.94856,     0.94837,     0.94817,     0.94798,     0.94779,     0.94759,      0.9474,      0.9472,     0.94701,     0.94681,     0.94662,     0.94643,     0.94623,     0.94604,     0.94584,     0.94565,     0.94545,\n",
            "            0.94526,     0.94506,     0.94486,     0.94453,      0.9442,     0.94387,     0.94354,     0.94321,     0.94288,     0.94255,     0.94222,     0.94189,     0.94156,     0.94123,      0.9409,      0.9401,     0.93865,      0.9372,     0.93644,      0.9363,     0.93617,     0.93603,      0.9359,\n",
            "            0.93576,     0.93562,     0.93549,     0.93535,     0.93522,     0.93508,     0.93495,     0.93481,     0.93468,     0.93454,      0.9344,     0.93427,     0.93413,       0.934,     0.93386,     0.93373,     0.93359,     0.93345,     0.93332,     0.93318,     0.93305,     0.93291,     0.93277,\n",
            "            0.93264,      0.9325,     0.93236,     0.93232,     0.93247,     0.93263,     0.93279,     0.93294,      0.9331,     0.93325,     0.93341,     0.93356,     0.93372,     0.93387,     0.93402,     0.93418,     0.93433,     0.93449,     0.93464,      0.9348,     0.93495,     0.93511,     0.93526,\n",
            "            0.93542,     0.93557,     0.93572,     0.93588,     0.93505,     0.93157,     0.93099,     0.93042,     0.92984,     0.92927,     0.92869,     0.92811,     0.92753,       0.923,     0.92139,     0.91979,      0.9185,     0.91789,     0.91728,     0.91667,     0.91606,     0.91545,     0.91484,\n",
            "            0.91426,     0.91403,      0.9138,     0.91357,     0.91334,     0.91311,     0.91287,     0.91264,     0.91241,     0.91218,     0.91195,     0.91171,     0.91148,     0.91125,     0.91102,     0.91078,     0.91055,     0.91032,     0.91008,     0.90985,      0.9078,     0.90562,     0.89613,\n",
            "            0.89367,     0.89127,     0.88919,     0.88711,     0.88118,     0.87818,     0.87152,     0.86882,     0.86557,     0.85996,     0.85438,     0.85094,     0.84322,     0.83875,      0.8379,     0.83733,     0.83676,     0.83619,     0.83561,     0.83504,     0.83447,     0.83389,     0.83325,\n",
            "            0.83014,     0.82558,     0.82724,     0.82985,     0.82929,     0.82874,     0.82818,     0.82762,     0.82706,     0.82649,     0.82593,     0.82537,     0.82301,     0.81702,     0.81135,     0.80272,     0.80039,     0.79606,     0.78599,     0.78332,     0.77495,     0.77007,     0.76162,\n",
            "            0.75862,      0.7514,     0.74694,     0.74019,     0.73509,     0.72721,     0.72537,     0.72352,     0.72095,     0.71359,       0.701,     0.69649,     0.68074,     0.67409,     0.66874,     0.65563,     0.64651,     0.64106,     0.63836,     0.63565,     0.61431,     0.60566,     0.59793,\n",
            "            0.59491,     0.59187,     0.58295,     0.58177,     0.58059,     0.57941,     0.57823,     0.57705,     0.56653,     0.55242,     0.53588,     0.53391,     0.53194,     0.52997,     0.51972,     0.51798,     0.51624,     0.51449,     0.51274,     0.51005,     0.50395,      0.4981,     0.49283,\n",
            "             0.4886,     0.48269,     0.47308,     0.46098,     0.45176,     0.43808,     0.43482,     0.43154,     0.42895,     0.42644,     0.42392,     0.42158,     0.42067,     0.41976,     0.41885,     0.41794,     0.41703,     0.41611,      0.4152,     0.41428,     0.41336,     0.41244,     0.40819,\n",
            "            0.40116,     0.38231,     0.37655,      0.3711,     0.36632,      0.3602,     0.33723,      0.3195,     0.30202,     0.29696,     0.29466,     0.29236,     0.29004,     0.28772,     0.28214,     0.27628,     0.26152,     0.25606,     0.24467,     0.22509,     0.21642,     0.20784,     0.19639,\n",
            "            0.18996,      0.1857,     0.18142,     0.17596,     0.17018,     0.16691,     0.16536,     0.16381,     0.16226,      0.1607,     0.15915,     0.15758,     0.15602,     0.15266,     0.14517,     0.14144,      0.1407,     0.13997,     0.13924,      0.1385,     0.13777,     0.13703,     0.13629,\n",
            "            0.13556,     0.13482,     0.13408,     0.13334,      0.1326,     0.13186,     0.13112,     0.13038,     0.12964,      0.1289,     0.12007,     0.11136,     0.10579,     0.10074,    0.097591,    0.094433,    0.091264,    0.088085,    0.085955,    0.084016,    0.082072,    0.080124,    0.078173,\n",
            "           0.076217,    0.074258,    0.071678,    0.068728,    0.065768,    0.062799,    0.059821,    0.054557,    0.048732,     0.04438,    0.043156,    0.041931,    0.040705,    0.039477,    0.038247,    0.037016,    0.035784,     0.03455,    0.033314,    0.032077,    0.030838,    0.029759,    0.028936,\n",
            "           0.028113,    0.027289,    0.026464,    0.025639,    0.024813,    0.023986,    0.023159,    0.022331,    0.021502,    0.020673,    0.019843,    0.019012,     0.01818,    0.017348,    0.016515,    0.015681,           0,           0,           0,           0,           0,           0,           0,\n",
            "                  0,           0,           0,           0,           0,           0,           0,           0,           0,           0,           0,           0,           0,           0,           0,           0,           0,           0,           0,           0,           0,           0,           0,\n",
            "                  0,           0,           0,           0,           0,           0,           0,           0,           0,           0,           0]]), 'Confidence', 'F1'], [array([          0,    0.001001,    0.002002,    0.003003,    0.004004,    0.005005,    0.006006,    0.007007,    0.008008,    0.009009,     0.01001,    0.011011,    0.012012,    0.013013,    0.014014,    0.015015,    0.016016,    0.017017,    0.018018,    0.019019,     0.02002,    0.021021,    0.022022,    0.023023,\n",
            "          0.024024,    0.025025,    0.026026,    0.027027,    0.028028,    0.029029,     0.03003,    0.031031,    0.032032,    0.033033,    0.034034,    0.035035,    0.036036,    0.037037,    0.038038,    0.039039,     0.04004,    0.041041,    0.042042,    0.043043,    0.044044,    0.045045,    0.046046,    0.047047,\n",
            "          0.048048,    0.049049,     0.05005,    0.051051,    0.052052,    0.053053,    0.054054,    0.055055,    0.056056,    0.057057,    0.058058,    0.059059,     0.06006,    0.061061,    0.062062,    0.063063,    0.064064,    0.065065,    0.066066,    0.067067,    0.068068,    0.069069,     0.07007,    0.071071,\n",
            "          0.072072,    0.073073,    0.074074,    0.075075,    0.076076,    0.077077,    0.078078,    0.079079,     0.08008,    0.081081,    0.082082,    0.083083,    0.084084,    0.085085,    0.086086,    0.087087,    0.088088,    0.089089,     0.09009,    0.091091,    0.092092,    0.093093,    0.094094,    0.095095,\n",
            "          0.096096,    0.097097,    0.098098,    0.099099,      0.1001,      0.1011,      0.1021,      0.1031,      0.1041,     0.10511,     0.10611,     0.10711,     0.10811,     0.10911,     0.11011,     0.11111,     0.11211,     0.11311,     0.11411,     0.11512,     0.11612,     0.11712,     0.11812,     0.11912,\n",
            "           0.12012,     0.12112,     0.12212,     0.12312,     0.12412,     0.12513,     0.12613,     0.12713,     0.12813,     0.12913,     0.13013,     0.13113,     0.13213,     0.13313,     0.13413,     0.13514,     0.13614,     0.13714,     0.13814,     0.13914,     0.14014,     0.14114,     0.14214,     0.14314,\n",
            "           0.14414,     0.14515,     0.14615,     0.14715,     0.14815,     0.14915,     0.15015,     0.15115,     0.15215,     0.15315,     0.15415,     0.15516,     0.15616,     0.15716,     0.15816,     0.15916,     0.16016,     0.16116,     0.16216,     0.16316,     0.16416,     0.16517,     0.16617,     0.16717,\n",
            "           0.16817,     0.16917,     0.17017,     0.17117,     0.17217,     0.17317,     0.17417,     0.17518,     0.17618,     0.17718,     0.17818,     0.17918,     0.18018,     0.18118,     0.18218,     0.18318,     0.18418,     0.18519,     0.18619,     0.18719,     0.18819,     0.18919,     0.19019,     0.19119,\n",
            "           0.19219,     0.19319,     0.19419,      0.1952,      0.1962,      0.1972,      0.1982,      0.1992,      0.2002,      0.2012,      0.2022,      0.2032,      0.2042,     0.20521,     0.20621,     0.20721,     0.20821,     0.20921,     0.21021,     0.21121,     0.21221,     0.21321,     0.21421,     0.21522,\n",
            "           0.21622,     0.21722,     0.21822,     0.21922,     0.22022,     0.22122,     0.22222,     0.22322,     0.22422,     0.22523,     0.22623,     0.22723,     0.22823,     0.22923,     0.23023,     0.23123,     0.23223,     0.23323,     0.23423,     0.23524,     0.23624,     0.23724,     0.23824,     0.23924,\n",
            "           0.24024,     0.24124,     0.24224,     0.24324,     0.24424,     0.24525,     0.24625,     0.24725,     0.24825,     0.24925,     0.25025,     0.25125,     0.25225,     0.25325,     0.25425,     0.25526,     0.25626,     0.25726,     0.25826,     0.25926,     0.26026,     0.26126,     0.26226,     0.26326,\n",
            "           0.26426,     0.26527,     0.26627,     0.26727,     0.26827,     0.26927,     0.27027,     0.27127,     0.27227,     0.27327,     0.27427,     0.27528,     0.27628,     0.27728,     0.27828,     0.27928,     0.28028,     0.28128,     0.28228,     0.28328,     0.28428,     0.28529,     0.28629,     0.28729,\n",
            "           0.28829,     0.28929,     0.29029,     0.29129,     0.29229,     0.29329,     0.29429,      0.2953,      0.2963,      0.2973,      0.2983,      0.2993,      0.3003,      0.3013,      0.3023,      0.3033,      0.3043,     0.30531,     0.30631,     0.30731,     0.30831,     0.30931,     0.31031,     0.31131,\n",
            "           0.31231,     0.31331,     0.31431,     0.31532,     0.31632,     0.31732,     0.31832,     0.31932,     0.32032,     0.32132,     0.32232,     0.32332,     0.32432,     0.32533,     0.32633,     0.32733,     0.32833,     0.32933,     0.33033,     0.33133,     0.33233,     0.33333,     0.33433,     0.33534,\n",
            "           0.33634,     0.33734,     0.33834,     0.33934,     0.34034,     0.34134,     0.34234,     0.34334,     0.34434,     0.34535,     0.34635,     0.34735,     0.34835,     0.34935,     0.35035,     0.35135,     0.35235,     0.35335,     0.35435,     0.35536,     0.35636,     0.35736,     0.35836,     0.35936,\n",
            "           0.36036,     0.36136,     0.36236,     0.36336,     0.36436,     0.36537,     0.36637,     0.36737,     0.36837,     0.36937,     0.37037,     0.37137,     0.37237,     0.37337,     0.37437,     0.37538,     0.37638,     0.37738,     0.37838,     0.37938,     0.38038,     0.38138,     0.38238,     0.38338,\n",
            "           0.38438,     0.38539,     0.38639,     0.38739,     0.38839,     0.38939,     0.39039,     0.39139,     0.39239,     0.39339,     0.39439,      0.3954,      0.3964,      0.3974,      0.3984,      0.3994,      0.4004,      0.4014,      0.4024,      0.4034,      0.4044,     0.40541,     0.40641,     0.40741,\n",
            "           0.40841,     0.40941,     0.41041,     0.41141,     0.41241,     0.41341,     0.41441,     0.41542,     0.41642,     0.41742,     0.41842,     0.41942,     0.42042,     0.42142,     0.42242,     0.42342,     0.42442,     0.42543,     0.42643,     0.42743,     0.42843,     0.42943,     0.43043,     0.43143,\n",
            "           0.43243,     0.43343,     0.43443,     0.43544,     0.43644,     0.43744,     0.43844,     0.43944,     0.44044,     0.44144,     0.44244,     0.44344,     0.44444,     0.44545,     0.44645,     0.44745,     0.44845,     0.44945,     0.45045,     0.45145,     0.45245,     0.45345,     0.45445,     0.45546,\n",
            "           0.45646,     0.45746,     0.45846,     0.45946,     0.46046,     0.46146,     0.46246,     0.46346,     0.46446,     0.46547,     0.46647,     0.46747,     0.46847,     0.46947,     0.47047,     0.47147,     0.47247,     0.47347,     0.47447,     0.47548,     0.47648,     0.47748,     0.47848,     0.47948,\n",
            "           0.48048,     0.48148,     0.48248,     0.48348,     0.48448,     0.48549,     0.48649,     0.48749,     0.48849,     0.48949,     0.49049,     0.49149,     0.49249,     0.49349,     0.49449,      0.4955,      0.4965,      0.4975,      0.4985,      0.4995,      0.5005,      0.5015,      0.5025,      0.5035,\n",
            "            0.5045,     0.50551,     0.50651,     0.50751,     0.50851,     0.50951,     0.51051,     0.51151,     0.51251,     0.51351,     0.51451,     0.51552,     0.51652,     0.51752,     0.51852,     0.51952,     0.52052,     0.52152,     0.52252,     0.52352,     0.52452,     0.52553,     0.52653,     0.52753,\n",
            "           0.52853,     0.52953,     0.53053,     0.53153,     0.53253,     0.53353,     0.53453,     0.53554,     0.53654,     0.53754,     0.53854,     0.53954,     0.54054,     0.54154,     0.54254,     0.54354,     0.54454,     0.54555,     0.54655,     0.54755,     0.54855,     0.54955,     0.55055,     0.55155,\n",
            "           0.55255,     0.55355,     0.55455,     0.55556,     0.55656,     0.55756,     0.55856,     0.55956,     0.56056,     0.56156,     0.56256,     0.56356,     0.56456,     0.56557,     0.56657,     0.56757,     0.56857,     0.56957,     0.57057,     0.57157,     0.57257,     0.57357,     0.57457,     0.57558,\n",
            "           0.57658,     0.57758,     0.57858,     0.57958,     0.58058,     0.58158,     0.58258,     0.58358,     0.58458,     0.58559,     0.58659,     0.58759,     0.58859,     0.58959,     0.59059,     0.59159,     0.59259,     0.59359,     0.59459,      0.5956,      0.5966,      0.5976,      0.5986,      0.5996,\n",
            "            0.6006,      0.6016,      0.6026,      0.6036,      0.6046,     0.60561,     0.60661,     0.60761,     0.60861,     0.60961,     0.61061,     0.61161,     0.61261,     0.61361,     0.61461,     0.61562,     0.61662,     0.61762,     0.61862,     0.61962,     0.62062,     0.62162,     0.62262,     0.62362,\n",
            "           0.62462,     0.62563,     0.62663,     0.62763,     0.62863,     0.62963,     0.63063,     0.63163,     0.63263,     0.63363,     0.63463,     0.63564,     0.63664,     0.63764,     0.63864,     0.63964,     0.64064,     0.64164,     0.64264,     0.64364,     0.64464,     0.64565,     0.64665,     0.64765,\n",
            "           0.64865,     0.64965,     0.65065,     0.65165,     0.65265,     0.65365,     0.65465,     0.65566,     0.65666,     0.65766,     0.65866,     0.65966,     0.66066,     0.66166,     0.66266,     0.66366,     0.66466,     0.66567,     0.66667,     0.66767,     0.66867,     0.66967,     0.67067,     0.67167,\n",
            "           0.67267,     0.67367,     0.67467,     0.67568,     0.67668,     0.67768,     0.67868,     0.67968,     0.68068,     0.68168,     0.68268,     0.68368,     0.68468,     0.68569,     0.68669,     0.68769,     0.68869,     0.68969,     0.69069,     0.69169,     0.69269,     0.69369,     0.69469,      0.6957,\n",
            "            0.6967,      0.6977,      0.6987,      0.6997,      0.7007,      0.7017,      0.7027,      0.7037,      0.7047,     0.70571,     0.70671,     0.70771,     0.70871,     0.70971,     0.71071,     0.71171,     0.71271,     0.71371,     0.71471,     0.71572,     0.71672,     0.71772,     0.71872,     0.71972,\n",
            "           0.72072,     0.72172,     0.72272,     0.72372,     0.72472,     0.72573,     0.72673,     0.72773,     0.72873,     0.72973,     0.73073,     0.73173,     0.73273,     0.73373,     0.73473,     0.73574,     0.73674,     0.73774,     0.73874,     0.73974,     0.74074,     0.74174,     0.74274,     0.74374,\n",
            "           0.74474,     0.74575,     0.74675,     0.74775,     0.74875,     0.74975,     0.75075,     0.75175,     0.75275,     0.75375,     0.75475,     0.75576,     0.75676,     0.75776,     0.75876,     0.75976,     0.76076,     0.76176,     0.76276,     0.76376,     0.76476,     0.76577,     0.76677,     0.76777,\n",
            "           0.76877,     0.76977,     0.77077,     0.77177,     0.77277,     0.77377,     0.77477,     0.77578,     0.77678,     0.77778,     0.77878,     0.77978,     0.78078,     0.78178,     0.78278,     0.78378,     0.78478,     0.78579,     0.78679,     0.78779,     0.78879,     0.78979,     0.79079,     0.79179,\n",
            "           0.79279,     0.79379,     0.79479,      0.7958,      0.7968,      0.7978,      0.7988,      0.7998,      0.8008,      0.8018,      0.8028,      0.8038,      0.8048,     0.80581,     0.80681,     0.80781,     0.80881,     0.80981,     0.81081,     0.81181,     0.81281,     0.81381,     0.81481,     0.81582,\n",
            "           0.81682,     0.81782,     0.81882,     0.81982,     0.82082,     0.82182,     0.82282,     0.82382,     0.82482,     0.82583,     0.82683,     0.82783,     0.82883,     0.82983,     0.83083,     0.83183,     0.83283,     0.83383,     0.83483,     0.83584,     0.83684,     0.83784,     0.83884,     0.83984,\n",
            "           0.84084,     0.84184,     0.84284,     0.84384,     0.84484,     0.84585,     0.84685,     0.84785,     0.84885,     0.84985,     0.85085,     0.85185,     0.85285,     0.85385,     0.85485,     0.85586,     0.85686,     0.85786,     0.85886,     0.85986,     0.86086,     0.86186,     0.86286,     0.86386,\n",
            "           0.86486,     0.86587,     0.86687,     0.86787,     0.86887,     0.86987,     0.87087,     0.87187,     0.87287,     0.87387,     0.87487,     0.87588,     0.87688,     0.87788,     0.87888,     0.87988,     0.88088,     0.88188,     0.88288,     0.88388,     0.88488,     0.88589,     0.88689,     0.88789,\n",
            "           0.88889,     0.88989,     0.89089,     0.89189,     0.89289,     0.89389,     0.89489,      0.8959,      0.8969,      0.8979,      0.8989,      0.8999,      0.9009,      0.9019,      0.9029,      0.9039,      0.9049,     0.90591,     0.90691,     0.90791,     0.90891,     0.90991,     0.91091,     0.91191,\n",
            "           0.91291,     0.91391,     0.91491,     0.91592,     0.91692,     0.91792,     0.91892,     0.91992,     0.92092,     0.92192,     0.92292,     0.92392,     0.92492,     0.92593,     0.92693,     0.92793,     0.92893,     0.92993,     0.93093,     0.93193,     0.93293,     0.93393,     0.93493,     0.93594,\n",
            "           0.93694,     0.93794,     0.93894,     0.93994,     0.94094,     0.94194,     0.94294,     0.94394,     0.94494,     0.94595,     0.94695,     0.94795,     0.94895,     0.94995,     0.95095,     0.95195,     0.95295,     0.95395,     0.95495,     0.95596,     0.95696,     0.95796,     0.95896,     0.95996,\n",
            "           0.96096,     0.96196,     0.96296,     0.96396,     0.96496,     0.96597,     0.96697,     0.96797,     0.96897,     0.96997,     0.97097,     0.97197,     0.97297,     0.97397,     0.97497,     0.97598,     0.97698,     0.97798,     0.97898,     0.97998,     0.98098,     0.98198,     0.98298,     0.98398,\n",
            "           0.98498,     0.98599,     0.98699,     0.98799,     0.98899,     0.98999,     0.99099,     0.99199,     0.99299,     0.99399,     0.99499,       0.996,       0.997,       0.998,       0.999,           1]), array([[    0.17896,     0.17896,     0.23883,     0.28259,     0.31627,     0.34115,     0.35473,      0.3723,     0.38834,     0.40884,     0.42007,     0.43164,     0.44772,     0.46004,     0.47129,     0.47502,     0.48277,     0.48806,      0.4947,     0.49718,     0.50757,     0.52238,     0.53067,\n",
            "            0.53213,     0.53461,     0.54318,     0.54909,     0.55234,     0.55961,     0.56784,     0.58393,     0.58586,     0.59042,     0.59457,      0.5968,     0.60035,     0.60111,     0.60188,     0.60264,     0.60369,     0.60482,     0.60798,     0.61626,     0.61888,     0.62572,     0.62776,\n",
            "            0.62967,     0.63319,     0.63425,     0.63532,     0.63656,     0.63783,     0.64426,     0.64928,     0.65077,      0.6549,     0.65763,      0.6598,     0.66166,     0.66249,     0.66331,     0.66414,     0.66504,     0.67191,     0.67305,     0.67419,     0.67533,     0.67977,     0.68074,\n",
            "             0.6817,     0.68284,     0.68502,     0.68798,     0.69038,     0.69144,      0.6925,     0.69365,     0.70492,     0.70589,     0.70685,     0.70781,     0.70878,     0.71315,     0.71486,     0.71656,     0.71798,     0.71937,     0.72075,     0.72186,     0.72298,     0.72409,     0.72544,\n",
            "            0.72709,     0.72873,     0.73081,     0.73292,     0.73267,     0.73238,      0.7321,     0.73181,     0.73152,       0.734,        0.74,     0.74069,     0.74138,     0.74206,     0.74275,     0.74344,     0.74412,     0.74379,     0.74335,     0.74291,     0.74532,     0.74962,     0.75195,\n",
            "            0.75287,     0.75379,      0.7547,     0.75562,     0.75709,     0.75886,     0.76064,      0.7625,     0.76436,       0.767,     0.77105,     0.77899,     0.77872,     0.77845,     0.77818,     0.77791,     0.77829,     0.77929,     0.78029,     0.78129,      0.7823,     0.78451,     0.78729,\n",
            "            0.78875,     0.79009,     0.79144,     0.79242,     0.79231,      0.7922,     0.79209,     0.79198,     0.79187,     0.79176,     0.79165,     0.79154,     0.79143,     0.79132,      0.7912,     0.79216,     0.79466,     0.79731,      0.8002,     0.80179,     0.80261,     0.80342,     0.80424,\n",
            "            0.80505,     0.80587,     0.80747,     0.81105,     0.81276,     0.81406,     0.81537,     0.81667,     0.81819,     0.81977,     0.82136,     0.82291,     0.82441,      0.8259,      0.8274,     0.83373,     0.83437,     0.83501,     0.83565,     0.83629,     0.83693,     0.83757,     0.83821,\n",
            "            0.83885,     0.84056,     0.84242,     0.84428,     0.85083,     0.85168,     0.85253,     0.85339,     0.85424,     0.85509,     0.85594,     0.85634,     0.85658,     0.85683,     0.85707,     0.85731,     0.85755,     0.85779,     0.85803,     0.85827,     0.85852,     0.85876,       0.859,\n",
            "            0.85924,     0.85948,     0.85972,     0.85996,     0.86021,     0.86045,     0.86069,     0.86093,     0.86117,     0.86141,     0.86165,      0.8619,     0.86248,     0.86392,     0.86536,      0.8668,     0.86803,     0.86787,     0.86772,     0.86756,      0.8674,     0.86724,     0.86711,\n",
            "            0.86705,       0.867,     0.86694,     0.86688,     0.86682,     0.86677,     0.86671,     0.86665,     0.86659,     0.86653,     0.86648,     0.86642,     0.86636,      0.8663,     0.86625,     0.86643,     0.86775,     0.86907,     0.87039,     0.87171,     0.87257,       0.873,     0.87343,\n",
            "            0.87386,     0.87429,     0.87473,     0.87516,     0.87559,     0.87602,     0.87646,     0.87689,     0.87732,     0.87775,     0.87818,     0.87862,     0.87911,      0.8796,     0.88008,     0.88057,     0.88106,     0.88154,     0.88203,     0.88252,       0.883,     0.88349,     0.88398,\n",
            "            0.88446,     0.88489,     0.88485,     0.88481,     0.88478,     0.88474,     0.88471,     0.88467,     0.88463,      0.8846,     0.88456,     0.88452,     0.88449,     0.88445,     0.88441,     0.88438,     0.88434,      0.8843,     0.88427,     0.88423,      0.8842,     0.88416,     0.88412,\n",
            "            0.88409,     0.88413,     0.88443,     0.88474,     0.88505,     0.88536,     0.88567,     0.88598,     0.88629,     0.88659,      0.8869,     0.88721,     0.88752,     0.88783,     0.88814,     0.88845,     0.88875,     0.88906,     0.88937,     0.88968,     0.88999,      0.8903,     0.89168,\n",
            "            0.89549,     0.89718,     0.89738,     0.89759,     0.89779,     0.89799,      0.8982,      0.8984,      0.8986,     0.89881,     0.89901,     0.89922,     0.89942,     0.89962,     0.89983,     0.90003,     0.90023,     0.90044,     0.90064,     0.90085,     0.90105,     0.90125,     0.90146,\n",
            "            0.90166,     0.90186,     0.90207,     0.90227,     0.90248,     0.90268,     0.90288,     0.90309,     0.90329,     0.90349,      0.9037,     0.90396,     0.90422,     0.90449,     0.90475,     0.90502,     0.90528,     0.90555,     0.90581,     0.90608,     0.90634,     0.90661,     0.90687,\n",
            "            0.90713,      0.9074,     0.90766,     0.90793,     0.90819,     0.90846,     0.90872,     0.90899,     0.90925,     0.90951,     0.90978,     0.91004,     0.91031,     0.91062,     0.91097,     0.91133,     0.91169,     0.91204,      0.9124,     0.91276,     0.91311,     0.91347,     0.91383,\n",
            "            0.91418,     0.91454,      0.9149,     0.91526,     0.91561,     0.91597,     0.91633,     0.91668,     0.91704,     0.91737,     0.91763,     0.91788,     0.91814,      0.9184,     0.91866,     0.91892,     0.91918,     0.91944,     0.91969,     0.91995,     0.92021,     0.92047,     0.92073,\n",
            "            0.92099,     0.92124,      0.9215,     0.92176,     0.92202,     0.92228,     0.92254,     0.92279,     0.92305,     0.92331,     0.92357,     0.92383,     0.92409,     0.92424,     0.92422,      0.9242,     0.92418,     0.92416,     0.92414,     0.92413,     0.92411,     0.92409,     0.92407,\n",
            "            0.92405,     0.92403,     0.92402,       0.924,     0.92398,     0.92396,     0.92394,     0.92392,      0.9239,     0.92389,     0.92387,     0.92385,     0.92383,     0.92381,     0.92379,     0.92378,     0.92376,     0.92374,     0.92372,      0.9237,     0.92368,     0.92367,     0.92433,\n",
            "            0.92511,     0.92588,     0.92665,     0.92743,      0.9282,     0.92897,     0.92974,     0.93052,     0.93104,     0.93145,     0.93186,     0.93226,     0.93267,     0.93307,     0.93348,     0.93389,     0.93429,      0.9347,     0.93511,     0.93551,     0.93592,     0.93632,     0.93673,\n",
            "            0.93714,     0.93754,     0.93795,     0.93911,     0.94035,     0.94159,     0.94283,     0.94406,      0.9453,     0.94759,     0.94988,     0.95217,     0.95522,     0.95853,     0.96135,      0.9636,     0.96584,       0.968,     0.96808,     0.96816,     0.96823,     0.96831,     0.96839,\n",
            "            0.96846,     0.96854,     0.96862,     0.96869,     0.96877,     0.96885,     0.96892,       0.969,     0.96908,     0.96915,     0.96923,     0.96931,     0.96938,     0.96946,     0.96954,     0.96962,     0.96969,     0.96977,     0.96985,     0.96992,        0.97,     0.97008,     0.97015,\n",
            "            0.97023,     0.97031,     0.97038,     0.97046,     0.97054,     0.97061,     0.97069,     0.97077,     0.97084,     0.97092,       0.971,     0.97107,     0.97115,     0.97123,      0.9713,     0.97138,     0.97146,     0.97153,     0.97161,     0.97169,     0.97177,     0.97184,     0.97192,\n",
            "              0.972,     0.97207,     0.97215,     0.97223,      0.9723,     0.97238,     0.97246,     0.97253,     0.97261,     0.97269,     0.97276,     0.97284,     0.97292,     0.97299,     0.97307,     0.97315,     0.97322,      0.9733,     0.97338,     0.97345,     0.97353,     0.97361,     0.97368,\n",
            "            0.97376,     0.97384,     0.97391,     0.97399,     0.97407,     0.97415,     0.97422,      0.9743,     0.97438,     0.97445,     0.97453,     0.97461,     0.97468,     0.97476,     0.97484,     0.97491,     0.97499,     0.97507,     0.97514,     0.97522,      0.9753,     0.97537,     0.97545,\n",
            "            0.97553,      0.9756,     0.97568,     0.97576,      0.9758,     0.97579,     0.97578,     0.97578,     0.97577,     0.97576,     0.97575,     0.97574,     0.97573,     0.97572,     0.97571,      0.9757,     0.97569,     0.97568,     0.97567,     0.97566,     0.97566,     0.97565,     0.97564,\n",
            "            0.97563,     0.97562,     0.97561,     0.97559,     0.97558,     0.97556,     0.97555,     0.97553,     0.97551,      0.9755,     0.97548,     0.97547,     0.97545,     0.97543,     0.97542,     0.97538,     0.97531,     0.97524,      0.9752,      0.9752,     0.97519,     0.97518,     0.97518,\n",
            "            0.97517,     0.97516,     0.97516,     0.97515,     0.97514,     0.97514,     0.97513,     0.97512,     0.97512,     0.97511,      0.9751,      0.9751,     0.97509,     0.97508,     0.97508,     0.97507,     0.97506,     0.97506,     0.97505,     0.97504,     0.97504,     0.97503,     0.97502,\n",
            "            0.97502,     0.97501,       0.975,     0.97511,     0.97545,     0.97579,     0.97613,     0.97647,     0.97681,     0.97715,     0.97749,     0.97783,     0.97816,      0.9785,     0.97884,     0.97918,     0.97952,     0.97986,      0.9802,     0.98054,     0.98088,     0.98122,     0.98156,\n",
            "             0.9819,     0.98224,     0.98258,     0.98292,     0.98316,     0.98305,     0.98303,     0.98301,     0.98299,     0.98297,     0.98295,     0.98293,     0.98291,     0.98276,      0.9827,     0.98265,      0.9826,     0.98258,     0.98256,     0.98254,     0.98252,      0.9825,     0.98248,\n",
            "            0.98246,     0.98245,     0.98244,     0.98243,     0.98242,     0.98241,     0.98241,      0.9824,     0.98239,     0.98238,     0.98237,     0.98237,     0.98236,     0.98235,     0.98234,     0.98233,     0.98233,     0.98232,     0.98231,      0.9823,     0.98223,     0.98215,     0.98181,\n",
            "            0.98172,     0.98164,     0.98156,     0.98148,     0.98126,     0.98115,      0.9809,      0.9808,     0.98067,     0.98045,     0.98023,      0.9801,     0.97979,      0.9796,     0.97957,     0.97955,     0.97952,      0.9795,     0.97948,     0.97945,     0.97943,      0.9794,     0.97938,\n",
            "            0.97925,     0.97906,     0.99099,           1,           1,           1,           1,           1,           1,           1,           1,           1,           1,           1,           1,           1,           1,           1,           1,           1,           1,           1,           1,\n",
            "                  1,           1,           1,           1,           1,           1,           1,           1,           1,           1,           1,           1,           1,           1,           1,           1,           1,           1,           1,           1,           1,           1,           1,\n",
            "                  1,           1,           1,           1,           1,           1,           1,           1,           1,           1,           1,           1,           1,           1,           1,           1,           1,           1,           1,           1,           1,           1,           1,\n",
            "                  1,           1,           1,           1,           1,           1,           1,           1,           1,           1,           1,           1,           1,           1,           1,           1,           1,           1,           1,           1,           1,           1,           1,\n",
            "                  1,           1,           1,           1,           1,           1,           1,           1,           1,           1,           1,           1,           1,           1,           1,           1,           1,           1,           1,           1,           1,           1,           1,\n",
            "                  1,           1,           1,           1,           1,           1,           1,           1,           1,           1,           1,           1,           1,           1,           1,           1,           1,           1,           1,           1,           1,           1,           1,\n",
            "                  1,           1,           1,           1,           1,           1,           1,           1,           1,           1,           1,           1,           1,           1,           1,           1,           1,           1,           1,           1,           1,           1,           1,\n",
            "                  1,           1,           1,           1,           1,           1,           1,           1,           1,           1,           1,           1,           1,           1,           1,           1,           1,           1,           1,           1,           1,           1,           1,\n",
            "                  1,           1,           1,           1,           1,           1,           1,           1,           1,           1,           1,           1,           1,           1,           1,           1,           1,           1,           1,           1,           1,           1,           1,\n",
            "                  1,           1,           1,           1,           1,           1,           1,           1,           1,           1,           1,           1,           1,           1,           1,           1,           1,           1,           1,           1,           1,           1,           1,\n",
            "                  1,           1,           1,           1,           1,           1,           1,           1,           1,           1,           1]]), 'Confidence', 'Precision'], [array([          0,    0.001001,    0.002002,    0.003003,    0.004004,    0.005005,    0.006006,    0.007007,    0.008008,    0.009009,     0.01001,    0.011011,    0.012012,    0.013013,    0.014014,    0.015015,    0.016016,    0.017017,    0.018018,    0.019019,     0.02002,    0.021021,    0.022022,    0.023023,\n",
            "          0.024024,    0.025025,    0.026026,    0.027027,    0.028028,    0.029029,     0.03003,    0.031031,    0.032032,    0.033033,    0.034034,    0.035035,    0.036036,    0.037037,    0.038038,    0.039039,     0.04004,    0.041041,    0.042042,    0.043043,    0.044044,    0.045045,    0.046046,    0.047047,\n",
            "          0.048048,    0.049049,     0.05005,    0.051051,    0.052052,    0.053053,    0.054054,    0.055055,    0.056056,    0.057057,    0.058058,    0.059059,     0.06006,    0.061061,    0.062062,    0.063063,    0.064064,    0.065065,    0.066066,    0.067067,    0.068068,    0.069069,     0.07007,    0.071071,\n",
            "          0.072072,    0.073073,    0.074074,    0.075075,    0.076076,    0.077077,    0.078078,    0.079079,     0.08008,    0.081081,    0.082082,    0.083083,    0.084084,    0.085085,    0.086086,    0.087087,    0.088088,    0.089089,     0.09009,    0.091091,    0.092092,    0.093093,    0.094094,    0.095095,\n",
            "          0.096096,    0.097097,    0.098098,    0.099099,      0.1001,      0.1011,      0.1021,      0.1031,      0.1041,     0.10511,     0.10611,     0.10711,     0.10811,     0.10911,     0.11011,     0.11111,     0.11211,     0.11311,     0.11411,     0.11512,     0.11612,     0.11712,     0.11812,     0.11912,\n",
            "           0.12012,     0.12112,     0.12212,     0.12312,     0.12412,     0.12513,     0.12613,     0.12713,     0.12813,     0.12913,     0.13013,     0.13113,     0.13213,     0.13313,     0.13413,     0.13514,     0.13614,     0.13714,     0.13814,     0.13914,     0.14014,     0.14114,     0.14214,     0.14314,\n",
            "           0.14414,     0.14515,     0.14615,     0.14715,     0.14815,     0.14915,     0.15015,     0.15115,     0.15215,     0.15315,     0.15415,     0.15516,     0.15616,     0.15716,     0.15816,     0.15916,     0.16016,     0.16116,     0.16216,     0.16316,     0.16416,     0.16517,     0.16617,     0.16717,\n",
            "           0.16817,     0.16917,     0.17017,     0.17117,     0.17217,     0.17317,     0.17417,     0.17518,     0.17618,     0.17718,     0.17818,     0.17918,     0.18018,     0.18118,     0.18218,     0.18318,     0.18418,     0.18519,     0.18619,     0.18719,     0.18819,     0.18919,     0.19019,     0.19119,\n",
            "           0.19219,     0.19319,     0.19419,      0.1952,      0.1962,      0.1972,      0.1982,      0.1992,      0.2002,      0.2012,      0.2022,      0.2032,      0.2042,     0.20521,     0.20621,     0.20721,     0.20821,     0.20921,     0.21021,     0.21121,     0.21221,     0.21321,     0.21421,     0.21522,\n",
            "           0.21622,     0.21722,     0.21822,     0.21922,     0.22022,     0.22122,     0.22222,     0.22322,     0.22422,     0.22523,     0.22623,     0.22723,     0.22823,     0.22923,     0.23023,     0.23123,     0.23223,     0.23323,     0.23423,     0.23524,     0.23624,     0.23724,     0.23824,     0.23924,\n",
            "           0.24024,     0.24124,     0.24224,     0.24324,     0.24424,     0.24525,     0.24625,     0.24725,     0.24825,     0.24925,     0.25025,     0.25125,     0.25225,     0.25325,     0.25425,     0.25526,     0.25626,     0.25726,     0.25826,     0.25926,     0.26026,     0.26126,     0.26226,     0.26326,\n",
            "           0.26426,     0.26527,     0.26627,     0.26727,     0.26827,     0.26927,     0.27027,     0.27127,     0.27227,     0.27327,     0.27427,     0.27528,     0.27628,     0.27728,     0.27828,     0.27928,     0.28028,     0.28128,     0.28228,     0.28328,     0.28428,     0.28529,     0.28629,     0.28729,\n",
            "           0.28829,     0.28929,     0.29029,     0.29129,     0.29229,     0.29329,     0.29429,      0.2953,      0.2963,      0.2973,      0.2983,      0.2993,      0.3003,      0.3013,      0.3023,      0.3033,      0.3043,     0.30531,     0.30631,     0.30731,     0.30831,     0.30931,     0.31031,     0.31131,\n",
            "           0.31231,     0.31331,     0.31431,     0.31532,     0.31632,     0.31732,     0.31832,     0.31932,     0.32032,     0.32132,     0.32232,     0.32332,     0.32432,     0.32533,     0.32633,     0.32733,     0.32833,     0.32933,     0.33033,     0.33133,     0.33233,     0.33333,     0.33433,     0.33534,\n",
            "           0.33634,     0.33734,     0.33834,     0.33934,     0.34034,     0.34134,     0.34234,     0.34334,     0.34434,     0.34535,     0.34635,     0.34735,     0.34835,     0.34935,     0.35035,     0.35135,     0.35235,     0.35335,     0.35435,     0.35536,     0.35636,     0.35736,     0.35836,     0.35936,\n",
            "           0.36036,     0.36136,     0.36236,     0.36336,     0.36436,     0.36537,     0.36637,     0.36737,     0.36837,     0.36937,     0.37037,     0.37137,     0.37237,     0.37337,     0.37437,     0.37538,     0.37638,     0.37738,     0.37838,     0.37938,     0.38038,     0.38138,     0.38238,     0.38338,\n",
            "           0.38438,     0.38539,     0.38639,     0.38739,     0.38839,     0.38939,     0.39039,     0.39139,     0.39239,     0.39339,     0.39439,      0.3954,      0.3964,      0.3974,      0.3984,      0.3994,      0.4004,      0.4014,      0.4024,      0.4034,      0.4044,     0.40541,     0.40641,     0.40741,\n",
            "           0.40841,     0.40941,     0.41041,     0.41141,     0.41241,     0.41341,     0.41441,     0.41542,     0.41642,     0.41742,     0.41842,     0.41942,     0.42042,     0.42142,     0.42242,     0.42342,     0.42442,     0.42543,     0.42643,     0.42743,     0.42843,     0.42943,     0.43043,     0.43143,\n",
            "           0.43243,     0.43343,     0.43443,     0.43544,     0.43644,     0.43744,     0.43844,     0.43944,     0.44044,     0.44144,     0.44244,     0.44344,     0.44444,     0.44545,     0.44645,     0.44745,     0.44845,     0.44945,     0.45045,     0.45145,     0.45245,     0.45345,     0.45445,     0.45546,\n",
            "           0.45646,     0.45746,     0.45846,     0.45946,     0.46046,     0.46146,     0.46246,     0.46346,     0.46446,     0.46547,     0.46647,     0.46747,     0.46847,     0.46947,     0.47047,     0.47147,     0.47247,     0.47347,     0.47447,     0.47548,     0.47648,     0.47748,     0.47848,     0.47948,\n",
            "           0.48048,     0.48148,     0.48248,     0.48348,     0.48448,     0.48549,     0.48649,     0.48749,     0.48849,     0.48949,     0.49049,     0.49149,     0.49249,     0.49349,     0.49449,      0.4955,      0.4965,      0.4975,      0.4985,      0.4995,      0.5005,      0.5015,      0.5025,      0.5035,\n",
            "            0.5045,     0.50551,     0.50651,     0.50751,     0.50851,     0.50951,     0.51051,     0.51151,     0.51251,     0.51351,     0.51451,     0.51552,     0.51652,     0.51752,     0.51852,     0.51952,     0.52052,     0.52152,     0.52252,     0.52352,     0.52452,     0.52553,     0.52653,     0.52753,\n",
            "           0.52853,     0.52953,     0.53053,     0.53153,     0.53253,     0.53353,     0.53453,     0.53554,     0.53654,     0.53754,     0.53854,     0.53954,     0.54054,     0.54154,     0.54254,     0.54354,     0.54454,     0.54555,     0.54655,     0.54755,     0.54855,     0.54955,     0.55055,     0.55155,\n",
            "           0.55255,     0.55355,     0.55455,     0.55556,     0.55656,     0.55756,     0.55856,     0.55956,     0.56056,     0.56156,     0.56256,     0.56356,     0.56456,     0.56557,     0.56657,     0.56757,     0.56857,     0.56957,     0.57057,     0.57157,     0.57257,     0.57357,     0.57457,     0.57558,\n",
            "           0.57658,     0.57758,     0.57858,     0.57958,     0.58058,     0.58158,     0.58258,     0.58358,     0.58458,     0.58559,     0.58659,     0.58759,     0.58859,     0.58959,     0.59059,     0.59159,     0.59259,     0.59359,     0.59459,      0.5956,      0.5966,      0.5976,      0.5986,      0.5996,\n",
            "            0.6006,      0.6016,      0.6026,      0.6036,      0.6046,     0.60561,     0.60661,     0.60761,     0.60861,     0.60961,     0.61061,     0.61161,     0.61261,     0.61361,     0.61461,     0.61562,     0.61662,     0.61762,     0.61862,     0.61962,     0.62062,     0.62162,     0.62262,     0.62362,\n",
            "           0.62462,     0.62563,     0.62663,     0.62763,     0.62863,     0.62963,     0.63063,     0.63163,     0.63263,     0.63363,     0.63463,     0.63564,     0.63664,     0.63764,     0.63864,     0.63964,     0.64064,     0.64164,     0.64264,     0.64364,     0.64464,     0.64565,     0.64665,     0.64765,\n",
            "           0.64865,     0.64965,     0.65065,     0.65165,     0.65265,     0.65365,     0.65465,     0.65566,     0.65666,     0.65766,     0.65866,     0.65966,     0.66066,     0.66166,     0.66266,     0.66366,     0.66466,     0.66567,     0.66667,     0.66767,     0.66867,     0.66967,     0.67067,     0.67167,\n",
            "           0.67267,     0.67367,     0.67467,     0.67568,     0.67668,     0.67768,     0.67868,     0.67968,     0.68068,     0.68168,     0.68268,     0.68368,     0.68468,     0.68569,     0.68669,     0.68769,     0.68869,     0.68969,     0.69069,     0.69169,     0.69269,     0.69369,     0.69469,      0.6957,\n",
            "            0.6967,      0.6977,      0.6987,      0.6997,      0.7007,      0.7017,      0.7027,      0.7037,      0.7047,     0.70571,     0.70671,     0.70771,     0.70871,     0.70971,     0.71071,     0.71171,     0.71271,     0.71371,     0.71471,     0.71572,     0.71672,     0.71772,     0.71872,     0.71972,\n",
            "           0.72072,     0.72172,     0.72272,     0.72372,     0.72472,     0.72573,     0.72673,     0.72773,     0.72873,     0.72973,     0.73073,     0.73173,     0.73273,     0.73373,     0.73473,     0.73574,     0.73674,     0.73774,     0.73874,     0.73974,     0.74074,     0.74174,     0.74274,     0.74374,\n",
            "           0.74474,     0.74575,     0.74675,     0.74775,     0.74875,     0.74975,     0.75075,     0.75175,     0.75275,     0.75375,     0.75475,     0.75576,     0.75676,     0.75776,     0.75876,     0.75976,     0.76076,     0.76176,     0.76276,     0.76376,     0.76476,     0.76577,     0.76677,     0.76777,\n",
            "           0.76877,     0.76977,     0.77077,     0.77177,     0.77277,     0.77377,     0.77477,     0.77578,     0.77678,     0.77778,     0.77878,     0.77978,     0.78078,     0.78178,     0.78278,     0.78378,     0.78478,     0.78579,     0.78679,     0.78779,     0.78879,     0.78979,     0.79079,     0.79179,\n",
            "           0.79279,     0.79379,     0.79479,      0.7958,      0.7968,      0.7978,      0.7988,      0.7998,      0.8008,      0.8018,      0.8028,      0.8038,      0.8048,     0.80581,     0.80681,     0.80781,     0.80881,     0.80981,     0.81081,     0.81181,     0.81281,     0.81381,     0.81481,     0.81582,\n",
            "           0.81682,     0.81782,     0.81882,     0.81982,     0.82082,     0.82182,     0.82282,     0.82382,     0.82482,     0.82583,     0.82683,     0.82783,     0.82883,     0.82983,     0.83083,     0.83183,     0.83283,     0.83383,     0.83483,     0.83584,     0.83684,     0.83784,     0.83884,     0.83984,\n",
            "           0.84084,     0.84184,     0.84284,     0.84384,     0.84484,     0.84585,     0.84685,     0.84785,     0.84885,     0.84985,     0.85085,     0.85185,     0.85285,     0.85385,     0.85485,     0.85586,     0.85686,     0.85786,     0.85886,     0.85986,     0.86086,     0.86186,     0.86286,     0.86386,\n",
            "           0.86486,     0.86587,     0.86687,     0.86787,     0.86887,     0.86987,     0.87087,     0.87187,     0.87287,     0.87387,     0.87487,     0.87588,     0.87688,     0.87788,     0.87888,     0.87988,     0.88088,     0.88188,     0.88288,     0.88388,     0.88488,     0.88589,     0.88689,     0.88789,\n",
            "           0.88889,     0.88989,     0.89089,     0.89189,     0.89289,     0.89389,     0.89489,      0.8959,      0.8969,      0.8979,      0.8989,      0.8999,      0.9009,      0.9019,      0.9029,      0.9039,      0.9049,     0.90591,     0.90691,     0.90791,     0.90891,     0.90991,     0.91091,     0.91191,\n",
            "           0.91291,     0.91391,     0.91491,     0.91592,     0.91692,     0.91792,     0.91892,     0.91992,     0.92092,     0.92192,     0.92292,     0.92392,     0.92492,     0.92593,     0.92693,     0.92793,     0.92893,     0.92993,     0.93093,     0.93193,     0.93293,     0.93393,     0.93493,     0.93594,\n",
            "           0.93694,     0.93794,     0.93894,     0.93994,     0.94094,     0.94194,     0.94294,     0.94394,     0.94494,     0.94595,     0.94695,     0.94795,     0.94895,     0.94995,     0.95095,     0.95195,     0.95295,     0.95395,     0.95495,     0.95596,     0.95696,     0.95796,     0.95896,     0.95996,\n",
            "           0.96096,     0.96196,     0.96296,     0.96396,     0.96496,     0.96597,     0.96697,     0.96797,     0.96897,     0.96997,     0.97097,     0.97197,     0.97297,     0.97397,     0.97497,     0.97598,     0.97698,     0.97798,     0.97898,     0.97998,     0.98098,     0.98198,     0.98298,     0.98398,\n",
            "           0.98498,     0.98599,     0.98699,     0.98799,     0.98899,     0.98999,     0.99099,     0.99199,     0.99299,     0.99399,     0.99499,       0.996,       0.997,       0.998,       0.999,           1]), array([[          1,           1,           1,           1,           1,     0.99237,     0.99237,     0.99237,     0.99237,     0.99237,     0.99237,     0.99237,     0.99237,     0.99237,     0.99237,     0.98774,     0.98473,     0.98473,     0.98473,     0.98473,     0.98473,     0.98473,     0.98473,\n",
            "            0.98473,     0.98473,     0.98473,     0.98473,     0.98473,     0.98473,     0.98473,     0.98473,     0.98473,     0.98473,     0.98473,     0.98473,     0.98473,     0.98473,     0.98473,     0.98473,     0.98473,     0.98473,     0.98473,     0.98473,     0.98473,     0.98473,     0.98473,\n",
            "            0.98473,     0.98473,     0.98473,     0.98473,     0.98473,     0.98473,     0.98473,     0.98473,     0.98473,     0.98473,     0.98473,     0.98473,     0.98473,     0.98473,     0.98473,     0.98473,     0.98473,     0.98473,     0.98473,     0.98473,     0.98473,     0.98473,     0.98473,\n",
            "            0.98473,     0.98473,     0.98473,     0.98473,     0.98473,     0.98473,     0.98473,     0.98473,     0.98473,     0.98473,     0.98473,     0.98473,     0.98473,     0.98473,     0.98473,     0.98473,     0.98473,     0.98473,     0.98473,     0.98473,     0.98473,     0.98473,     0.98473,\n",
            "            0.98473,     0.98473,     0.98473,     0.98473,     0.98332,     0.98188,     0.98044,       0.979,     0.97756,      0.9771,      0.9771,      0.9771,      0.9771,      0.9771,      0.9771,      0.9771,      0.9771,     0.97506,     0.97282,     0.97058,     0.96947,     0.96947,     0.96947,\n",
            "            0.96947,     0.96947,     0.96947,     0.96947,     0.96947,     0.96947,     0.96947,     0.96947,     0.96947,     0.96947,     0.96947,     0.96861,      0.9671,     0.96559,     0.96408,     0.96257,     0.96183,     0.96183,     0.96183,     0.96183,     0.96183,     0.96183,     0.96183,\n",
            "            0.96183,     0.96183,     0.96183,     0.96167,     0.96103,     0.96038,     0.95974,     0.95909,     0.95845,      0.9578,     0.95716,     0.95651,     0.95587,     0.95522,     0.95458,      0.9542,      0.9542,      0.9542,      0.9542,      0.9542,      0.9542,      0.9542,      0.9542,\n",
            "             0.9542,      0.9542,      0.9542,      0.9542,      0.9542,      0.9542,      0.9542,      0.9542,      0.9542,      0.9542,      0.9542,      0.9542,      0.9542,      0.9542,      0.9542,      0.9542,      0.9542,      0.9542,      0.9542,      0.9542,      0.9542,      0.9542,      0.9542,\n",
            "             0.9542,      0.9542,      0.9542,      0.9542,      0.9542,      0.9542,      0.9542,      0.9542,      0.9542,      0.9542,      0.9542,      0.9542,      0.9542,      0.9542,      0.9542,      0.9542,      0.9542,      0.9542,      0.9542,      0.9542,      0.9542,      0.9542,      0.9542,\n",
            "             0.9542,      0.9542,      0.9542,      0.9542,      0.9542,      0.9542,      0.9542,      0.9542,      0.9542,      0.9542,      0.9542,      0.9542,      0.9542,      0.9542,      0.9542,      0.9542,     0.95402,      0.9527,     0.95138,     0.95006,     0.94874,     0.94742,      0.9464,\n",
            "            0.94593,     0.94545,     0.94498,     0.94451,     0.94404,     0.94357,      0.9431,     0.94262,     0.94215,     0.94168,     0.94121,     0.94074,     0.94027,     0.93979,     0.93932,     0.93893,     0.93893,     0.93893,     0.93893,     0.93893,     0.93893,     0.93893,     0.93893,\n",
            "            0.93893,     0.93893,     0.93893,     0.93893,     0.93893,     0.93893,     0.93893,     0.93893,     0.93893,     0.93893,     0.93893,     0.93893,     0.93893,     0.93893,     0.93893,     0.93893,     0.93893,     0.93893,     0.93893,     0.93893,     0.93893,     0.93893,     0.93893,\n",
            "            0.93893,     0.93889,     0.93856,     0.93822,     0.93789,     0.93756,     0.93722,     0.93689,     0.93656,     0.93622,     0.93589,     0.93556,     0.93522,     0.93489,     0.93456,     0.93422,     0.93389,     0.93356,     0.93322,     0.93289,     0.93256,     0.93222,     0.93189,\n",
            "            0.93156,      0.9313,      0.9313,      0.9313,      0.9313,      0.9313,      0.9313,      0.9313,      0.9313,      0.9313,      0.9313,      0.9313,      0.9313,      0.9313,      0.9313,      0.9313,      0.9313,      0.9313,      0.9313,      0.9313,      0.9313,      0.9313,      0.9313,\n",
            "             0.9313,      0.9313,      0.9313,      0.9313,      0.9313,      0.9313,      0.9313,      0.9313,      0.9313,      0.9313,      0.9313,      0.9313,      0.9313,      0.9313,      0.9313,      0.9313,      0.9313,      0.9313,      0.9313,      0.9313,      0.9313,      0.9313,      0.9313,\n",
            "             0.9313,      0.9313,      0.9313,      0.9313,      0.9313,      0.9313,      0.9313,      0.9313,      0.9313,      0.9313,      0.9313,      0.9313,      0.9313,      0.9313,      0.9313,      0.9313,      0.9313,      0.9313,      0.9313,      0.9313,      0.9313,      0.9313,      0.9313,\n",
            "             0.9313,      0.9313,      0.9313,      0.9313,      0.9313,      0.9313,      0.9313,      0.9313,      0.9313,      0.9313,      0.9313,      0.9313,      0.9313,      0.9313,      0.9313,      0.9313,      0.9313,      0.9313,      0.9313,      0.9313,      0.9313,      0.9313,      0.9313,\n",
            "             0.9313,      0.9313,      0.9313,      0.9313,      0.9313,      0.9313,      0.9313,      0.9313,      0.9313,      0.9313,      0.9313,      0.9313,      0.9313,      0.9313,      0.9313,      0.9313,      0.9313,      0.9313,      0.9313,      0.9313,      0.9313,      0.9313,      0.9313,\n",
            "             0.9313,      0.9313,      0.9313,      0.9313,      0.9313,      0.9313,      0.9313,      0.9313,      0.9313,      0.9313,      0.9313,      0.9313,      0.9313,      0.9312,     0.93096,     0.93072,     0.93048,     0.93023,     0.92999,     0.92975,     0.92951,     0.92926,     0.92902,\n",
            "            0.92878,     0.92854,      0.9283,     0.92805,     0.92781,     0.92757,     0.92733,     0.92709,     0.92684,      0.9266,     0.92636,     0.92612,     0.92588,     0.92563,     0.92539,     0.92515,     0.92491,     0.92466,     0.92442,     0.92418,     0.92394,      0.9237,     0.92366,\n",
            "            0.92366,     0.92366,     0.92366,     0.92366,     0.92366,     0.92366,     0.92366,     0.92366,     0.92366,     0.92366,     0.92366,     0.92366,     0.92366,     0.92366,     0.92366,     0.92366,     0.92366,     0.92366,     0.92366,     0.92366,     0.92366,     0.92366,     0.92366,\n",
            "            0.92366,     0.92366,     0.92366,     0.92366,     0.92366,     0.92366,     0.92366,     0.92366,     0.92366,     0.92366,     0.92366,     0.92366,     0.92366,     0.92366,     0.92366,     0.92366,     0.92366,     0.92366,     0.92366,     0.92366,     0.92366,     0.92366,     0.92366,\n",
            "            0.92366,     0.92366,     0.92366,     0.92366,     0.92366,     0.92366,     0.92366,     0.92366,     0.92366,     0.92366,     0.92366,     0.92366,     0.92366,     0.92366,     0.92366,     0.92366,     0.92366,     0.92366,     0.92366,     0.92366,     0.92366,     0.92366,     0.92366,\n",
            "            0.92366,     0.92366,     0.92366,     0.92366,     0.92366,     0.92366,     0.92366,     0.92366,     0.92366,     0.92366,     0.92366,     0.92366,     0.92366,     0.92366,     0.92366,     0.92366,     0.92366,     0.92366,     0.92366,     0.92366,     0.92366,     0.92366,     0.92366,\n",
            "            0.92366,     0.92366,     0.92366,     0.92366,     0.92366,     0.92366,     0.92366,     0.92366,     0.92366,     0.92366,     0.92366,     0.92366,     0.92366,     0.92366,     0.92366,     0.92366,     0.92366,     0.92366,     0.92366,     0.92366,     0.92366,     0.92366,     0.92366,\n",
            "            0.92366,     0.92366,     0.92366,     0.92366,     0.92366,     0.92366,     0.92366,     0.92366,     0.92366,     0.92366,     0.92366,     0.92366,     0.92366,     0.92366,     0.92366,     0.92366,     0.92366,     0.92366,     0.92366,     0.92366,     0.92366,     0.92366,     0.92366,\n",
            "            0.92366,     0.92366,     0.92366,     0.92366,     0.92353,     0.92318,     0.92282,     0.92246,      0.9221,     0.92174,     0.92138,     0.92102,     0.92067,     0.92031,     0.91995,     0.91959,     0.91923,     0.91887,     0.91851,     0.91815,      0.9178,     0.91744,     0.91708,\n",
            "            0.91672,     0.91636,     0.91598,     0.91538,     0.91478,     0.91417,     0.91357,     0.91297,     0.91236,     0.91176,     0.91116,     0.91055,     0.90995,     0.90935,     0.90874,     0.90728,     0.90465,     0.90201,     0.90063,     0.90039,     0.90015,      0.8999,     0.89966,\n",
            "            0.89941,     0.89917,     0.89892,     0.89868,     0.89843,     0.89819,     0.89794,      0.8977,     0.89746,     0.89721,     0.89697,     0.89672,     0.89648,     0.89623,     0.89599,     0.89574,      0.8955,     0.89525,     0.89501,     0.89477,     0.89452,     0.89428,     0.89403,\n",
            "            0.89379,     0.89354,      0.8933,     0.89313,     0.89313,     0.89313,     0.89313,     0.89313,     0.89313,     0.89313,     0.89313,     0.89313,     0.89313,     0.89313,     0.89313,     0.89313,     0.89313,     0.89313,     0.89313,     0.89313,     0.89313,     0.89313,     0.89313,\n",
            "            0.89313,     0.89313,     0.89313,     0.89313,     0.89143,     0.88521,     0.88419,     0.88317,     0.88215,     0.88113,     0.88011,     0.87909,     0.87807,     0.87009,     0.86729,     0.86448,     0.86225,     0.86119,     0.86014,     0.85908,     0.85803,     0.85697,     0.85591,\n",
            "            0.85492,     0.85452,     0.85413,     0.85373,     0.85333,     0.85293,     0.85253,     0.85213,     0.85174,     0.85134,     0.85094,     0.85054,     0.85014,     0.84974,     0.84935,     0.84895,     0.84855,     0.84815,     0.84775,     0.84735,     0.84386,     0.84015,      0.8242,\n",
            "            0.82011,     0.81614,     0.81272,     0.80929,     0.79962,     0.79477,     0.78409,     0.77979,     0.77465,     0.76584,     0.75717,     0.75186,     0.74006,     0.73331,     0.73203,     0.73117,     0.73031,     0.72946,      0.7286,     0.72774,     0.72688,     0.72603,     0.72507,\n",
            "            0.72044,      0.7137,     0.70992,     0.70919,     0.70837,     0.70756,     0.70674,     0.70593,     0.70511,      0.7043,     0.70348,     0.70267,     0.69925,     0.69064,     0.68258,     0.67045,     0.66721,     0.66122,     0.64743,     0.64382,     0.63259,      0.6261,     0.61502,\n",
            "            0.61111,      0.6018,     0.59609,     0.58754,     0.58114,     0.57135,     0.56908,     0.56681,     0.56367,     0.55471,     0.53965,     0.53432,     0.51601,      0.5084,     0.50234,     0.48768,     0.47767,     0.47174,     0.46882,      0.4659,     0.44332,     0.43437,     0.42646,\n",
            "            0.42339,     0.42033,     0.41138,     0.41021,     0.40904,     0.40787,      0.4067,     0.40553,     0.39522,     0.38162,     0.36601,     0.36418,     0.36235,     0.36051,     0.35109,     0.34951,     0.34792,     0.34634,     0.34475,     0.34232,     0.33685,     0.33165,     0.32699,\n",
            "            0.32328,     0.31812,     0.30983,     0.29953,     0.29179,     0.28048,     0.27781,     0.27514,     0.27303,       0.271,     0.26897,     0.26709,     0.26636,     0.26563,      0.2649,     0.26417,     0.26344,     0.26272,     0.26199,     0.26126,     0.26053,      0.2598,     0.25643,\n",
            "            0.25091,     0.23633,     0.23195,     0.22782,     0.22423,     0.21966,     0.20281,     0.19013,     0.17787,     0.17437,     0.17279,      0.1712,     0.16962,     0.16804,     0.16424,     0.16028,     0.15043,     0.14683,     0.13939,     0.12682,     0.12134,     0.11597,     0.10889,\n",
            "            0.10495,     0.10235,    0.099756,    0.096468,    0.093006,    0.091055,    0.090135,    0.089214,    0.088293,    0.087373,    0.086452,    0.085531,     0.08461,    0.082641,    0.078269,    0.076099,    0.075675,    0.075251,    0.074827,    0.074403,    0.073979,    0.073555,     0.07313,\n",
            "           0.072706,    0.072282,    0.071858,    0.071434,     0.07101,    0.070586,    0.070162,    0.069738,    0.069313,    0.068889,    0.063871,    0.058963,    0.055846,    0.053041,    0.051299,    0.049556,    0.047814,    0.046072,    0.044908,     0.04385,    0.042792,    0.041734,    0.040676,\n",
            "           0.039618,    0.038561,    0.037171,    0.035587,    0.034002,    0.032418,    0.030833,    0.028043,    0.024974,    0.022693,    0.022054,    0.021415,    0.020775,    0.020136,    0.019497,    0.018857,    0.018218,    0.017578,    0.016939,      0.0163,     0.01566,    0.015104,     0.01468,\n",
            "           0.014257,    0.013833,     0.01341,    0.012986,    0.012562,    0.012139,    0.011715,    0.011292,    0.010868,    0.010444,    0.010021,   0.0095971,   0.0091735,   0.0087499,   0.0083263,   0.0079027,           0,           0,           0,           0,           0,           0,           0,\n",
            "                  0,           0,           0,           0,           0,           0,           0,           0,           0,           0,           0,           0,           0,           0,           0,           0,           0,           0,           0,           0,           0,           0,           0,\n",
            "                  0,           0,           0,           0,           0,           0,           0,           0,           0,           0,           0]]), 'Confidence', 'Recall']]\n",
            "fitness: np.float64(0.7107807561658767)\n",
            "keys: ['metrics/precision(B)', 'metrics/recall(B)', 'metrics/mAP50(B)', 'metrics/mAP50-95(B)']\n",
            "maps: array([    0.68141])\n",
            "names: {0: 'Defect'}\n",
            "plot: True\n",
            "results_dict: {'metrics/precision(B)': np.float64(0.9731469809639168), 'metrics/recall(B)': np.float64(0.9236641221374046), 'metrics/mAP50(B)': np.float64(0.9751422905744513), 'metrics/mAP50-95(B)': np.float64(0.6814072523427017), 'fitness': np.float64(0.7107807561658767)}\n",
            "save_dir: PosixPath('runs/detect/val2')\n",
            "speed: {'preprocess': 0.2056400388937618, 'inference': 8.353552305541395, 'loss': 0.0017572388666546128, 'postprocess': 2.299669705573453}\n",
            "task: 'detect'\n"
          ]
        }
      ]
    },
    {
      "cell_type": "code",
      "source": [
        "model_path = '/content/yolov5/runs/detect/train4/weights/best.pt'\n",
        "\n",
        "# Evaluate the model\n",
        "model = YOLO(model_path)\n",
        "results = model.val(data=data_yaml_path)"
      ],
      "metadata": {
        "colab": {
          "base_uri": "https://localhost:8080/"
        },
        "id": "yoIxF9gFl9vT",
        "outputId": "a5f46c99-9c8a-4617-eb47-3e33cc870019"
      },
      "execution_count": null,
      "outputs": [
        {
          "output_type": "stream",
          "name": "stdout",
          "text": [
            "Ultralytics 8.3.94 🚀 Python-3.11.11 torch-2.6.0+cu124 CUDA:0 (Tesla T4, 15095MiB)\n",
            "Model summary (fused): 72 layers, 11,125,971 parameters, 0 gradients, 28.4 GFLOPs\n"
          ]
        },
        {
          "output_type": "stream",
          "name": "stderr",
          "text": [
            "\u001b[34m\u001b[1mval: \u001b[0mScanning /content/drive/MyDrive/New_shoe/Data-defect/Data-defect/val/labels.cache... 180 images, 92 backgrounds, 0 corrupt: 100%|██████████| 180/180 [00:00<?, ?it/s]\n",
            "                 Class     Images  Instances      Box(P          R      mAP50  mAP50-95): 100%|██████████| 12/12 [00:38<00:00,  3.20s/it]\n"
          ]
        },
        {
          "output_type": "stream",
          "name": "stdout",
          "text": [
            "                   all        180        116      0.938      0.908      0.949      0.628\n",
            "Speed: 0.2ms preprocess, 10.1ms inference, 0.0ms loss, 2.2ms postprocess per image\n",
            "Results saved to \u001b[1mruns/detect/val\u001b[0m\n"
          ]
        }
      ]
    },
    {
      "cell_type": "code",
      "execution_count": null,
      "metadata": {
        "id": "zEXs0MiAl98P",
        "colab": {
          "base_uri": "https://localhost:8080/",
          "height": 17
        },
        "outputId": "21480c37-f7a3-4bb8-f6a1-ac2e029dc4c0"
      },
      "outputs": [
        {
          "output_type": "display_data",
          "data": {
            "text/plain": [
              "<IPython.core.display.Javascript object>"
            ],
            "application/javascript": [
              "\n",
              "    async function download(id, filename, size) {\n",
              "      if (!google.colab.kernel.accessAllowed) {\n",
              "        return;\n",
              "      }\n",
              "      const div = document.createElement('div');\n",
              "      const label = document.createElement('label');\n",
              "      label.textContent = `Downloading \"${filename}\": `;\n",
              "      div.appendChild(label);\n",
              "      const progress = document.createElement('progress');\n",
              "      progress.max = size;\n",
              "      div.appendChild(progress);\n",
              "      document.body.appendChild(div);\n",
              "\n",
              "      const buffers = [];\n",
              "      let downloaded = 0;\n",
              "\n",
              "      const channel = await google.colab.kernel.comms.open(id);\n",
              "      // Send a message to notify the kernel that we're ready.\n",
              "      channel.send({})\n",
              "\n",
              "      for await (const message of channel.messages) {\n",
              "        // Send a message to notify the kernel that we're ready.\n",
              "        channel.send({})\n",
              "        if (message.buffers) {\n",
              "          for (const buffer of message.buffers) {\n",
              "            buffers.push(buffer);\n",
              "            downloaded += buffer.byteLength;\n",
              "            progress.value = downloaded;\n",
              "          }\n",
              "        }\n",
              "      }\n",
              "      const blob = new Blob(buffers, {type: 'application/binary'});\n",
              "      const a = document.createElement('a');\n",
              "      a.href = window.URL.createObjectURL(blob);\n",
              "      a.download = filename;\n",
              "      div.appendChild(a);\n",
              "      a.click();\n",
              "      div.remove();\n",
              "    }\n",
              "  "
            ]
          },
          "metadata": {}
        },
        {
          "output_type": "display_data",
          "data": {
            "text/plain": [
              "<IPython.core.display.Javascript object>"
            ],
            "application/javascript": [
              "download(\"download_23f30777-c55a-4f90-b583-4ed9723efcd0\", \"runs_final.zip.zip\", 366759425)"
            ]
          },
          "metadata": {}
        }
      ],
      "source": [
        "import shutil\n",
        "\n",
        "# Specify the folder you want to zip\n",
        "folder_path = '/content/yolov5/runs'\n",
        "\n",
        "# Specify the name of the zip file\n",
        "zip_filename = 'runs_final.zip'\n",
        "\n",
        "# Zip the folder\n",
        "shutil.make_archive(zip_filename, 'zip', folder_path)\n",
        "\n",
        "# Download the zip file\n",
        "from google.colab import files\n",
        "files.download(zip_filename + '.zip')"
      ]
    },
    {
      "cell_type": "code",
      "execution_count": null,
      "metadata": {
        "id": "tD4CtcIjl98Q",
        "colab": {
          "base_uri": "https://localhost:8080/",
          "height": 1000
        },
        "collapsed": true,
        "outputId": "4a077b7a-f1c4-4964-b6b5-94e0bfa426bc"
      },
      "outputs": [
        {
          "output_type": "stream",
          "name": "stdout",
          "text": [
            "Ultralytics 8.3.94 🚀 Python-3.11.11 torch-2.6.0+cu124 CPU (Intel Xeon 2.20GHz)\n",
            "Model summary (fused): 72 layers, 11,125,971 parameters, 0 gradients, 28.4 GFLOPs\n",
            "\n",
            "\u001b[34m\u001b[1mPyTorch:\u001b[0m starting from '/content/yolov5/runs/detect/train4/weights/best.pt' with input shape (1, 3, 640, 640) BCHW and output shape(s) (1, 5, 8400) (21.5 MB)\n",
            "\u001b[31m\u001b[1mrequirements:\u001b[0m Ultralytics requirements ['sng4onnx>=1.0.1', 'onnx_graphsurgeon>=0.3.26', 'ai-edge-litert>=1.2.0', 'onnx>=1.12.0', 'onnx2tf>=1.26.3', 'onnxslim>=0.1.31', 'tflite_support', 'onnxruntime-gpu'] not found, attempting AutoUpdate...\n",
            "Looking in indexes: https://pypi.org/simple, https://pypi.ngc.nvidia.com\n",
            "Collecting sng4onnx>=1.0.1\n",
            "  Downloading sng4onnx-1.0.4-py3-none-any.whl.metadata (4.6 kB)\n",
            "Collecting onnx_graphsurgeon>=0.3.26\n",
            "  Downloading onnx_graphsurgeon-0.5.6-py2.py3-none-any.whl.metadata (8.2 kB)\n",
            "Collecting ai-edge-litert>=1.2.0\n",
            "  Downloading ai_edge_litert-1.2.0-cp311-cp311-manylinux_2_17_x86_64.whl.metadata (1.6 kB)\n",
            "Collecting onnx>=1.12.0\n",
            "  Downloading onnx-1.17.0-cp311-cp311-manylinux_2_17_x86_64.manylinux2014_x86_64.whl.metadata (16 kB)\n",
            "Collecting onnx2tf>=1.26.3\n",
            "  Downloading onnx2tf-1.27.0-py3-none-any.whl.metadata (147 kB)\n",
            "     ━━━━━━━━━━━━━━━━━━━━━━━━━━━━━━━━━━━━━━━━ 147.7/147.7 kB 11.4 MB/s eta 0:00:00\n",
            "Collecting onnxslim>=0.1.31\n",
            "  Downloading onnxslim-0.1.48-py3-none-any.whl.metadata (4.6 kB)\n",
            "Collecting tflite_support\n",
            "  Downloading tflite_support-0.4.4-cp311-cp311-manylinux2014_x86_64.whl.metadata (2.4 kB)\n",
            "Collecting onnxruntime-gpu\n",
            "  Downloading onnxruntime_gpu-1.21.0-cp311-cp311-manylinux_2_27_x86_64.manylinux_2_28_x86_64.whl.metadata (4.8 kB)\n",
            "Requirement already satisfied: numpy in /usr/local/lib/python3.11/dist-packages (from onnx_graphsurgeon>=0.3.26) (2.0.2)\n",
            "Requirement already satisfied: flatbuffers in /usr/local/lib/python3.11/dist-packages (from ai-edge-litert>=1.2.0) (25.2.10)\n",
            "Requirement already satisfied: protobuf>=3.20.2 in /usr/local/lib/python3.11/dist-packages (from onnx>=1.12.0) (5.29.3)\n",
            "Requirement already satisfied: sympy in /usr/local/lib/python3.11/dist-packages (from onnxslim>=0.1.31) (1.13.1)\n",
            "Requirement already satisfied: packaging in /usr/local/lib/python3.11/dist-packages (from onnxslim>=0.1.31) (24.2)\n",
            "Requirement already satisfied: absl-py>=0.7.0 in /usr/local/lib/python3.11/dist-packages (from tflite_support) (1.4.0)\n",
            "Collecting protobuf>=3.20.2 (from onnx>=1.12.0)\n",
            "  Downloading protobuf-3.20.3-py2.py3-none-any.whl.metadata (720 bytes)\n",
            "Collecting sounddevice>=0.4.4 (from tflite_support)\n",
            "  Downloading sounddevice-0.5.1-py3-none-any.whl.metadata (1.4 kB)\n",
            "Collecting pybind11>=2.6.0 (from tflite_support)\n",
            "  Downloading pybind11-2.13.6-py3-none-any.whl.metadata (9.5 kB)\n",
            "Collecting coloredlogs (from onnxruntime-gpu)\n",
            "  Downloading coloredlogs-15.0.1-py2.py3-none-any.whl.metadata (12 kB)\n",
            "Requirement already satisfied: CFFI>=1.0 in /usr/local/lib/python3.11/dist-packages (from sounddevice>=0.4.4->tflite_support) (1.17.1)\n",
            "Collecting humanfriendly>=9.1 (from coloredlogs->onnxruntime-gpu)\n",
            "  Downloading humanfriendly-10.0-py2.py3-none-any.whl.metadata (9.2 kB)\n",
            "Requirement already satisfied: mpmath<1.4,>=1.1.0 in /usr/local/lib/python3.11/dist-packages (from sympy->onnxslim>=0.1.31) (1.3.0)\n",
            "Requirement already satisfied: pycparser in /usr/local/lib/python3.11/dist-packages (from CFFI>=1.0->sounddevice>=0.4.4->tflite_support) (2.22)\n",
            "Downloading sng4onnx-1.0.4-py3-none-any.whl (5.9 kB)\n",
            "Downloading onnx_graphsurgeon-0.5.6-py2.py3-none-any.whl (57 kB)\n",
            "   ━━━━━━━━━━━━━━━━━━━━━━━━━━━━━━━━━━━━━━━━ 57.9/57.9 kB 261.4 MB/s eta 0:00:00\n",
            "Downloading ai_edge_litert-1.2.0-cp311-cp311-manylinux_2_17_x86_64.whl (3.5 MB)\n",
            "   ━━━━━━━━━━━━━━━━━━━━━━━━━━━━━━━━━━━━━━━━ 3.5/3.5 MB 138.7 MB/s eta 0:00:00\n",
            "Downloading onnx-1.17.0-cp311-cp311-manylinux_2_17_x86_64.manylinux2014_x86_64.whl (16.0 MB)\n",
            "   ━━━━━━━━━━━━━━━━━━━━━━━━━━━━━━━━━━━━━━━━ 16.0/16.0 MB 309.5 MB/s eta 0:00:00\n",
            "Downloading onnx2tf-1.27.0-py3-none-any.whl (446 kB)\n",
            "   ━━━━━━━━━━━━━━━━━━━━━━━━━━━━━━━━━━━━━━━━ 446.2/446.2 kB 320.3 MB/s eta 0:00:00\n",
            "Downloading onnxslim-0.1.48-py3-none-any.whl (142 kB)\n",
            "   ━━━━━━━━━━━━━━━━━━━━━━━━━━━━━━━━━━━━━━━━ 142.9/142.9 kB 329.7 MB/s eta 0:00:00\n",
            "Downloading tflite_support-0.4.4-cp311-cp311-manylinux2014_x86_64.whl (60.8 MB)\n",
            "   ━━━━━━━━━━━━━━━━━━━━━━━━━━━━━━━━━━━━━━━━ 60.8/60.8 MB 214.3 MB/s eta 0:00:00\n",
            "Downloading onnxruntime_gpu-1.21.0-cp311-cp311-manylinux_2_27_x86_64.manylinux_2_28_x86_64.whl (280.8 MB)\n",
            "   ━━━━━━━━━━━━━━━━━━━━━━━━━━━━━━━━━━━━━━━━ 280.8/280.8 MB 229.3 MB/s eta 0:00:00\n",
            "Downloading protobuf-3.20.3-py2.py3-none-any.whl (162 kB)\n",
            "   ━━━━━━━━━━━━━━━━━━━━━━━━━━━━━━━━━━━━━━━━ 162.1/162.1 kB 260.0 MB/s eta 0:00:00\n",
            "Downloading pybind11-2.13.6-py3-none-any.whl (243 kB)\n",
            "   ━━━━━━━━━━━━━━━━━━━━━━━━━━━━━━━━━━━━━━━━ 243.3/243.3 kB 356.7 MB/s eta 0:00:00\n",
            "Downloading sounddevice-0.5.1-py3-none-any.whl (32 kB)\n",
            "Downloading coloredlogs-15.0.1-py2.py3-none-any.whl (46 kB)\n",
            "   ━━━━━━━━━━━━━━━━━━━━━━━━━━━━━━━━━━━━━━━━ 46.0/46.0 kB 264.8 MB/s eta 0:00:00\n",
            "Downloading humanfriendly-10.0-py2.py3-none-any.whl (86 kB)\n",
            "   ━━━━━━━━━━━━━━━━━━━━━━━━━━━━━━━━━━━━━━━━ 86.8/86.8 kB 292.5 MB/s eta 0:00:00\n",
            "Installing collected packages: sng4onnx, pybind11, protobuf, onnx2tf, humanfriendly, ai-edge-litert, sounddevice, onnx, coloredlogs, tflite_support, onnxslim, onnxruntime-gpu, onnx_graphsurgeon\n",
            "  Attempting uninstall: protobuf\n",
            "    Found existing installation: protobuf 5.29.3\n",
            "    Uninstalling protobuf-5.29.3:\n",
            "      Successfully uninstalled protobuf-5.29.3\n",
            "Successfully installed ai-edge-litert-1.2.0 coloredlogs-15.0.1 humanfriendly-10.0 onnx-1.17.0 onnx2tf-1.27.0 onnx_graphsurgeon-0.5.6 onnxruntime-gpu-1.21.0 onnxslim-0.1.48 protobuf-3.20.3 pybind11-2.13.6 sng4onnx-1.0.4 sounddevice-0.5.1 tflite_support-0.4.4\n",
            "\n",
            "\u001b[31m\u001b[1mrequirements:\u001b[0m AutoUpdate success ✅ 31.8s, installed 8 packages: ['sng4onnx>=1.0.1', 'onnx_graphsurgeon>=0.3.26', 'ai-edge-litert>=1.2.0', 'onnx>=1.12.0', 'onnx2tf>=1.26.3', 'onnxslim>=0.1.31', 'tflite_support', 'onnxruntime-gpu']\n",
            "\u001b[31m\u001b[1mrequirements:\u001b[0m ⚠️ \u001b[1mRestart runtime or rerun command for updates to take effect\u001b[0m\n",
            "\n",
            "\n",
            "\u001b[34m\u001b[1mTensorFlow SavedModel:\u001b[0m starting export with tensorflow 2.18.0...\n",
            "Downloading https://github.com/ultralytics/assets/releases/download/v8.3.0/calibration_image_sample_data_20x128x128x3_float32.npy.zip to 'calibration_image_sample_data_20x128x128x3_float32.npy.zip'...\n"
          ]
        },
        {
          "output_type": "stream",
          "name": "stderr",
          "text": [
            "100%|██████████| 1.11M/1.11M [00:00<00:00, 27.1MB/s]\n",
            "Unzipping calibration_image_sample_data_20x128x128x3_float32.npy.zip to /content/yolov5/calibration_image_sample_data_20x128x128x3_float32.npy...: 100%|██████████| 1/1 [00:00<00:00, 44.36file/s]"
          ]
        },
        {
          "output_type": "stream",
          "name": "stdout",
          "text": [
            "\n",
            "\u001b[34m\u001b[1mONNX:\u001b[0m starting export with onnx 1.17.0 opset 19...\n"
          ]
        },
        {
          "output_type": "stream",
          "name": "stderr",
          "text": [
            "\n"
          ]
        },
        {
          "output_type": "stream",
          "name": "stdout",
          "text": [
            "\u001b[34m\u001b[1mONNX:\u001b[0m slimming with onnxslim 0.1.48...\n",
            "\u001b[34m\u001b[1mONNX:\u001b[0m export success ✅ 2.3s, saved as '/content/yolov5/runs/detect/train4/weights/best.onnx' (42.8 MB)\n",
            "\u001b[34m\u001b[1mTensorFlow SavedModel:\u001b[0m starting TFLite export with onnx2tf 1.27.0...\n",
            "\u001b[34m\u001b[1mTensorFlow SavedModel:\u001b[0m export success ✅ 126.8s, saved as '/content/yolov5/runs/detect/train4/weights/best_saved_model' (107.5 MB)\n",
            "\n",
            "\u001b[34m\u001b[1mTensorFlow Lite:\u001b[0m starting export with tensorflow 2.18.0...\n",
            "\u001b[34m\u001b[1mTensorFlow Lite:\u001b[0m export success ✅ 0.0s, saved as '/content/yolov5/runs/detect/train4/weights/best_saved_model/best_float32.tflite' (42.7 MB)\n",
            "\n",
            "Export complete (130.5s)\n",
            "Results saved to \u001b[1m/content/yolov5/runs/detect/train4/weights\u001b[0m\n",
            "Predict:         yolo predict task=detect model=/content/yolov5/runs/detect/train4/weights/best_saved_model/best_float32.tflite imgsz=640  \n",
            "Validate:        yolo val task=detect model=/content/yolov5/runs/detect/train4/weights/best_saved_model/best_float32.tflite imgsz=640 data=/content/data.yaml  \n",
            "Visualize:       https://netron.app\n"
          ]
        },
        {
          "output_type": "execute_result",
          "data": {
            "text/plain": [
              "'/content/yolov5/runs/detect/train4/weights/best_saved_model/best_float32.tflite'"
            ],
            "application/vnd.google.colaboratory.intrinsic+json": {
              "type": "string"
            }
          },
          "metadata": {},
          "execution_count": 35
        }
      ],
      "source": [
        "#  Export model to tflite\n",
        "from ultralytics import YOLO\n",
        "\n",
        "# Load a model\n",
        "model = YOLO('/content/yolov5/runs/detect/train4/weights/best.pt')  # load a custom trained model\n",
        "\n",
        "# Export the model\n",
        "model.export(format='tflite')"
      ]
    },
    {
      "cell_type": "code",
      "execution_count": null,
      "metadata": {
        "id": "5V9IVnOyl98R",
        "colab": {
          "base_uri": "https://localhost:8080/"
        },
        "collapsed": true,
        "outputId": "419ec0bb-13af-457f-c7f8-a871853f9f3b"
      },
      "outputs": [
        {
          "output_type": "stream",
          "name": "stdout",
          "text": [
            "\n",
            "image 1/6 /content/drive/MyDrive/New_shoe/images/aug_469_20211110_185352.jpg: 480x640 1 Defect, 48.8ms\n",
            "image 2/6 /content/drive/MyDrive/New_shoe/images/aug_471_20211123_192911.jpg: 480x640 (no detections), 13.2ms\n",
            "image 3/6 /content/drive/MyDrive/New_shoe/images/aug_474_20211110_185612.jpg: 480x640 (no detections), 13.2ms\n",
            "image 4/6 /content/drive/MyDrive/New_shoe/images/aug_475_20211201_093432.jpg: 480x640 (no detections), 13.2ms\n",
            "image 5/6 /content/drive/MyDrive/New_shoe/images/aug_476_20211201_094319.jpg: 480x640 (no detections), 13.2ms\n",
            "image 6/6 /content/drive/MyDrive/New_shoe/images/aug_477_20211201_093612.jpg: 480x640 2 Defects, 13.2ms\n",
            "Speed: 5.3ms preprocess, 19.1ms inference, 60.1ms postprocess per image at shape (1, 3, 480, 640)\n",
            "Results saved to \u001b[1mruns/detect/predict\u001b[0m\n"
          ]
        },
        {
          "output_type": "execute_result",
          "data": {
            "text/plain": [
              "[ultralytics.engine.results.Results object with attributes:\n",
              " \n",
              " boxes: ultralytics.engine.results.Boxes object\n",
              " keypoints: None\n",
              " masks: None\n",
              " names: {0: 'Defect'}\n",
              " obb: None\n",
              " orig_img: array([[[ 94, 134, 176],\n",
              "         [100, 140, 182],\n",
              "         [ 92, 133, 172],\n",
              "         ...,\n",
              "         [206, 208, 218],\n",
              "         [200, 202, 212],\n",
              "         [208, 210, 220]],\n",
              " \n",
              "        [[ 87, 127, 169],\n",
              "         [ 92, 132, 174],\n",
              "         [ 88, 129, 168],\n",
              "         ...,\n",
              "         [208, 210, 220],\n",
              "         [205, 207, 217],\n",
              "         [213, 215, 225]],\n",
              " \n",
              "        [[ 82, 123, 162],\n",
              "         [ 85, 126, 165],\n",
              "         [ 83, 124, 163],\n",
              "         ...,\n",
              "         [207, 209, 219],\n",
              "         [207, 209, 219],\n",
              "         [215, 217, 227]],\n",
              " \n",
              "        ...,\n",
              " \n",
              "        [[223, 226, 230],\n",
              "         [220, 223, 227],\n",
              "         [222, 225, 229],\n",
              "         ...,\n",
              "         [210, 215, 218],\n",
              "         [225, 230, 233],\n",
              "         [229, 234, 237]],\n",
              " \n",
              "        [[219, 222, 226],\n",
              "         [220, 223, 227],\n",
              "         [225, 228, 232],\n",
              "         ...,\n",
              "         [209, 214, 217],\n",
              "         [222, 227, 230],\n",
              "         [225, 230, 233]],\n",
              " \n",
              "        [[214, 217, 221],\n",
              "         [219, 222, 226],\n",
              "         [225, 228, 232],\n",
              "         ...,\n",
              "         [212, 217, 220],\n",
              "         [224, 229, 232],\n",
              "         [229, 234, 237]]], dtype=uint8)\n",
              " orig_shape: (3000, 4000)\n",
              " path: '/content/drive/MyDrive/New_shoe/images/aug_469_20211110_185352.jpg'\n",
              " probs: None\n",
              " save_dir: 'runs/detect/predict'\n",
              " speed: {'preprocess': 13.300255999638466, 'inference': 48.7860550001642, 'postprocess': 355.9478749994014},\n",
              " ultralytics.engine.results.Results object with attributes:\n",
              " \n",
              " boxes: ultralytics.engine.results.Boxes object\n",
              " keypoints: None\n",
              " masks: None\n",
              " names: {0: 'Defect'}\n",
              " obb: None\n",
              " orig_img: array([[[189, 202, 204],\n",
              "         [192, 205, 207],\n",
              "         [186, 199, 201],\n",
              "         ...,\n",
              "         [112, 141, 162],\n",
              "         [110, 137, 163],\n",
              "         [118, 145, 171]],\n",
              " \n",
              "        [[185, 198, 200],\n",
              "         [189, 202, 204],\n",
              "         [185, 198, 200],\n",
              "         ...,\n",
              "         [111, 140, 161],\n",
              "         [108, 135, 161],\n",
              "         [114, 141, 167]],\n",
              " \n",
              "        [[179, 192, 194],\n",
              "         [183, 196, 198],\n",
              "         [182, 195, 197],\n",
              "         ...,\n",
              "         [111, 140, 161],\n",
              "         [110, 137, 163],\n",
              "         [115, 142, 168]],\n",
              " \n",
              "        ...,\n",
              " \n",
              "        [[204, 208, 209],\n",
              "         [201, 205, 206],\n",
              "         [198, 202, 203],\n",
              "         ...,\n",
              "         [199, 203, 204],\n",
              "         [201, 205, 206],\n",
              "         [206, 210, 211]],\n",
              " \n",
              "        [[204, 208, 209],\n",
              "         [202, 206, 207],\n",
              "         [198, 202, 203],\n",
              "         ...,\n",
              "         [196, 200, 201],\n",
              "         [197, 201, 202],\n",
              "         [204, 208, 209]],\n",
              " \n",
              "        [[204, 208, 209],\n",
              "         [204, 208, 209],\n",
              "         [199, 203, 204],\n",
              "         ...,\n",
              "         [197, 201, 202],\n",
              "         [200, 204, 205],\n",
              "         [208, 212, 213]]], dtype=uint8)\n",
              " orig_shape: (3000, 4000)\n",
              " path: '/content/drive/MyDrive/New_shoe/images/aug_471_20211123_192911.jpg'\n",
              " probs: None\n",
              " save_dir: 'runs/detect/predict'\n",
              " speed: {'preprocess': 4.630764000467025, 'inference': 13.216352001109044, 'postprocess': 0.7889520002208883},\n",
              " ultralytics.engine.results.Results object with attributes:\n",
              " \n",
              " boxes: ultralytics.engine.results.Boxes object\n",
              " keypoints: None\n",
              " masks: None\n",
              " names: {0: 'Defect'}\n",
              " obb: None\n",
              " orig_img: array([[[ 83, 120, 158],\n",
              "         [ 87, 125, 160],\n",
              "         [ 87, 123, 159],\n",
              "         ...,\n",
              "         [114, 122, 129],\n",
              "         [117, 123, 130],\n",
              "         [117, 123, 130]],\n",
              " \n",
              "        [[ 88, 125, 163],\n",
              "         [ 92, 130, 165],\n",
              "         [ 90, 126, 162],\n",
              "         ...,\n",
              "         [179, 187, 194],\n",
              "         [180, 186, 193],\n",
              "         [181, 187, 194]],\n",
              " \n",
              "        [[ 89, 126, 164],\n",
              "         [ 93, 131, 166],\n",
              "         [ 89, 125, 161],\n",
              "         ...,\n",
              "         [247, 253, 255],\n",
              "         [247, 253, 255],\n",
              "         [242, 248, 253]],\n",
              " \n",
              "        ...,\n",
              " \n",
              "        [[207, 210, 214],\n",
              "         [206, 209, 213],\n",
              "         [206, 209, 214],\n",
              "         ...,\n",
              "         [241, 243, 244],\n",
              "         [240, 242, 243],\n",
              "         [238, 240, 241]],\n",
              " \n",
              "        [[205, 208, 212],\n",
              "         [201, 204, 208],\n",
              "         [202, 205, 210],\n",
              "         ...,\n",
              "         [243, 245, 246],\n",
              "         [241, 243, 244],\n",
              "         [238, 240, 241]],\n",
              " \n",
              "        [[201, 204, 208],\n",
              "         [195, 198, 202],\n",
              "         [197, 200, 205],\n",
              "         ...,\n",
              "         [243, 245, 246],\n",
              "         [242, 244, 245],\n",
              "         [238, 240, 241]]], dtype=uint8)\n",
              " orig_shape: (3000, 4000)\n",
              " path: '/content/drive/MyDrive/New_shoe/images/aug_474_20211110_185612.jpg'\n",
              " probs: None\n",
              " save_dir: 'runs/detect/predict'\n",
              " speed: {'preprocess': 4.459662000954268, 'inference': 13.217554000220844, 'postprocess': 0.7873960003053071},\n",
              " ultralytics.engine.results.Results object with attributes:\n",
              " \n",
              " boxes: ultralytics.engine.results.Boxes object\n",
              " keypoints: None\n",
              " masks: None\n",
              " names: {0: 'Defect'}\n",
              " obb: None\n",
              " orig_img: array([[[135, 168, 187],\n",
              "         [136, 169, 188],\n",
              "         [134, 167, 187],\n",
              "         ...,\n",
              "         [234, 244, 254],\n",
              "         [232, 242, 252],\n",
              "         [224, 234, 244]],\n",
              " \n",
              "        [[137, 170, 189],\n",
              "         [136, 169, 188],\n",
              "         [133, 166, 186],\n",
              "         ...,\n",
              "         [235, 245, 255],\n",
              "         [234, 244, 254],\n",
              "         [227, 237, 247]],\n",
              " \n",
              "        [[139, 170, 191],\n",
              "         [138, 169, 190],\n",
              "         [134, 165, 186],\n",
              "         ...,\n",
              "         [234, 243, 253],\n",
              "         [233, 243, 253],\n",
              "         [227, 237, 247]],\n",
              " \n",
              "        ...,\n",
              " \n",
              "        [[255, 255, 255],\n",
              "         [255, 255, 255],\n",
              "         [255, 255, 255],\n",
              "         ...,\n",
              "         [233, 240, 243],\n",
              "         [234, 241, 244],\n",
              "         [233, 240, 243]],\n",
              " \n",
              "        [[255, 255, 255],\n",
              "         [255, 255, 255],\n",
              "         [255, 255, 255],\n",
              "         ...,\n",
              "         [234, 241, 244],\n",
              "         [235, 242, 245],\n",
              "         [235, 242, 245]],\n",
              " \n",
              "        [[255, 255, 255],\n",
              "         [255, 255, 255],\n",
              "         [255, 255, 255],\n",
              "         ...,\n",
              "         [238, 245, 248],\n",
              "         [238, 245, 248],\n",
              "         [237, 244, 247]]], dtype=uint8)\n",
              " orig_shape: (3000, 4000)\n",
              " path: '/content/drive/MyDrive/New_shoe/images/aug_475_20211201_093432.jpg'\n",
              " probs: None\n",
              " save_dir: 'runs/detect/predict'\n",
              " speed: {'preprocess': 3.1495300008828053, 'inference': 13.177433998862398, 'postprocess': 0.6370119990606327},\n",
              " ultralytics.engine.results.Results object with attributes:\n",
              " \n",
              " boxes: ultralytics.engine.results.Boxes object\n",
              " keypoints: None\n",
              " masks: None\n",
              " names: {0: 'Defect'}\n",
              " obb: None\n",
              " orig_img: array([[[213, 223, 233],\n",
              "         [211, 221, 231],\n",
              "         [213, 223, 233],\n",
              "         ...,\n",
              "         [211, 220, 229],\n",
              "         [209, 218, 227],\n",
              "         [209, 218, 227]],\n",
              " \n",
              "        [[217, 227, 237],\n",
              "         [214, 224, 234],\n",
              "         [212, 222, 232],\n",
              "         ...,\n",
              "         [205, 214, 223],\n",
              "         [203, 212, 221],\n",
              "         [203, 212, 221]],\n",
              " \n",
              "        [[217, 227, 237],\n",
              "         [214, 224, 234],\n",
              "         [212, 222, 232],\n",
              "         ...,\n",
              "         [202, 213, 221],\n",
              "         [201, 212, 220],\n",
              "         [202, 213, 221]],\n",
              " \n",
              "        ...,\n",
              " \n",
              "        [[244, 252, 252],\n",
              "         [244, 252, 252],\n",
              "         [244, 251, 254],\n",
              "         ...,\n",
              "         [233, 243, 250],\n",
              "         [232, 244, 250],\n",
              "         [230, 242, 248]],\n",
              " \n",
              "        [[245, 253, 253],\n",
              "         [245, 253, 253],\n",
              "         [245, 252, 255],\n",
              "         ...,\n",
              "         [235, 245, 252],\n",
              "         [234, 246, 252],\n",
              "         [232, 244, 250]],\n",
              " \n",
              "        [[247, 255, 255],\n",
              "         [247, 255, 255],\n",
              "         [247, 254, 255],\n",
              "         ...,\n",
              "         [239, 249, 255],\n",
              "         [239, 251, 255],\n",
              "         [236, 248, 254]]], dtype=uint8)\n",
              " orig_shape: (3000, 4000)\n",
              " path: '/content/drive/MyDrive/New_shoe/images/aug_476_20211201_094319.jpg'\n",
              " probs: None\n",
              " save_dir: 'runs/detect/predict'\n",
              " speed: {'preprocess': 3.16190900048241, 'inference': 13.175991998650716, 'postprocess': 0.8665069999551633},\n",
              " ultralytics.engine.results.Results object with attributes:\n",
              " \n",
              " boxes: ultralytics.engine.results.Boxes object\n",
              " keypoints: None\n",
              " masks: None\n",
              " names: {0: 'Defect'}\n",
              " obb: None\n",
              " orig_img: array([[[222, 231, 244],\n",
              "         [216, 225, 238],\n",
              "         [215, 224, 237],\n",
              "         ...,\n",
              "         [202, 216, 215],\n",
              "         [198, 212, 211],\n",
              "         [193, 207, 206]],\n",
              " \n",
              "        [[217, 226, 239],\n",
              "         [213, 222, 235],\n",
              "         [214, 223, 236],\n",
              "         ...,\n",
              "         [198, 212, 211],\n",
              "         [197, 211, 210],\n",
              "         [195, 209, 208]],\n",
              " \n",
              "        [[213, 222, 235],\n",
              "         [212, 221, 234],\n",
              "         [213, 222, 235],\n",
              "         ...,\n",
              "         [198, 211, 213],\n",
              "         [198, 212, 211],\n",
              "         [198, 212, 211]],\n",
              " \n",
              "        ...,\n",
              " \n",
              "        [[225, 234, 237],\n",
              "         [227, 236, 239],\n",
              "         [230, 239, 242],\n",
              "         ...,\n",
              "         [213, 222, 226],\n",
              "         [214, 223, 227],\n",
              "         [213, 222, 226]],\n",
              " \n",
              "        [[227, 236, 239],\n",
              "         [229, 238, 241],\n",
              "         [231, 240, 243],\n",
              "         ...,\n",
              "         [212, 221, 225],\n",
              "         [212, 223, 227],\n",
              "         [211, 222, 226]],\n",
              " \n",
              "        [[230, 239, 242],\n",
              "         [231, 240, 243],\n",
              "         [233, 242, 245],\n",
              "         ...,\n",
              "         [209, 218, 222],\n",
              "         [209, 220, 224],\n",
              "         [208, 219, 223]]], dtype=uint8)\n",
              " orig_shape: (3000, 4000)\n",
              " path: '/content/drive/MyDrive/New_shoe/images/aug_477_20211201_093612.jpg'\n",
              " probs: None\n",
              " save_dir: 'runs/detect/predict'\n",
              " speed: {'preprocess': 3.2002549996832386, 'inference': 13.186596999730682, 'postprocess': 1.795610998669872}]"
            ]
          },
          "metadata": {},
          "execution_count": 3
        }
      ],
      "source": [
        "#  Export model to tflite\n",
        "from ultralytics import YOLO\n",
        "\n",
        "# Load a model\n",
        "model = YOLO('/content/yolov5/runs/detect/train4/weights/best.pt')  # load a custom trained model\n",
        "\n",
        "# Run inference\n",
        "model.predict('/content/drive/MyDrive/New_shoe/images', save=True, imgsz=640, conf=0.2)"
      ]
    },
    {
      "cell_type": "code",
      "source": [
        "# Prediction using custom tflite model\n",
        "\n",
        "#  Prediction using trained model\n",
        "\n",
        "from ultralytics import YOLO\n",
        "\n",
        "# Load a pretrained YOLOv8n model\n",
        "model = YOLO('/content/yolov5/runs/detect/train4/weights/best_saved_model/best_float32.tflite')\n",
        "# Run inference\n",
        "model.predict('/content/drive/MyDrive/New_shoe/images', save=True, imgsz=640, conf=0.2)"
      ],
      "metadata": {
        "colab": {
          "base_uri": "https://localhost:8080/"
        },
        "collapsed": true,
        "id": "nHu615SSQkr4",
        "outputId": "eca1f7db-63d2-4cd9-c93f-976e2d2d430e"
      },
      "execution_count": null,
      "outputs": [
        {
          "output_type": "stream",
          "name": "stdout",
          "text": [
            "Loading /content/yolov5/runs/detect/train4/weights/best_saved_model/best_float32.tflite for TensorFlow Lite inference...\n",
            "\n",
            "image 1/6 /content/drive/MyDrive/New_shoe/images/aug_469_20211110_185352.jpg: 640x640 1 Defect, 475.4ms\n",
            "image 2/6 /content/drive/MyDrive/New_shoe/images/aug_471_20211123_192911.jpg: 640x640 (no detections), 459.0ms\n",
            "image 3/6 /content/drive/MyDrive/New_shoe/images/aug_474_20211110_185612.jpg: 640x640 (no detections), 493.2ms\n",
            "image 4/6 /content/drive/MyDrive/New_shoe/images/aug_475_20211201_093432.jpg: 640x640 (no detections), 495.0ms\n",
            "image 5/6 /content/drive/MyDrive/New_shoe/images/aug_476_20211201_094319.jpg: 640x640 (no detections), 443.4ms\n",
            "image 6/6 /content/drive/MyDrive/New_shoe/images/aug_477_20211201_093612.jpg: 640x640 2 Defects, 471.2ms\n",
            "Speed: 4.8ms preprocess, 472.9ms inference, 5.7ms postprocess per image at shape (1, 3, 640, 640)\n",
            "Results saved to \u001b[1mruns/detect/predict2\u001b[0m\n"
          ]
        },
        {
          "output_type": "execute_result",
          "data": {
            "text/plain": [
              "[ultralytics.engine.results.Results object with attributes:\n",
              " \n",
              " boxes: ultralytics.engine.results.Boxes object\n",
              " keypoints: None\n",
              " masks: None\n",
              " names: {0: 'Defect'}\n",
              " obb: None\n",
              " orig_img: array([[[ 94, 134, 176],\n",
              "         [100, 140, 182],\n",
              "         [ 92, 133, 172],\n",
              "         ...,\n",
              "         [206, 208, 218],\n",
              "         [200, 202, 212],\n",
              "         [208, 210, 220]],\n",
              " \n",
              "        [[ 87, 127, 169],\n",
              "         [ 92, 132, 174],\n",
              "         [ 88, 129, 168],\n",
              "         ...,\n",
              "         [208, 210, 220],\n",
              "         [205, 207, 217],\n",
              "         [213, 215, 225]],\n",
              " \n",
              "        [[ 82, 123, 162],\n",
              "         [ 85, 126, 165],\n",
              "         [ 83, 124, 163],\n",
              "         ...,\n",
              "         [207, 209, 219],\n",
              "         [207, 209, 219],\n",
              "         [215, 217, 227]],\n",
              " \n",
              "        ...,\n",
              " \n",
              "        [[223, 226, 230],\n",
              "         [220, 223, 227],\n",
              "         [222, 225, 229],\n",
              "         ...,\n",
              "         [210, 215, 218],\n",
              "         [225, 230, 233],\n",
              "         [229, 234, 237]],\n",
              " \n",
              "        [[219, 222, 226],\n",
              "         [220, 223, 227],\n",
              "         [225, 228, 232],\n",
              "         ...,\n",
              "         [209, 214, 217],\n",
              "         [222, 227, 230],\n",
              "         [225, 230, 233]],\n",
              " \n",
              "        [[214, 217, 221],\n",
              "         [219, 222, 226],\n",
              "         [225, 228, 232],\n",
              "         ...,\n",
              "         [212, 217, 220],\n",
              "         [224, 229, 232],\n",
              "         [229, 234, 237]]], dtype=uint8)\n",
              " orig_shape: (3000, 4000)\n",
              " path: '/content/drive/MyDrive/New_shoe/images/aug_469_20211110_185352.jpg'\n",
              " probs: None\n",
              " save_dir: 'runs/detect/predict2'\n",
              " speed: {'preprocess': 5.627488999380148, 'inference': 475.412822999715, 'postprocess': 27.778278999903705},\n",
              " ultralytics.engine.results.Results object with attributes:\n",
              " \n",
              " boxes: ultralytics.engine.results.Boxes object\n",
              " keypoints: None\n",
              " masks: None\n",
              " names: {0: 'Defect'}\n",
              " obb: None\n",
              " orig_img: array([[[189, 202, 204],\n",
              "         [192, 205, 207],\n",
              "         [186, 199, 201],\n",
              "         ...,\n",
              "         [112, 141, 162],\n",
              "         [110, 137, 163],\n",
              "         [118, 145, 171]],\n",
              " \n",
              "        [[185, 198, 200],\n",
              "         [189, 202, 204],\n",
              "         [185, 198, 200],\n",
              "         ...,\n",
              "         [111, 140, 161],\n",
              "         [108, 135, 161],\n",
              "         [114, 141, 167]],\n",
              " \n",
              "        [[179, 192, 194],\n",
              "         [183, 196, 198],\n",
              "         [182, 195, 197],\n",
              "         ...,\n",
              "         [111, 140, 161],\n",
              "         [110, 137, 163],\n",
              "         [115, 142, 168]],\n",
              " \n",
              "        ...,\n",
              " \n",
              "        [[204, 208, 209],\n",
              "         [201, 205, 206],\n",
              "         [198, 202, 203],\n",
              "         ...,\n",
              "         [199, 203, 204],\n",
              "         [201, 205, 206],\n",
              "         [206, 210, 211]],\n",
              " \n",
              "        [[204, 208, 209],\n",
              "         [202, 206, 207],\n",
              "         [198, 202, 203],\n",
              "         ...,\n",
              "         [196, 200, 201],\n",
              "         [197, 201, 202],\n",
              "         [204, 208, 209]],\n",
              " \n",
              "        [[204, 208, 209],\n",
              "         [204, 208, 209],\n",
              "         [199, 203, 204],\n",
              "         ...,\n",
              "         [197, 201, 202],\n",
              "         [200, 204, 205],\n",
              "         [208, 212, 213]]], dtype=uint8)\n",
              " orig_shape: (3000, 4000)\n",
              " path: '/content/drive/MyDrive/New_shoe/images/aug_471_20211123_192911.jpg'\n",
              " probs: None\n",
              " save_dir: 'runs/detect/predict2'\n",
              " speed: {'preprocess': 5.288319000101183, 'inference': 459.02729900080885, 'postprocess': 0.6180480013426859},\n",
              " ultralytics.engine.results.Results object with attributes:\n",
              " \n",
              " boxes: ultralytics.engine.results.Boxes object\n",
              " keypoints: None\n",
              " masks: None\n",
              " names: {0: 'Defect'}\n",
              " obb: None\n",
              " orig_img: array([[[ 83, 120, 158],\n",
              "         [ 87, 125, 160],\n",
              "         [ 87, 123, 159],\n",
              "         ...,\n",
              "         [114, 122, 129],\n",
              "         [117, 123, 130],\n",
              "         [117, 123, 130]],\n",
              " \n",
              "        [[ 88, 125, 163],\n",
              "         [ 92, 130, 165],\n",
              "         [ 90, 126, 162],\n",
              "         ...,\n",
              "         [179, 187, 194],\n",
              "         [180, 186, 193],\n",
              "         [181, 187, 194]],\n",
              " \n",
              "        [[ 89, 126, 164],\n",
              "         [ 93, 131, 166],\n",
              "         [ 89, 125, 161],\n",
              "         ...,\n",
              "         [247, 253, 255],\n",
              "         [247, 253, 255],\n",
              "         [242, 248, 253]],\n",
              " \n",
              "        ...,\n",
              " \n",
              "        [[207, 210, 214],\n",
              "         [206, 209, 213],\n",
              "         [206, 209, 214],\n",
              "         ...,\n",
              "         [241, 243, 244],\n",
              "         [240, 242, 243],\n",
              "         [238, 240, 241]],\n",
              " \n",
              "        [[205, 208, 212],\n",
              "         [201, 204, 208],\n",
              "         [202, 205, 210],\n",
              "         ...,\n",
              "         [243, 245, 246],\n",
              "         [241, 243, 244],\n",
              "         [238, 240, 241]],\n",
              " \n",
              "        [[201, 204, 208],\n",
              "         [195, 198, 202],\n",
              "         [197, 200, 205],\n",
              "         ...,\n",
              "         [243, 245, 246],\n",
              "         [242, 244, 245],\n",
              "         [238, 240, 241]]], dtype=uint8)\n",
              " orig_shape: (3000, 4000)\n",
              " path: '/content/drive/MyDrive/New_shoe/images/aug_474_20211110_185612.jpg'\n",
              " probs: None\n",
              " save_dir: 'runs/detect/predict2'\n",
              " speed: {'preprocess': 4.323900999224861, 'inference': 493.2316089998494, 'postprocess': 0.6481370000983588},\n",
              " ultralytics.engine.results.Results object with attributes:\n",
              " \n",
              " boxes: ultralytics.engine.results.Boxes object\n",
              " keypoints: None\n",
              " masks: None\n",
              " names: {0: 'Defect'}\n",
              " obb: None\n",
              " orig_img: array([[[135, 168, 187],\n",
              "         [136, 169, 188],\n",
              "         [134, 167, 187],\n",
              "         ...,\n",
              "         [234, 244, 254],\n",
              "         [232, 242, 252],\n",
              "         [224, 234, 244]],\n",
              " \n",
              "        [[137, 170, 189],\n",
              "         [136, 169, 188],\n",
              "         [133, 166, 186],\n",
              "         ...,\n",
              "         [235, 245, 255],\n",
              "         [234, 244, 254],\n",
              "         [227, 237, 247]],\n",
              " \n",
              "        [[139, 170, 191],\n",
              "         [138, 169, 190],\n",
              "         [134, 165, 186],\n",
              "         ...,\n",
              "         [234, 243, 253],\n",
              "         [233, 243, 253],\n",
              "         [227, 237, 247]],\n",
              " \n",
              "        ...,\n",
              " \n",
              "        [[255, 255, 255],\n",
              "         [255, 255, 255],\n",
              "         [255, 255, 255],\n",
              "         ...,\n",
              "         [233, 240, 243],\n",
              "         [234, 241, 244],\n",
              "         [233, 240, 243]],\n",
              " \n",
              "        [[255, 255, 255],\n",
              "         [255, 255, 255],\n",
              "         [255, 255, 255],\n",
              "         ...,\n",
              "         [234, 241, 244],\n",
              "         [235, 242, 245],\n",
              "         [235, 242, 245]],\n",
              " \n",
              "        [[255, 255, 255],\n",
              "         [255, 255, 255],\n",
              "         [255, 255, 255],\n",
              "         ...,\n",
              "         [238, 245, 248],\n",
              "         [238, 245, 248],\n",
              "         [237, 244, 247]]], dtype=uint8)\n",
              " orig_shape: (3000, 4000)\n",
              " path: '/content/drive/MyDrive/New_shoe/images/aug_475_20211201_093432.jpg'\n",
              " probs: None\n",
              " save_dir: 'runs/detect/predict2'\n",
              " speed: {'preprocess': 5.542042999877594, 'inference': 494.9764890006918, 'postprocess': 0.6199640010891017},\n",
              " ultralytics.engine.results.Results object with attributes:\n",
              " \n",
              " boxes: ultralytics.engine.results.Boxes object\n",
              " keypoints: None\n",
              " masks: None\n",
              " names: {0: 'Defect'}\n",
              " obb: None\n",
              " orig_img: array([[[213, 223, 233],\n",
              "         [211, 221, 231],\n",
              "         [213, 223, 233],\n",
              "         ...,\n",
              "         [211, 220, 229],\n",
              "         [209, 218, 227],\n",
              "         [209, 218, 227]],\n",
              " \n",
              "        [[217, 227, 237],\n",
              "         [214, 224, 234],\n",
              "         [212, 222, 232],\n",
              "         ...,\n",
              "         [205, 214, 223],\n",
              "         [203, 212, 221],\n",
              "         [203, 212, 221]],\n",
              " \n",
              "        [[217, 227, 237],\n",
              "         [214, 224, 234],\n",
              "         [212, 222, 232],\n",
              "         ...,\n",
              "         [202, 213, 221],\n",
              "         [201, 212, 220],\n",
              "         [202, 213, 221]],\n",
              " \n",
              "        ...,\n",
              " \n",
              "        [[244, 252, 252],\n",
              "         [244, 252, 252],\n",
              "         [244, 251, 254],\n",
              "         ...,\n",
              "         [233, 243, 250],\n",
              "         [232, 244, 250],\n",
              "         [230, 242, 248]],\n",
              " \n",
              "        [[245, 253, 253],\n",
              "         [245, 253, 253],\n",
              "         [245, 252, 255],\n",
              "         ...,\n",
              "         [235, 245, 252],\n",
              "         [234, 246, 252],\n",
              "         [232, 244, 250]],\n",
              " \n",
              "        [[247, 255, 255],\n",
              "         [247, 255, 255],\n",
              "         [247, 254, 255],\n",
              "         ...,\n",
              "         [239, 249, 255],\n",
              "         [239, 251, 255],\n",
              "         [236, 248, 254]]], dtype=uint8)\n",
              " orig_shape: (3000, 4000)\n",
              " path: '/content/drive/MyDrive/New_shoe/images/aug_476_20211201_094319.jpg'\n",
              " probs: None\n",
              " save_dir: 'runs/detect/predict2'\n",
              " speed: {'preprocess': 3.8582550005230587, 'inference': 443.37918999917747, 'postprocess': 0.5710990008083172},\n",
              " ultralytics.engine.results.Results object with attributes:\n",
              " \n",
              " boxes: ultralytics.engine.results.Boxes object\n",
              " keypoints: None\n",
              " masks: None\n",
              " names: {0: 'Defect'}\n",
              " obb: None\n",
              " orig_img: array([[[222, 231, 244],\n",
              "         [216, 225, 238],\n",
              "         [215, 224, 237],\n",
              "         ...,\n",
              "         [202, 216, 215],\n",
              "         [198, 212, 211],\n",
              "         [193, 207, 206]],\n",
              " \n",
              "        [[217, 226, 239],\n",
              "         [213, 222, 235],\n",
              "         [214, 223, 236],\n",
              "         ...,\n",
              "         [198, 212, 211],\n",
              "         [197, 211, 210],\n",
              "         [195, 209, 208]],\n",
              " \n",
              "        [[213, 222, 235],\n",
              "         [212, 221, 234],\n",
              "         [213, 222, 235],\n",
              "         ...,\n",
              "         [198, 211, 213],\n",
              "         [198, 212, 211],\n",
              "         [198, 212, 211]],\n",
              " \n",
              "        ...,\n",
              " \n",
              "        [[225, 234, 237],\n",
              "         [227, 236, 239],\n",
              "         [230, 239, 242],\n",
              "         ...,\n",
              "         [213, 222, 226],\n",
              "         [214, 223, 227],\n",
              "         [213, 222, 226]],\n",
              " \n",
              "        [[227, 236, 239],\n",
              "         [229, 238, 241],\n",
              "         [231, 240, 243],\n",
              "         ...,\n",
              "         [212, 221, 225],\n",
              "         [212, 223, 227],\n",
              "         [211, 222, 226]],\n",
              " \n",
              "        [[230, 239, 242],\n",
              "         [231, 240, 243],\n",
              "         [233, 242, 245],\n",
              "         ...,\n",
              "         [209, 218, 222],\n",
              "         [209, 220, 224],\n",
              "         [208, 219, 223]]], dtype=uint8)\n",
              " orig_shape: (3000, 4000)\n",
              " path: '/content/drive/MyDrive/New_shoe/images/aug_477_20211201_093612.jpg'\n",
              " probs: None\n",
              " save_dir: 'runs/detect/predict2'\n",
              " speed: {'preprocess': 4.012607998447493, 'inference': 471.2241030010773, 'postprocess': 3.6809960001846775}]"
            ]
          },
          "metadata": {},
          "execution_count": 6
        }
      ]
    },
    {
      "cell_type": "code",
      "source": [],
      "metadata": {
        "id": "le5dEKkYSc9t"
      },
      "execution_count": null,
      "outputs": []
    }
  ],
  "metadata": {
    "colab": {
      "provenance": []
    },
    "kaggle": {
      "accelerator": "nvidiaTeslaT4",
      "dataSources": [
        {
          "datasetId": 6572001,
          "sourceId": 10615471,
          "sourceType": "datasetVersion"
        }
      ],
      "dockerImageVersionId": 30840,
      "isGpuEnabled": true,
      "isInternetEnabled": true,
      "language": "python",
      "sourceType": "notebook"
    },
    "kernelspec": {
      "display_name": "Python 3",
      "name": "python3"
    },
    "language_info": {
      "codemirror_mode": {
        "name": "ipython",
        "version": 3
      },
      "file_extension": ".py",
      "mimetype": "text/x-python",
      "name": "python",
      "nbconvert_exporter": "python",
      "pygments_lexer": "ipython3",
      "version": "3.10.12"
    }
  },
  "nbformat": 4,
  "nbformat_minor": 0
}